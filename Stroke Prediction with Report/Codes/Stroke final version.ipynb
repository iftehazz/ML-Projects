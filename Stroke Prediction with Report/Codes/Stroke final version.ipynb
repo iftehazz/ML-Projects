{
  "nbformat": 4,
  "nbformat_minor": 0,
  "metadata": {
    "colab": {
      "provenance": []
    },
    "kernelspec": {
      "name": "python3",
      "display_name": "Python 3"
    },
    "language_info": {
      "name": "python"
    }
  },
  "cells": [
    {
      "cell_type": "code",
      "execution_count": null,
      "metadata": {
        "id": "_PscccScqDMW"
      },
      "outputs": [],
      "source": [
        "\n",
        "import pandas as pd\n",
        "import numpy as np\n",
        "from sklearn.metrics import confusion_matrix\n",
        "from sklearn.model_selection import KFold\n",
        "from sklearn.model_selection import train_test_split\n",
        "from sklearn import preprocessing\n",
        "import seaborn as sns\n",
        "import matplotlib.pyplot as plt\n",
        "from sklearn.preprocessing import LabelEncoder\n",
        "from sklearn import metrics\n",
        "from sklearn.model_selection import train_test_split\n",
        "from sklearn.metrics import classification_report, confusion_matrix\n",
        "from sklearn.metrics import accuracy_score\n",
        "from sklearn.linear_model import LogisticRegression\n",
        "from sklearn.naive_bayes import GaussianNB\n",
        "from sklearn.neighbors import KNeighborsClassifier\n",
        "from sklearn.svm import SVC\n",
        "from sklearn.ensemble import RandomForestClassifier\n",
        "from sklearn.ensemble import GradientBoostingClassifier\n",
        "from xgboost.sklearn import XGBClassifier\n",
        "from sklearn.ensemble import AdaBoostClassifier\n",
        "from sklearn.tree import DecisionTreeClassifier\n",
        "from sklearn.metrics import precision_recall_fscore_support"
      ]
    },
    {
      "cell_type": "code",
      "source": [
        "dataset = pd.read_csv(\"stroke.csv\", header = 0)\n",
        "dataset"
      ],
      "metadata": {
        "colab": {
          "base_uri": "https://localhost:8080/",
          "height": 423
        },
        "id": "aUnEt0C9rzN7",
        "outputId": "524e29dc-7af3-4c79-df05-5e309d2169fc"
      },
      "execution_count": null,
      "outputs": [
        {
          "output_type": "execute_result",
          "data": {
            "text/plain": [
              "         id  gender   age  hypertension  heart_disease ever_married  \\\n",
              "0      9046    Male  67.0             0              1          Yes   \n",
              "1     51676  Female  61.0             0              0          Yes   \n",
              "2     31112    Male  80.0             0              1          Yes   \n",
              "3     60182  Female  49.0             0              0          Yes   \n",
              "4      1665  Female  79.0             1              0          Yes   \n",
              "...     ...     ...   ...           ...            ...          ...   \n",
              "5105  18234  Female  80.0             1              0          Yes   \n",
              "5106  44873  Female  81.0             0              0          Yes   \n",
              "5107  19723  Female  35.0             0              0          Yes   \n",
              "5108  37544    Male  51.0             0              0          Yes   \n",
              "5109  44679  Female  44.0             0              0          Yes   \n",
              "\n",
              "          work_type Residence_type  avg_glucose_level   bmi   smoking_status  \\\n",
              "0           Private          Urban             228.69  36.6  formerly smoked   \n",
              "1     Self-employed          Rural             202.21   NaN     never smoked   \n",
              "2           Private          Rural             105.92  32.5     never smoked   \n",
              "3           Private          Urban             171.23  34.4           smokes   \n",
              "4     Self-employed          Rural             174.12  24.0     never smoked   \n",
              "...             ...            ...                ...   ...              ...   \n",
              "5105        Private          Urban              83.75   NaN     never smoked   \n",
              "5106  Self-employed          Urban             125.20  40.0     never smoked   \n",
              "5107  Self-employed          Rural              82.99  30.6     never smoked   \n",
              "5108        Private          Rural             166.29  25.6  formerly smoked   \n",
              "5109       Govt_job          Urban              85.28  26.2          Unknown   \n",
              "\n",
              "      stroke  \n",
              "0          1  \n",
              "1          1  \n",
              "2          1  \n",
              "3          1  \n",
              "4          1  \n",
              "...      ...  \n",
              "5105       0  \n",
              "5106       0  \n",
              "5107       0  \n",
              "5108       0  \n",
              "5109       0  \n",
              "\n",
              "[5110 rows x 12 columns]"
            ],
            "text/html": [
              "\n",
              "  <div id=\"df-979714cc-d855-428c-bebd-3c4d7d8a3863\">\n",
              "    <div class=\"colab-df-container\">\n",
              "      <div>\n",
              "<style scoped>\n",
              "    .dataframe tbody tr th:only-of-type {\n",
              "        vertical-align: middle;\n",
              "    }\n",
              "\n",
              "    .dataframe tbody tr th {\n",
              "        vertical-align: top;\n",
              "    }\n",
              "\n",
              "    .dataframe thead th {\n",
              "        text-align: right;\n",
              "    }\n",
              "</style>\n",
              "<table border=\"1\" class=\"dataframe\">\n",
              "  <thead>\n",
              "    <tr style=\"text-align: right;\">\n",
              "      <th></th>\n",
              "      <th>id</th>\n",
              "      <th>gender</th>\n",
              "      <th>age</th>\n",
              "      <th>hypertension</th>\n",
              "      <th>heart_disease</th>\n",
              "      <th>ever_married</th>\n",
              "      <th>work_type</th>\n",
              "      <th>Residence_type</th>\n",
              "      <th>avg_glucose_level</th>\n",
              "      <th>bmi</th>\n",
              "      <th>smoking_status</th>\n",
              "      <th>stroke</th>\n",
              "    </tr>\n",
              "  </thead>\n",
              "  <tbody>\n",
              "    <tr>\n",
              "      <th>0</th>\n",
              "      <td>9046</td>\n",
              "      <td>Male</td>\n",
              "      <td>67.0</td>\n",
              "      <td>0</td>\n",
              "      <td>1</td>\n",
              "      <td>Yes</td>\n",
              "      <td>Private</td>\n",
              "      <td>Urban</td>\n",
              "      <td>228.69</td>\n",
              "      <td>36.6</td>\n",
              "      <td>formerly smoked</td>\n",
              "      <td>1</td>\n",
              "    </tr>\n",
              "    <tr>\n",
              "      <th>1</th>\n",
              "      <td>51676</td>\n",
              "      <td>Female</td>\n",
              "      <td>61.0</td>\n",
              "      <td>0</td>\n",
              "      <td>0</td>\n",
              "      <td>Yes</td>\n",
              "      <td>Self-employed</td>\n",
              "      <td>Rural</td>\n",
              "      <td>202.21</td>\n",
              "      <td>NaN</td>\n",
              "      <td>never smoked</td>\n",
              "      <td>1</td>\n",
              "    </tr>\n",
              "    <tr>\n",
              "      <th>2</th>\n",
              "      <td>31112</td>\n",
              "      <td>Male</td>\n",
              "      <td>80.0</td>\n",
              "      <td>0</td>\n",
              "      <td>1</td>\n",
              "      <td>Yes</td>\n",
              "      <td>Private</td>\n",
              "      <td>Rural</td>\n",
              "      <td>105.92</td>\n",
              "      <td>32.5</td>\n",
              "      <td>never smoked</td>\n",
              "      <td>1</td>\n",
              "    </tr>\n",
              "    <tr>\n",
              "      <th>3</th>\n",
              "      <td>60182</td>\n",
              "      <td>Female</td>\n",
              "      <td>49.0</td>\n",
              "      <td>0</td>\n",
              "      <td>0</td>\n",
              "      <td>Yes</td>\n",
              "      <td>Private</td>\n",
              "      <td>Urban</td>\n",
              "      <td>171.23</td>\n",
              "      <td>34.4</td>\n",
              "      <td>smokes</td>\n",
              "      <td>1</td>\n",
              "    </tr>\n",
              "    <tr>\n",
              "      <th>4</th>\n",
              "      <td>1665</td>\n",
              "      <td>Female</td>\n",
              "      <td>79.0</td>\n",
              "      <td>1</td>\n",
              "      <td>0</td>\n",
              "      <td>Yes</td>\n",
              "      <td>Self-employed</td>\n",
              "      <td>Rural</td>\n",
              "      <td>174.12</td>\n",
              "      <td>24.0</td>\n",
              "      <td>never smoked</td>\n",
              "      <td>1</td>\n",
              "    </tr>\n",
              "    <tr>\n",
              "      <th>...</th>\n",
              "      <td>...</td>\n",
              "      <td>...</td>\n",
              "      <td>...</td>\n",
              "      <td>...</td>\n",
              "      <td>...</td>\n",
              "      <td>...</td>\n",
              "      <td>...</td>\n",
              "      <td>...</td>\n",
              "      <td>...</td>\n",
              "      <td>...</td>\n",
              "      <td>...</td>\n",
              "      <td>...</td>\n",
              "    </tr>\n",
              "    <tr>\n",
              "      <th>5105</th>\n",
              "      <td>18234</td>\n",
              "      <td>Female</td>\n",
              "      <td>80.0</td>\n",
              "      <td>1</td>\n",
              "      <td>0</td>\n",
              "      <td>Yes</td>\n",
              "      <td>Private</td>\n",
              "      <td>Urban</td>\n",
              "      <td>83.75</td>\n",
              "      <td>NaN</td>\n",
              "      <td>never smoked</td>\n",
              "      <td>0</td>\n",
              "    </tr>\n",
              "    <tr>\n",
              "      <th>5106</th>\n",
              "      <td>44873</td>\n",
              "      <td>Female</td>\n",
              "      <td>81.0</td>\n",
              "      <td>0</td>\n",
              "      <td>0</td>\n",
              "      <td>Yes</td>\n",
              "      <td>Self-employed</td>\n",
              "      <td>Urban</td>\n",
              "      <td>125.20</td>\n",
              "      <td>40.0</td>\n",
              "      <td>never smoked</td>\n",
              "      <td>0</td>\n",
              "    </tr>\n",
              "    <tr>\n",
              "      <th>5107</th>\n",
              "      <td>19723</td>\n",
              "      <td>Female</td>\n",
              "      <td>35.0</td>\n",
              "      <td>0</td>\n",
              "      <td>0</td>\n",
              "      <td>Yes</td>\n",
              "      <td>Self-employed</td>\n",
              "      <td>Rural</td>\n",
              "      <td>82.99</td>\n",
              "      <td>30.6</td>\n",
              "      <td>never smoked</td>\n",
              "      <td>0</td>\n",
              "    </tr>\n",
              "    <tr>\n",
              "      <th>5108</th>\n",
              "      <td>37544</td>\n",
              "      <td>Male</td>\n",
              "      <td>51.0</td>\n",
              "      <td>0</td>\n",
              "      <td>0</td>\n",
              "      <td>Yes</td>\n",
              "      <td>Private</td>\n",
              "      <td>Rural</td>\n",
              "      <td>166.29</td>\n",
              "      <td>25.6</td>\n",
              "      <td>formerly smoked</td>\n",
              "      <td>0</td>\n",
              "    </tr>\n",
              "    <tr>\n",
              "      <th>5109</th>\n",
              "      <td>44679</td>\n",
              "      <td>Female</td>\n",
              "      <td>44.0</td>\n",
              "      <td>0</td>\n",
              "      <td>0</td>\n",
              "      <td>Yes</td>\n",
              "      <td>Govt_job</td>\n",
              "      <td>Urban</td>\n",
              "      <td>85.28</td>\n",
              "      <td>26.2</td>\n",
              "      <td>Unknown</td>\n",
              "      <td>0</td>\n",
              "    </tr>\n",
              "  </tbody>\n",
              "</table>\n",
              "<p>5110 rows × 12 columns</p>\n",
              "</div>\n",
              "      <button class=\"colab-df-convert\" onclick=\"convertToInteractive('df-979714cc-d855-428c-bebd-3c4d7d8a3863')\"\n",
              "              title=\"Convert this dataframe to an interactive table.\"\n",
              "              style=\"display:none;\">\n",
              "        \n",
              "  <svg xmlns=\"http://www.w3.org/2000/svg\" height=\"24px\"viewBox=\"0 0 24 24\"\n",
              "       width=\"24px\">\n",
              "    <path d=\"M0 0h24v24H0V0z\" fill=\"none\"/>\n",
              "    <path d=\"M18.56 5.44l.94 2.06.94-2.06 2.06-.94-2.06-.94-.94-2.06-.94 2.06-2.06.94zm-11 1L8.5 8.5l.94-2.06 2.06-.94-2.06-.94L8.5 2.5l-.94 2.06-2.06.94zm10 10l.94 2.06.94-2.06 2.06-.94-2.06-.94-.94-2.06-.94 2.06-2.06.94z\"/><path d=\"M17.41 7.96l-1.37-1.37c-.4-.4-.92-.59-1.43-.59-.52 0-1.04.2-1.43.59L10.3 9.45l-7.72 7.72c-.78.78-.78 2.05 0 2.83L4 21.41c.39.39.9.59 1.41.59.51 0 1.02-.2 1.41-.59l7.78-7.78 2.81-2.81c.8-.78.8-2.07 0-2.86zM5.41 20L4 18.59l7.72-7.72 1.47 1.35L5.41 20z\"/>\n",
              "  </svg>\n",
              "      </button>\n",
              "      \n",
              "  <style>\n",
              "    .colab-df-container {\n",
              "      display:flex;\n",
              "      flex-wrap:wrap;\n",
              "      gap: 12px;\n",
              "    }\n",
              "\n",
              "    .colab-df-convert {\n",
              "      background-color: #E8F0FE;\n",
              "      border: none;\n",
              "      border-radius: 50%;\n",
              "      cursor: pointer;\n",
              "      display: none;\n",
              "      fill: #1967D2;\n",
              "      height: 32px;\n",
              "      padding: 0 0 0 0;\n",
              "      width: 32px;\n",
              "    }\n",
              "\n",
              "    .colab-df-convert:hover {\n",
              "      background-color: #E2EBFA;\n",
              "      box-shadow: 0px 1px 2px rgba(60, 64, 67, 0.3), 0px 1px 3px 1px rgba(60, 64, 67, 0.15);\n",
              "      fill: #174EA6;\n",
              "    }\n",
              "\n",
              "    [theme=dark] .colab-df-convert {\n",
              "      background-color: #3B4455;\n",
              "      fill: #D2E3FC;\n",
              "    }\n",
              "\n",
              "    [theme=dark] .colab-df-convert:hover {\n",
              "      background-color: #434B5C;\n",
              "      box-shadow: 0px 1px 3px 1px rgba(0, 0, 0, 0.15);\n",
              "      filter: drop-shadow(0px 1px 2px rgba(0, 0, 0, 0.3));\n",
              "      fill: #FFFFFF;\n",
              "    }\n",
              "  </style>\n",
              "\n",
              "      <script>\n",
              "        const buttonEl =\n",
              "          document.querySelector('#df-979714cc-d855-428c-bebd-3c4d7d8a3863 button.colab-df-convert');\n",
              "        buttonEl.style.display =\n",
              "          google.colab.kernel.accessAllowed ? 'block' : 'none';\n",
              "\n",
              "        async function convertToInteractive(key) {\n",
              "          const element = document.querySelector('#df-979714cc-d855-428c-bebd-3c4d7d8a3863');\n",
              "          const dataTable =\n",
              "            await google.colab.kernel.invokeFunction('convertToInteractive',\n",
              "                                                     [key], {});\n",
              "          if (!dataTable) return;\n",
              "\n",
              "          const docLinkHtml = 'Like what you see? Visit the ' +\n",
              "            '<a target=\"_blank\" href=https://colab.research.google.com/notebooks/data_table.ipynb>data table notebook</a>'\n",
              "            + ' to learn more about interactive tables.';\n",
              "          element.innerHTML = '';\n",
              "          dataTable['output_type'] = 'display_data';\n",
              "          await google.colab.output.renderOutput(dataTable, element);\n",
              "          const docLink = document.createElement('div');\n",
              "          docLink.innerHTML = docLinkHtml;\n",
              "          element.appendChild(docLink);\n",
              "        }\n",
              "      </script>\n",
              "    </div>\n",
              "  </div>\n",
              "  "
            ]
          },
          "metadata": {},
          "execution_count": 2
        }
      ]
    },
    {
      "cell_type": "code",
      "source": [
        "dataset.info()\n"
      ],
      "metadata": {
        "colab": {
          "base_uri": "https://localhost:8080/"
        },
        "id": "yTTwAUAWsAaH",
        "outputId": "e420bfd9-4fb4-4133-e143-d8e44e1ba393"
      },
      "execution_count": null,
      "outputs": [
        {
          "output_type": "stream",
          "name": "stdout",
          "text": [
            "<class 'pandas.core.frame.DataFrame'>\n",
            "RangeIndex: 5110 entries, 0 to 5109\n",
            "Data columns (total 12 columns):\n",
            " #   Column             Non-Null Count  Dtype  \n",
            "---  ------             --------------  -----  \n",
            " 0   id                 5110 non-null   int64  \n",
            " 1   gender             5110 non-null   object \n",
            " 2   age                5110 non-null   float64\n",
            " 3   hypertension       5110 non-null   int64  \n",
            " 4   heart_disease      5110 non-null   int64  \n",
            " 5   ever_married       5110 non-null   object \n",
            " 6   work_type          5110 non-null   object \n",
            " 7   Residence_type     5110 non-null   object \n",
            " 8   avg_glucose_level  5110 non-null   float64\n",
            " 9   bmi                4909 non-null   float64\n",
            " 10  smoking_status     5110 non-null   object \n",
            " 11  stroke             5110 non-null   int64  \n",
            "dtypes: float64(3), int64(4), object(5)\n",
            "memory usage: 479.2+ KB\n"
          ]
        }
      ]
    },
    {
      "cell_type": "code",
      "source": [
        "dataset.isnull().sum()"
      ],
      "metadata": {
        "colab": {
          "base_uri": "https://localhost:8080/"
        },
        "id": "r8p_fjaTsDKz",
        "outputId": "8583d743-1a30-4f6a-d6f4-e448d9b7015d"
      },
      "execution_count": null,
      "outputs": [
        {
          "output_type": "execute_result",
          "data": {
            "text/plain": [
              "id                     0\n",
              "gender                 0\n",
              "age                    0\n",
              "hypertension           0\n",
              "heart_disease          0\n",
              "ever_married           0\n",
              "work_type              0\n",
              "Residence_type         0\n",
              "avg_glucose_level      0\n",
              "bmi                  201\n",
              "smoking_status         0\n",
              "stroke                 0\n",
              "dtype: int64"
            ]
          },
          "metadata": {},
          "execution_count": 5
        }
      ]
    },
    {
      "cell_type": "code",
      "source": [
        "# dataset['bmi'].fillna(dataset['bmi'].median(), inplace=True)\n",
        "dataset.dropna(inplace=True)"
      ],
      "metadata": {
        "id": "8jmGuKjusFew"
      },
      "execution_count": null,
      "outputs": []
    },
    {
      "cell_type": "code",
      "source": [],
      "metadata": {
        "id": "H_VffUVmu92I"
      },
      "execution_count": null,
      "outputs": []
    },
    {
      "cell_type": "code",
      "source": [
        "labels,counts = pd.factorize(dataset['gender'])\n",
        "dataset['gender'] = labels\n",
        "labels,counts = pd.factorize(dataset['ever_married'])\n",
        "dataset['ever_married'] = labels\n",
        "labels,counts = pd.factorize(dataset['work_type'])\n",
        "dataset['work_type'] = labels\n",
        "labels,counts = pd.factorize(dataset['Residence_type'])\n",
        "dataset['Residence_type'] = labels\n",
        "labels,counts = pd.factorize(dataset['smoking_status'])\n",
        "dataset['smoking_status'] = labels"
      ],
      "metadata": {
        "id": "Nh2LmgwtvHrF"
      },
      "execution_count": null,
      "outputs": []
    },
    {
      "cell_type": "code",
      "source": [
        "dataset['ever_married']"
      ],
      "metadata": {
        "colab": {
          "base_uri": "https://localhost:8080/"
        },
        "id": "hOVJoMk_AoB8",
        "outputId": "9f3af313-d4fe-4918-9e6e-f5443f510b0b"
      },
      "execution_count": null,
      "outputs": [
        {
          "output_type": "execute_result",
          "data": {
            "text/plain": [
              "0       0\n",
              "2       0\n",
              "3       0\n",
              "4       0\n",
              "5       0\n",
              "       ..\n",
              "5104    1\n",
              "5106    0\n",
              "5107    0\n",
              "5108    0\n",
              "5109    0\n",
              "Name: ever_married, Length: 4909, dtype: int64"
            ]
          },
          "metadata": {},
          "execution_count": 8
        }
      ]
    },
    {
      "cell_type": "code",
      "source": [
        "X = dataset.iloc[:, 1:-1].values\n",
        "y = dataset.iloc[:, -1].values\n",
        "X = preprocessing.normalize(X)\n",
        "y"
      ],
      "metadata": {
        "id": "hItCaD7MwCyl",
        "colab": {
          "base_uri": "https://localhost:8080/"
        },
        "outputId": "6a3148fd-be9b-4ce3-d8cb-0c6e60593329"
      },
      "execution_count": null,
      "outputs": [
        {
          "output_type": "execute_result",
          "data": {
            "text/plain": [
              "array([1, 1, 1, ..., 0, 0, 0])"
            ]
          },
          "metadata": {},
          "execution_count": 9
        }
      ]
    },
    {
      "cell_type": "code",
      "source": [
        "plt.title('Stroke Ratio')\n",
        "plt.xlabel('Stroke or Not Stroke')\n",
        "plt.ylabel('Count')\n",
        "\n",
        "dataset['stroke'].value_counts().plot.bar(color=['green', 'red'],edgecolor='blue')"
      ],
      "metadata": {
        "colab": {
          "base_uri": "https://localhost:8080/",
          "height": 310
        },
        "id": "AQkNh4mo-dEu",
        "outputId": "c739fa72-903d-4205-d8db-845df4222c9e"
      },
      "execution_count": null,
      "outputs": [
        {
          "output_type": "execute_result",
          "data": {
            "text/plain": [
              "<matplotlib.axes._subplots.AxesSubplot at 0x7f5785d507c0>"
            ]
          },
          "metadata": {},
          "execution_count": 10
        },
        {
          "output_type": "display_data",
          "data": {
            "text/plain": [
              "<Figure size 432x288 with 1 Axes>"
            ],
            "image/png": "[encoded data removed]"
          },
          "metadata": {
            "needs_background": "light"
          }
        }
      ]
    },
    {
      "cell_type": "code",
      "source": [
        "dataset['stroke'].value_counts()"
      ],
      "metadata": {
        "colab": {
          "base_uri": "https://localhost:8080/"
        },
        "id": "zrTmUmA6IAsz",
        "outputId": "1cfd8402-5342-4cee-b041-3e5fd21c3d11"
      },
      "execution_count": null,
      "outputs": [
        {
          "output_type": "execute_result",
          "data": {
            "text/plain": [
              "0    4700\n",
              "1     209\n",
              "Name: stroke, dtype: int64"
            ]
          },
          "metadata": {},
          "execution_count": 11
        }
      ]
    },
    {
      "cell_type": "markdown",
      "source": [
        "**Before SMOTE**"
      ],
      "metadata": {
        "id": "rOHwdLt5Br3p"
      }
    },
    {
      "cell_type": "code",
      "source": [
        "def CFM(y_test, y_pred,clf):\n",
        "  conf_matrix = confusion_matrix(y_test, y_pred)\n",
        "\n",
        "  fig, ax = plt.subplots(figsize=(7.5, 7.5))\n",
        "  ax.matshow(conf_matrix, cmap=plt.cm.Blues, alpha=0.3)\n",
        "  for i in range(conf_matrix.shape[0]):\n",
        "      for j in range(conf_matrix.shape[1]):\n",
        "          ax.text(x=j, y=i,s=conf_matrix[i, j], va='center', ha='center', size='xx-large')\n",
        "          \n",
        "  plt.xlabel('Predictions', fontsize=18)\n",
        "  plt.ylabel('Actuals', fontsize=18)\n",
        "  plt.title(f'Confusion Matrix of {clf}', fontsize=18)\n",
        "  plt.show()\n"
      ],
      "metadata": {
        "id": "l8qCSBk3_SRL"
      },
      "execution_count": null,
      "outputs": []
    },
    {
      "cell_type": "code",
      "source": [],
      "metadata": {
        "id": "9Z9kSCp0YkGL"
      },
      "execution_count": null,
      "outputs": []
    },
    {
      "cell_type": "code",
      "source": [
        "#Logistic Regression\n",
        "bscvacc={}\n",
        "\n",
        "cv = KFold(n_splits=5, random_state=114, shuffle=True)\n",
        "avglog=[] #insert 5 accuracies to avg it later\n",
        "for train_index, test_index in cv.split(X):\n",
        "    x_train, x_test, y_train, y_test = X[train_index], X[test_index], y[train_index], y[test_index]\n",
        "    logistic_Regression = LogisticRegression(max_iter=1000,random_state=0)\n",
        "    logistic_Regression.fit(x_train,y_train)\n",
        "    pred_log = logistic_Regression.predict(x_test)\n",
        "    log = accuracy_score(pred_log,y_test)*100\n",
        "    avglog.append(log)\n",
        "    \n",
        "\n",
        "\n",
        "\n",
        "cvlog = sum(avglog)/len(avglog) # avg of 5 accuracy\n",
        "print(f\"The accuracy is {cvlog}\")\n",
        "li = {'Logistic Regression':cvlog}\n",
        "bscvacc.update(li)\n",
        "\n",
        "\n",
        "print(\"\")\n",
        "print(\"Before sampling without 5fold cv the accuracy is: \\n\")\n",
        "\n",
        "x_train, x_test, y_train, y_test = train_test_split(X, y, test_size = 0.25, random_state=114)\n",
        "\n",
        "logistic_Regression = LogisticRegression(max_iter=1000,random_state=0)\n",
        "logistic_Regression.fit(x_train,y_train)\n",
        "pred_log = logistic_Regression.predict(x_test)\n",
        "log = accuracy_score(pred_log,y_test)*100\n",
        "print(f\"without cv the accuracy of Logistic Regression is {log}\\n\\n\")\n",
        "print(classification_report(y_test, pred_log))\n",
        "print(\"\")\n",
        "CFM(y_test, pred_log,\"Logistic Regression\")\n",
        "\n"
      ],
      "metadata": {
        "id": "zPEr6oK098Tx",
        "colab": {
          "base_uri": "https://localhost:8080/",
          "height": 940
        },
        "outputId": "18c5d0eb-fabf-4fb6-bada-f8b42f4555b6"
      },
      "execution_count": null,
      "outputs": [
        {
          "output_type": "stream",
          "name": "stdout",
          "text": [
            "The accuracy is 95.742405085629\n",
            "\n",
            "Before sampling without 5fold cv the accuracy is: \n",
            "\n",
            "without cv the accuracy of Logistic Regression is 96.41693811074919\n",
            "\n",
            "\n",
            "              precision    recall  f1-score   support\n",
            "\n",
            "           0       0.96      1.00      0.98      1184\n",
            "           1       0.00      0.00      0.00        44\n",
            "\n",
            "    accuracy                           0.96      1228\n",
            "   macro avg       0.48      0.50      0.49      1228\n",
            "weighted avg       0.93      0.96      0.95      1228\n",
            "\n",
            "\n"
          ]
        },
        {
          "output_type": "stream",
          "name": "stderr",
          "text": [
            "/usr/local/lib/python3.8/dist-packages/sklearn/metrics/_classification.py:1318: UndefinedMetricWarning: Precision and F-score are ill-defined and being set to 0.0 in labels with no predicted samples. Use `zero_division` parameter to control this behavior.\n",
            "  _warn_prf(average, modifier, msg_start, len(result))\n",
            "/usr/local/lib/python3.8/dist-packages/sklearn/metrics/_classification.py:1318: UndefinedMetricWarning: Precision and F-score are ill-defined and being set to 0.0 in labels with no predicted samples. Use `zero_division` parameter to control this behavior.\n",
            "  _warn_prf(average, modifier, msg_start, len(result))\n",
            "/usr/local/lib/python3.8/dist-packages/sklearn/metrics/_classification.py:1318: UndefinedMetricWarning: Precision and F-score are ill-defined and being set to 0.0 in labels with no predicted samples. Use `zero_division` parameter to control this behavior.\n",
            "  _warn_prf(average, modifier, msg_start, len(result))\n"
          ]
        },
        {
          "output_type": "display_data",
          "data": {
            "text/plain": [
              "<Figure size 540x540 with 1 Axes>"
            ],
            "image/png": "[encoded data removed]"
          },
          "metadata": {
            "needs_background": "light"
          }
        }
      ]
    },
    {
      "cell_type": "code",
      "source": [
        "precision_recall_fscore_support(y_test, pred_log, average='macro')"
      ],
      "metadata": {
        "colab": {
          "base_uri": "https://localhost:8080/"
        },
        "id": "NJmZ_9h7O4ak",
        "outputId": "11f6b688-3919-4f61-c601-9804cc4e7491"
      },
      "execution_count": null,
      "outputs": [
        {
          "output_type": "stream",
          "name": "stderr",
          "text": [
            "/usr/local/lib/python3.8/dist-packages/sklearn/metrics/_classification.py:1318: UndefinedMetricWarning: Precision and F-score are ill-defined and being set to 0.0 in labels with no predicted samples. Use `zero_division` parameter to control this behavior.\n",
            "  _warn_prf(average, modifier, msg_start, len(result))\n"
          ]
        },
        {
          "output_type": "execute_result",
          "data": {
            "text/plain": [
              "(0.4820846905537459, 0.5, 0.49087893864013266, None)"
            ]
          },
          "metadata": {},
          "execution_count": 14
        }
      ]
    },
    {
      "cell_type": "code",
      "source": [
        "y_proba = logistic_Regression.predict_proba(x_test)\n",
        "from sklearn.metrics import roc_curve\n",
        "from sklearn.metrics import RocCurveDisplay\n",
        "def plot_sklearn_roc_curve(y_real, y_pred,clf):\n",
        "    fpr, tpr, _ = roc_curve(y_real, y_pred)\n",
        "    roc_display = RocCurveDisplay(fpr=fpr, tpr=tpr).plot()\n",
        "    roc_display.figure_.set_size_inches(5,5)\n",
        "    plt.plot([0, 1], [0, 1], color = 'g')\n",
        "    plt.title(f\"ROC curve of {clf}\")\n",
        "\n",
        "plot_sklearn_roc_curve(y_test, y_proba[:, 1],\"Logistic Regression Before Sampling\")"
      ],
      "metadata": {
        "colab": {
          "base_uri": "https://localhost:8080/",
          "height": 350
        },
        "id": "iRnFV1lC1J_8",
        "outputId": "e84e9bab-f886-4bd0-bbea-71d9833697e2"
      },
      "execution_count": null,
      "outputs": [
        {
          "output_type": "display_data",
          "data": {
            "text/plain": [
              "<Figure size 360x360 with 1 Axes>"
            ],
            "image/png": "[encoded data removed]"
          },
          "metadata": {
            "needs_background": "light"
          }
        }
      ]
    },
    {
      "cell_type": "code",
      "source": [
        "\n",
        "\n",
        "#Decision Tree\n",
        "cv = KFold(n_splits=5, random_state=114, shuffle=True)\n",
        "avgdt=[]\n",
        "for train_index, test_index in cv.split(X):\n",
        "    x_train, x_test, y_train, y_test = X[train_index], X[test_index], y[train_index], y[test_index]\n",
        "\n",
        "    dt = DecisionTreeClassifier(criterion='entropy',max_depth=20,random_state=0)\n",
        "    dt.fit(x_train,y_train)\n",
        "    pred_dt = dt.predict(x_test)\n",
        "    dta = accuracy_score(pred_dt,y_test)*100\n",
        "    avgdt.append(dta)\n",
        "    \n",
        "\n",
        "\n",
        "cvdt = sum(avgdt)/len(avgdt)\n",
        "print(f\"The accuracy is {cvdt}\")\n",
        "ddt = {'DT':cvdt}\n",
        "bscvacc.update(ddt)\n",
        "\n",
        "\n",
        "\n",
        "\n",
        "print(\"\")\n",
        "print(\"Before sampling without 5fold cv the accuracy is: \\n\")\n",
        "\n",
        "x_train, x_test, y_train, y_test = train_test_split(X, y, test_size = 0.25, random_state=114)\n",
        "\n",
        "dt = DecisionTreeClassifier(criterion='entropy',max_depth=20,random_state=0)\n",
        "dt.fit(x_train,y_train)\n",
        "pred_dt = dt.predict(x_test)\n",
        "dta = accuracy_score(pred_dt,y_test)*100\n",
        "print(f\"without cv the accuracy of Decision Tree Classifier is {dta}\\n\\n\")\n",
        "print(classification_report(y_test, pred_dt))\n",
        "print(\"\")\n",
        "CFM(y_test, pred_dt,\"Decision Tree\")\n",
        "\n",
        "\n"
      ],
      "metadata": {
        "colab": {
          "base_uri": "https://localhost:8080/",
          "height": 811
        },
        "id": "wCmSYkbSiE4B",
        "outputId": "d701e3e5-2617-4daa-c2ec-06053581f705"
      },
      "execution_count": null,
      "outputs": [
        {
          "output_type": "stream",
          "name": "stdout",
          "text": [
            "The accuracy is 92.31996528750953\n",
            "\n",
            "Before sampling without 5fold cv the accuracy is: \n",
            "\n",
            "without cv the accuracy of Decision Tree Classifier is 92.99674267100977\n",
            "\n",
            "\n",
            "              precision    recall  f1-score   support\n",
            "\n",
            "           0       0.96      0.96      0.96      1184\n",
            "           1       0.04      0.05      0.04        44\n",
            "\n",
            "    accuracy                           0.93      1228\n",
            "   macro avg       0.50      0.50      0.50      1228\n",
            "weighted avg       0.93      0.93      0.93      1228\n",
            "\n",
            "\n"
          ]
        },
        {
          "output_type": "display_data",
          "data": {
            "text/plain": [
              "<Figure size 540x540 with 1 Axes>"
            ],
            "image/png": "[encoded data removed]"
          },
          "metadata": {
            "needs_background": "light"
          }
        }
      ]
    },
    {
      "cell_type": "code",
      "source": [
        "precision_recall_fscore_support(y_test, pred_dt, average='macro')"
      ],
      "metadata": {
        "colab": {
          "base_uri": "https://localhost:8080/"
        },
        "id": "e0pXmAgiPHEd",
        "outputId": "1d48e727-ddf5-42d3-d093-6098dd56d432"
      },
      "execution_count": null,
      "outputs": [
        {
          "output_type": "execute_result",
          "data": {
            "text/plain": [
              "(0.5039726329728537, 0.5041461916461917, 0.5040480886634733, None)"
            ]
          },
          "metadata": {},
          "execution_count": 17
        }
      ]
    },
    {
      "cell_type": "code",
      "source": [
        "#find optimum k for KNN\n",
        "x_train, x_test, y_train, y_test = train_test_split(X, y, test_size = 0.25, random_state=114)\n",
        "error=[]\n",
        "for i in range(1,20):\n",
        "    knn = KNeighborsClassifier(n_neighbors=i)\n",
        "    knn.fit(x_train,y_train)\n",
        "    pred1=knn.predict(x_test)\n",
        "    error.append(np.mean(pred1!=y_test))\n",
        "plt.figure(figsize=(12,6))\n",
        "plt.plot(range(1,20),error,color='blue',linestyle='dashed',marker = 'o',markerfacecolor='red',markersize=5)\n",
        "plt.title('Error rate vs K value')\n",
        "plt.xlabel('k')\n",
        "plt.ylabel('error rate')"
      ],
      "metadata": {
        "colab": {
          "base_uri": "https://localhost:8080/",
          "height": 422
        },
        "id": "io0dYIdMj-Iz",
        "outputId": "2ea971cc-1c4f-4c1f-cd7a-1b134a91fca4"
      },
      "execution_count": null,
      "outputs": [
        {
          "output_type": "execute_result",
          "data": {
            "text/plain": [
              "Text(0, 0.5, 'error rate')"
            ]
          },
          "metadata": {},
          "execution_count": 18
        },
        {
          "output_type": "display_data",
          "data": {
            "text/plain": [
              "<Figure size 864x432 with 1 Axes>"
            ],
            "image/png": "[encoded data removed]"
          },
          "metadata": {
            "needs_background": "light"
          }
        }
      ]
    },
    {
      "cell_type": "code",
      "source": [
        "#KNN\n",
        "cv = KFold(n_splits=5, random_state=114, shuffle=True)\n",
        "avgknn=[]\n",
        "\n",
        "\n",
        "for train_index, test_index in cv.split(X):\n",
        "    x_train, x_test, y_train, y_test = X[train_index], X[test_index], y[train_index], y[test_index]\n",
        "\n",
        "    knn2 = KNeighborsClassifier(n_neighbors=11)\n",
        "    knn2.fit(x_train,y_train)\n",
        "    pred_knn2 = knn2.predict(x_test)\n",
        "    KNN2 = accuracy_score(pred_knn2,y_test)*100\n",
        "    avgknn.append(KNN2)\n",
        "\n",
        "\n",
        "\n",
        "cvknn = sum(avgknn)/len(avgknn)\n",
        "print(f\"The accuracy is {cvknn}\")\n",
        "kk = {'KNN':cvknn}\n",
        "bscvacc.update(kk)\n",
        "\n",
        "\n",
        "\n",
        "print(\"\")\n",
        "print(\"Before sampling without 5fold cv the accuracy is: \\n\")\n",
        "\n",
        "x_train, x_test, y_train, y_test = train_test_split(X, y, test_size = 0.25, random_state=114)\n",
        "\n",
        "\n",
        "knn2 = KNeighborsClassifier(n_neighbors=11)\n",
        "knn2.fit(x_train,y_train)\n",
        "pred_knn2 = knn2.predict(x_test)\n",
        "KNN2 = accuracy_score(pred_knn2,y_test)*100\n",
        "print(f\"without cv the accuracy of KNN is {KNN2}\\n\\n\")\n",
        "print(classification_report(y_test, pred_knn2))\n",
        "print(\"\")\n",
        "CFM(y_test, pred_knn2,\"KNN\")\n",
        "\n"
      ],
      "metadata": {
        "colab": {
          "base_uri": "https://localhost:8080/",
          "height": 811
        },
        "id": "RsEAsWNuwD-Z",
        "outputId": "4e0d77d8-0a0b-46f4-b8b2-d625459e4aff"
      },
      "execution_count": null,
      "outputs": [
        {
          "output_type": "stream",
          "name": "stdout",
          "text": [
            "The accuracy is 95.742405085629\n",
            "\n",
            "Before sampling without 5fold cv the accuracy is: \n",
            "\n",
            "without cv the accuracy of KNN is 96.33550488599349\n",
            "\n",
            "\n",
            "              precision    recall  f1-score   support\n",
            "\n",
            "           0       0.96      1.00      0.98      1184\n",
            "           1       0.00      0.00      0.00        44\n",
            "\n",
            "    accuracy                           0.96      1228\n",
            "   macro avg       0.48      0.50      0.49      1228\n",
            "weighted avg       0.93      0.96      0.95      1228\n",
            "\n",
            "\n"
          ]
        },
        {
          "output_type": "display_data",
          "data": {
            "text/plain": [
              "<Figure size 540x540 with 1 Axes>"
            ],
            "image/png": "[encoded data removed]"
          },
          "metadata": {
            "needs_background": "light"
          }
        }
      ]
    },
    {
      "cell_type": "code",
      "source": [
        "precision_recall_fscore_support(y_test, pred_knn2, average='macro')"
      ],
      "metadata": {
        "colab": {
          "base_uri": "https://localhost:8080/"
        },
        "id": "0PKda-42PKKD",
        "outputId": "399f450f-7ee1-4b70-aa11-6d9519b7f8f8"
      },
      "execution_count": null,
      "outputs": [
        {
          "output_type": "execute_result",
          "data": {
            "text/plain": [
              "(0.4820700896495517, 0.4995777027027027, 0.49066777270841977, None)"
            ]
          },
          "metadata": {},
          "execution_count": 20
        }
      ]
    },
    {
      "cell_type": "markdown",
      "source": [
        "### **After** **SMOTE**"
      ],
      "metadata": {
        "id": "uXWbY5nkLjsX"
      }
    },
    {
      "cell_type": "code",
      "source": [
        "from imblearn.over_sampling import SMOTE\n",
        "smote = SMOTE(random_state=0)\n",
        "Xnew, Ynew = smote.fit_resample(X,y)\n",
        "no0=(Ynew==0).sum()\n",
        "no1=len(Ynew)-no0\n",
        "\n",
        "Newd = {\n",
        "  \"Stroke\": Ynew\n",
        "}\n",
        "\n",
        "#load data into a DataFrame object:\n",
        "df = pd.DataFrame(Newd)\n",
        "df\n",
        "\n",
        "\n",
        "\n",
        "plt.title('Stroke Ratio')\n",
        "plt.xlabel('Stroke or Not Stroke')\n",
        "plt.ylabel('Count')\n",
        "\n",
        "df['Stroke'].value_counts().plot.bar(color=['green', 'red'],edgecolor='blue')"
      ],
      "metadata": {
        "colab": {
          "base_uri": "https://localhost:8080/",
          "height": 310
        },
        "id": "BaNO-sah_GK-",
        "outputId": "b7c6955c-dee1-4cd5-80b2-4a055238a3a5"
      },
      "execution_count": null,
      "outputs": [
        {
          "output_type": "execute_result",
          "data": {
            "text/plain": [
              "<matplotlib.axes._subplots.AxesSubplot at 0x7f5782a30670>"
            ]
          },
          "metadata": {},
          "execution_count": 21
        },
        {
          "output_type": "display_data",
          "data": {
            "text/plain": [
              "<Figure size 432x288 with 1 Axes>"
            ],
            "image/png": "[encoded data removed]"
          },
          "metadata": {
            "needs_background": "light"
          }
        }
      ]
    },
    {
      "cell_type": "code",
      "source": [
        "df['Stroke'].value_counts()"
      ],
      "metadata": {
        "colab": {
          "base_uri": "https://localhost:8080/"
        },
        "id": "MN37GRl0K9N4",
        "outputId": "b5789256-87c5-4f5f-fbb7-a65e9a4e2672"
      },
      "execution_count": null,
      "outputs": [
        {
          "output_type": "execute_result",
          "data": {
            "text/plain": [
              "1    4700\n",
              "0    4700\n",
              "Name: Stroke, dtype: int64"
            ]
          },
          "metadata": {},
          "execution_count": 22
        }
      ]
    },
    {
      "cell_type": "code",
      "source": [
        "#logistic Regression\n",
        "\n",
        "ascvacc={}\n",
        "\n",
        "cv = KFold(n_splits=5, random_state=114, shuffle=True)\n",
        "avglog=[]\n",
        "for train_index, test_index in cv.split(Xnew):\n",
        "    x_train, x_test, y_train, y_test = Xnew[train_index], Xnew[test_index], Ynew[train_index], Ynew[test_index]\n",
        "\n",
        "    logistic_Regression = LogisticRegression(max_iter=1000,random_state=0)\n",
        "    logistic_Regression.fit(x_train,y_train)\n",
        "    pred_log = logistic_Regression.predict(x_test)\n",
        "    log = accuracy_score(pred_log,y_test)*100\n",
        "    \n",
        "    avglog.append(log)\n",
        "\n",
        "\n",
        "cvlog = sum(avglog)/len(avglog)\n",
        "print(f\"The accuracy is {cvlog}\")\n",
        "li = {'Logistic Regression':cvlog}\n",
        "ascvacc.update(li)\n",
        "\n",
        "\n",
        "\n",
        "\n",
        "print(\"\")\n",
        "print(\"After sampling without 5fold cv the accuracy is: \\n\")\n",
        "\n",
        "x_train, x_test, y_train, y_test = train_test_split(Xnew, Ynew, test_size = 0.25, random_state=114)\n",
        "\n",
        "logistic_Regression = LogisticRegression(max_iter=1000,random_state=0)\n",
        "logistic_Regression.fit(x_train,y_train)\n",
        "pred_log = logistic_Regression.predict(x_test)\n",
        "log = accuracy_score(pred_log,y_test)*100\n",
        "print(f\"without cv the accuracy of Logistic Regression is {log}\\n\\n\")\n",
        "print(classification_report(y_test, pred_log))\n",
        "print(\"\")\n",
        "CFM(y_test, pred_log,\"Logistic Regression\")\n"
      ],
      "metadata": {
        "colab": {
          "base_uri": "https://localhost:8080/",
          "height": 811
        },
        "id": "YAcOwFb5khqu",
        "outputId": "0d3a1062-61a1-4f97-ac11-11eca9933e23"
      },
      "execution_count": null,
      "outputs": [
        {
          "output_type": "stream",
          "name": "stdout",
          "text": [
            "The accuracy is 70.72340425531915\n",
            "\n",
            "After sampling without 5fold cv the accuracy is: \n",
            "\n",
            "without cv the accuracy of Logistic Regression is 70.3404255319149\n",
            "\n",
            "\n",
            "              precision    recall  f1-score   support\n",
            "\n",
            "           0       0.72      0.66      0.69      1158\n",
            "           1       0.69      0.75      0.72      1192\n",
            "\n",
            "    accuracy                           0.70      2350\n",
            "   macro avg       0.70      0.70      0.70      2350\n",
            "weighted avg       0.70      0.70      0.70      2350\n",
            "\n",
            "\n"
          ]
        },
        {
          "output_type": "display_data",
          "data": {
            "text/plain": [
              "<Figure size 540x540 with 1 Axes>"
            ],
            "image/png": "[encoded data removed]"
          },
          "metadata": {
            "needs_background": "light"
          }
        }
      ]
    },
    {
      "cell_type": "code",
      "source": [
        "precision_recall_fscore_support(y_test, pred_log, average='macro')"
      ],
      "metadata": {
        "colab": {
          "base_uri": "https://localhost:8080/"
        },
        "id": "AoZplG22PPVI",
        "outputId": "2829e44d-90b5-4a12-f74b-52e3e379e8f2"
      },
      "execution_count": null,
      "outputs": [
        {
          "output_type": "execute_result",
          "data": {
            "text/plain": [
              "(0.7044667452177236, 0.7027817864635857, 0.7025627057087731, None)"
            ]
          },
          "metadata": {},
          "execution_count": 24
        }
      ]
    },
    {
      "cell_type": "code",
      "source": [
        "y_proba = logistic_Regression.predict_proba(x_test)\n",
        "from sklearn.metrics import roc_curve\n",
        "from sklearn.metrics import RocCurveDisplay\n",
        "def plot_sklearn_roc_curve(y_real, y_pred,clf):\n",
        "    fpr, tpr, _ = roc_curve(y_real, y_pred)\n",
        "    roc_display = RocCurveDisplay(fpr=fpr, tpr=tpr).plot()\n",
        "    roc_display.figure_.set_size_inches(5,5)\n",
        "    plt.plot([0, 1], [0, 1], color = 'g')\n",
        "    plt.title(f\"ROC curve of {clf}\")\n",
        "    \n",
        "plot_sklearn_roc_curve(y_test, y_proba[:, 1],\"Logistic Regression After Sampling\")"
      ],
      "metadata": {
        "colab": {
          "base_uri": "https://localhost:8080/",
          "height": 350
        },
        "id": "Axh9dnc53T9k",
        "outputId": "b4ecac0d-4d1d-4baa-f979-b3dd462bc5fc"
      },
      "execution_count": null,
      "outputs": [
        {
          "output_type": "display_data",
          "data": {
            "text/plain": [
              "<Figure size 360x360 with 1 Axes>"
            ],
            "image/png": "[encoded data removed]"
          },
          "metadata": {
            "needs_background": "light"
          }
        }
      ]
    },
    {
      "cell_type": "code",
      "source": [
        "#Decision Tree\n",
        "from imblearn.over_sampling import SMOTE\n",
        "smote = SMOTE(random_state=0)\n",
        "Xnew, Ynew = smote.fit_resample(X,y)\n",
        "\n",
        "\n",
        "cv = KFold(n_splits=5, random_state=114, shuffle=True)\n",
        "avgdt=[]\n",
        "for train_index, test_index in cv.split(Xnew):\n",
        "    x_train, x_test, y_train, y_test = Xnew[train_index], Xnew[test_index], Ynew[train_index], Ynew[test_index]\n",
        "\n",
        "    \n",
        "\n",
        "    dt = DecisionTreeClassifier(criterion='entropy',max_depth=10,random_state=0)\n",
        "    dt.fit(x_train,y_train)\n",
        "    pred_dt = dt.predict(x_test)\n",
        "    dta = accuracy_score(pred_dt,y_test)*100\n",
        "    avgdt.append(dta)\n",
        "\n",
        "\n",
        "cvdt = sum(avgdt)/len(avgdt)\n",
        "print(f\"The accuracy is {cvdt}\")\n",
        "ddt = {'DT':cvdt}\n",
        "ascvacc.update(ddt)\n",
        "\n",
        "\n",
        "\n",
        "\n",
        "\n",
        "print(\"\")\n",
        "print(\"After sampling without 5fold cv the accuracy is: \\n\")\n",
        "\n",
        "x_train, x_test, y_train, y_test = train_test_split(Xnew, Ynew, test_size = 0.25, random_state=114)\n",
        "\n",
        "\n",
        "\n",
        "dt = DecisionTreeClassifier(criterion='entropy',max_depth=20,random_state=0)\n",
        "dt.fit(x_train,y_train)\n",
        "pred_dt = dt.predict(x_test)\n",
        "dta = accuracy_score(pred_dt,y_test)*100\n",
        "print(f\"without cv the accuracy of Decision Tree Classifier is {dta}\\n\\n\")\n",
        "print(classification_report(y_test, pred_dt))\n",
        "print(\"\")\n",
        "CFM(y_test, pred_dt,\"Decision Tree Classifier\")\n",
        "\n",
        "\n"
      ],
      "metadata": {
        "colab": {
          "base_uri": "https://localhost:8080/",
          "height": 811
        },
        "id": "7pyC2_o1kdrm",
        "outputId": "0d293fde-e51a-46d2-d33a-4197e13ea6f8"
      },
      "execution_count": null,
      "outputs": [
        {
          "output_type": "stream",
          "name": "stdout",
          "text": [
            "The accuracy is 90.15957446808511\n",
            "\n",
            "After sampling without 5fold cv the accuracy is: \n",
            "\n",
            "without cv the accuracy of Decision Tree Classifier is 93.87234042553192\n",
            "\n",
            "\n",
            "              precision    recall  f1-score   support\n",
            "\n",
            "           0       0.94      0.93      0.94      1158\n",
            "           1       0.94      0.94      0.94      1192\n",
            "\n",
            "    accuracy                           0.94      2350\n",
            "   macro avg       0.94      0.94      0.94      2350\n",
            "weighted avg       0.94      0.94      0.94      2350\n",
            "\n",
            "\n"
          ]
        },
        {
          "output_type": "display_data",
          "data": {
            "text/plain": [
              "<Figure size 540x540 with 1 Axes>"
            ],
            "image/png": "[encoded data removed]"
          },
          "metadata": {
            "needs_background": "light"
          }
        }
      ]
    },
    {
      "cell_type": "code",
      "source": [
        "precision_recall_fscore_support(y_test, pred_dt, average='macro')"
      ],
      "metadata": {
        "colab": {
          "base_uri": "https://localhost:8080/"
        },
        "id": "B3oLm2zuPSGi",
        "outputId": "28eb9301-6027-486d-f0ca-d3863593f633"
      },
      "execution_count": null,
      "outputs": [
        {
          "output_type": "execute_result",
          "data": {
            "text/plain": [
              "(0.9388121619036023, 0.9386366797649268, 0.9386999165275458, None)"
            ]
          },
          "metadata": {},
          "execution_count": 27
        }
      ]
    },
    {
      "cell_type": "code",
      "source": [
        "y_proba = dt.predict_proba(x_test)\n",
        "from sklearn.metrics import roc_curve\n",
        "from sklearn.metrics import RocCurveDisplay\n",
        "def plot_sklearn_roc_curve(y_real, y_pred,clf):\n",
        "    fpr, tpr, _ = roc_curve(y_real, y_pred)\n",
        "    roc_display = RocCurveDisplay(fpr=fpr, tpr=tpr).plot()\n",
        "    roc_display.figure_.set_size_inches(5,5)\n",
        "    plt.plot([0, 1], [0, 1], color = 'g')\n",
        "    plt.title(f\"ROC curve of {clf}\")\n",
        "\n",
        "plot_sklearn_roc_curve(y_test, y_proba[:, 1],\"Decision Tree After Sampling\")"
      ],
      "metadata": {
        "colab": {
          "base_uri": "https://localhost:8080/",
          "height": 350
        },
        "id": "kCTpGBpg38Mg",
        "outputId": "525164b5-cefd-4acb-a2e3-a797a88349a3"
      },
      "execution_count": null,
      "outputs": [
        {
          "output_type": "display_data",
          "data": {
            "text/plain": [
              "<Figure size 360x360 with 1 Axes>"
            ],
            "image/png": "[encoded data removed]"
          },
          "metadata": {
            "needs_background": "light"
          }
        }
      ]
    },
    {
      "cell_type": "code",
      "source": [
        "#KNN\n",
        "from imblearn.over_sampling import SMOTE\n",
        "smote = SMOTE(random_state=0)\n",
        "Xnew, Ynew = smote.fit_resample(X,y)\n",
        "\n",
        "\n",
        "cv = KFold(n_splits=5, random_state=114, shuffle=True)\n",
        "avgknn=[]\n",
        "\n",
        "\n",
        "for train_index, test_index in cv.split(Xnew):\n",
        "    x_train, x_test, y_train, y_test = Xnew[train_index], Xnew[test_index], Ynew[train_index], Ynew[test_index]\n",
        "\n",
        "    knn2 = KNeighborsClassifier(n_neighbors=11)\n",
        "    knn2.fit(x_train,y_train)\n",
        "    pred_knn2 = knn2.predict(x_test)\n",
        "    KNN2 = accuracy_score(pred_knn2,y_test)*100\n",
        "\n",
        "    avgknn.append(KNN2)\n",
        "\n",
        "cvknn = sum(avgknn)/len(avgknn)\n",
        "print(f\"The accuracy is {cvknn}\")\n",
        "kk = {'KNN':cvknn}\n",
        "ascvacc.update(kk)\n",
        "\n",
        "\n",
        "print(\"\")\n",
        "print(\"After sampling without 5fold cv the accuracy is: \\n\")\n",
        "\n",
        "x_train, x_test, y_train, y_test = train_test_split(Xnew, Ynew, test_size = 0.25, random_state=114)\n",
        "\n",
        "\n",
        "knn2 = KNeighborsClassifier(n_neighbors=11)\n",
        "knn2.fit(x_train,y_train)\n",
        "pred_knn2 = knn2.predict(x_test)\n",
        "KNN2 = accuracy_score(pred_knn2,y_test)*100\n",
        "print(f\"without cv the accuracy of KNN is {KNN2}\\n\\n\")\n",
        "print(classification_report(y_test, pred_knn2))\n",
        "print(\"\")\n",
        "CFM(y_test, pred_knn2,\"KNN\")\n",
        "\n",
        "\n",
        "\n",
        "\n"
      ],
      "metadata": {
        "colab": {
          "base_uri": "https://localhost:8080/",
          "height": 811
        },
        "id": "_XXEoAKxxN6W",
        "outputId": "bb74a5be-22f5-4a35-ca50-5faa5f1c3266"
      },
      "execution_count": null,
      "outputs": [
        {
          "output_type": "stream",
          "name": "stdout",
          "text": [
            "The accuracy is 84.96808510638297\n",
            "\n",
            "After sampling without 5fold cv the accuracy is: \n",
            "\n",
            "without cv the accuracy of KNN is 84.25531914893617\n",
            "\n",
            "\n",
            "              precision    recall  f1-score   support\n",
            "\n",
            "           0       0.94      0.72      0.82      1158\n",
            "           1       0.78      0.96      0.86      1192\n",
            "\n",
            "    accuracy                           0.84      2350\n",
            "   macro avg       0.86      0.84      0.84      2350\n",
            "weighted avg       0.86      0.84      0.84      2350\n",
            "\n",
            "\n"
          ]
        },
        {
          "output_type": "display_data",
          "data": {
            "text/plain": [
              "<Figure size 540x540 with 1 Axes>"
            ],
            "image/png": "[encoded data removed]"
          },
          "metadata": {
            "needs_background": "light"
          }
        }
      ]
    },
    {
      "cell_type": "code",
      "source": [
        "precision_recall_fscore_support(y_test, pred_knn2, average='macro')"
      ],
      "metadata": {
        "colab": {
          "base_uri": "https://localhost:8080/"
        },
        "id": "sX9ZVyO6PUdy",
        "outputId": "9fe6d57d-6c57-4fa2-9cd2-c8e7e8854e3c"
      },
      "execution_count": null,
      "outputs": [
        {
          "output_type": "execute_result",
          "data": {
            "text/plain": [
              "(0.8624077223598428, 0.8408575882973421, 0.8398735636502125, None)"
            ]
          },
          "metadata": {},
          "execution_count": 30
        }
      ]
    },
    {
      "cell_type": "code",
      "source": [],
      "metadata": {
        "id": "wRLBMSNFPUj2"
      },
      "execution_count": null,
      "outputs": []
    },
    {
      "cell_type": "code",
      "source": [
        "y_proba = knn2.predict_proba(x_test)\n",
        "from sklearn.metrics import roc_curve\n",
        "from sklearn.metrics import RocCurveDisplay\n",
        "def plot_sklearn_roc_curve(y_real, y_pred,clf):\n",
        "    fpr, tpr, _ = roc_curve(y_real, y_pred)\n",
        "    roc_display = RocCurveDisplay(fpr=fpr, tpr=tpr).plot()\n",
        "    roc_display.figure_.set_size_inches(5,5)\n",
        "    plt.plot([0, 1], [0, 1], color = 'g')\n",
        "    plt.title(f\"ROC curve of {clf}\")\n",
        "plot_sklearn_roc_curve(y_test, y_proba[:, 1],\"KNN After Sampling\")\n"
      ],
      "metadata": {
        "colab": {
          "base_uri": "https://localhost:8080/",
          "height": 350
        },
        "id": "QI-ImcRT4fkh",
        "outputId": "27ffa565-1768-4237-96bb-314f19fbf88d"
      },
      "execution_count": null,
      "outputs": [
        {
          "output_type": "display_data",
          "data": {
            "text/plain": [
              "<Figure size 360x360 with 1 Axes>"
            ],
            "image/png": "[encoded data removed]"
          },
          "metadata": {
            "needs_background": "light"
          }
        }
      ]
    },
    {
      "cell_type": "code",
      "source": [],
      "metadata": {
        "id": "d0wsFQqHl2To"
      },
      "execution_count": null,
      "outputs": []
    }
  ]
}