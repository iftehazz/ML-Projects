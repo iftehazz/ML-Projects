{
  "nbformat": 4,
  "nbformat_minor": 0,
  "metadata": {
    "colab": {
      "provenance": []
    },
    "kernelspec": {
      "name": "python3",
      "display_name": "Python 3"
    },
    "language_info": {
      "name": "python"
    }
  },
  "cells": [
    {
      "cell_type": "code",
      "execution_count": null,
      "metadata": {
        "id": "qW9esuFYp_UM"
      },
      "outputs": [],
      "source": [
        "\n",
        "import pandas as pd\n",
        "import numpy as np\n",
        "from collections import Counter\n",
        "from math import log\n",
        "import math\n",
        "from sklearn.metrics import confusion_matrix\n",
        "from sklearn.model_selection import KFold\n",
        "from sklearn.model_selection import cross_val_score\n",
        "from sklearn.model_selection import train_test_split\n",
        "from sklearn import preprocessing\n",
        "import seaborn as sns\n",
        "import matplotlib.pyplot as plt\n",
        "from sklearn.preprocessing import LabelEncoder\n",
        "from sklearn import metrics\n",
        "from sklearn.model_selection import train_test_split\n",
        "from sklearn.metrics import classification_report, confusion_matrix\n",
        "from sklearn.metrics import accuracy_score\n",
        "from sklearn.linear_model import LogisticRegression\n",
        "from sklearn.naive_bayes import GaussianNB\n",
        "from sklearn.neighbors import KNeighborsClassifier\n",
        "from sklearn.svm import SVC\n",
        "from sklearn.ensemble import RandomForestClassifier\n",
        "from sklearn.ensemble import GradientBoostingClassifier\n",
        "from xgboost.sklearn import XGBClassifier\n",
        "from sklearn.ensemble import AdaBoostClassifier\n",
        "from sklearn.tree import DecisionTreeClassifier\n",
        "from yellowbrick.classifier import ROCAUC"
      ]
    },
    {
      "cell_type": "code",
      "source": [
        "dataset = pd.read_csv(\"cancer.csv\", header = 0)\n",
        "AccDict={}"
      ],
      "metadata": {
        "id": "3fnTM7iFuVPD"
      },
      "execution_count": null,
      "outputs": []
    },
    {
      "cell_type": "code",
      "source": [
        "dataset.head()"
      ],
      "metadata": {
        "colab": {
          "base_uri": "https://localhost:8080/",
          "height": 351
        },
        "id": "LeL4Pe5tyuTh",
        "outputId": "f0e8c124-3f91-4f13-914f-2ade2af0a167"
      },
      "execution_count": null,
      "outputs": [
        {
          "output_type": "execute_result",
          "data": {
            "text/plain": [
              "   index Patient Id  Age  Gender  Air Pollution  Alcohol use  Dust Allergy  \\\n",
              "0      0         P1   33       1              2            4             5   \n",
              "1      1        P10   17       1              3            1             5   \n",
              "2      2       P100   35       1              4            5             6   \n",
              "3      3      P1000   37       1              7            7             7   \n",
              "4      4       P101   46       1              6            8             7   \n",
              "\n",
              "   OccuPational Hazards  Genetic Risk  chronic Lung Disease  ...  Fatigue  \\\n",
              "0                     4             3                     2  ...        3   \n",
              "1                     3             4                     2  ...        1   \n",
              "2                     5             5                     4  ...        8   \n",
              "3                     7             6                     7  ...        4   \n",
              "4                     7             7                     6  ...        3   \n",
              "\n",
              "   Weight Loss  Shortness of Breath  Wheezing  Swallowing Difficulty  \\\n",
              "0            4                    2         2                      3   \n",
              "1            3                    7         8                      6   \n",
              "2            7                    9         2                      1   \n",
              "3            2                    3         1                      4   \n",
              "4            2                    4         1                      4   \n",
              "\n",
              "   Clubbing of Finger Nails  Frequent Cold  Dry Cough  Snoring   Level  \n",
              "0                         1              2          3        4     Low  \n",
              "1                         2              1          7        2  Medium  \n",
              "2                         4              6          7        2    High  \n",
              "3                         5              6          7        5    High  \n",
              "4                         2              4          2        3    High  \n",
              "\n",
              "[5 rows x 26 columns]"
            ],
            "text/html": [
              "\n",
              "  <div id=\"df-372c718b-d11e-43a5-8717-d506ae9c5170\">\n",
              "    <div class=\"colab-df-container\">\n",
              "      <div>\n",
              "<style scoped>\n",
              "    .dataframe tbody tr th:only-of-type {\n",
              "        vertical-align: middle;\n",
              "    }\n",
              "\n",
              "    .dataframe tbody tr th {\n",
              "        vertical-align: top;\n",
              "    }\n",
              "\n",
              "    .dataframe thead th {\n",
              "        text-align: right;\n",
              "    }\n",
              "</style>\n",
              "<table border=\"1\" class=\"dataframe\">\n",
              "  <thead>\n",
              "    <tr style=\"text-align: right;\">\n",
              "      <th></th>\n",
              "      <th>index</th>\n",
              "      <th>Patient Id</th>\n",
              "      <th>Age</th>\n",
              "      <th>Gender</th>\n",
              "      <th>Air Pollution</th>\n",
              "      <th>Alcohol use</th>\n",
              "      <th>Dust Allergy</th>\n",
              "      <th>OccuPational Hazards</th>\n",
              "      <th>Genetic Risk</th>\n",
              "      <th>chronic Lung Disease</th>\n",
              "      <th>...</th>\n",
              "      <th>Fatigue</th>\n",
              "      <th>Weight Loss</th>\n",
              "      <th>Shortness of Breath</th>\n",
              "      <th>Wheezing</th>\n",
              "      <th>Swallowing Difficulty</th>\n",
              "      <th>Clubbing of Finger Nails</th>\n",
              "      <th>Frequent Cold</th>\n",
              "      <th>Dry Cough</th>\n",
              "      <th>Snoring</th>\n",
              "      <th>Level</th>\n",
              "    </tr>\n",
              "  </thead>\n",
              "  <tbody>\n",
              "    <tr>\n",
              "      <th>0</th>\n",
              "      <td>0</td>\n",
              "      <td>P1</td>\n",
              "      <td>33</td>\n",
              "      <td>1</td>\n",
              "      <td>2</td>\n",
              "      <td>4</td>\n",
              "      <td>5</td>\n",
              "      <td>4</td>\n",
              "      <td>3</td>\n",
              "      <td>2</td>\n",
              "      <td>...</td>\n",
              "      <td>3</td>\n",
              "      <td>4</td>\n",
              "      <td>2</td>\n",
              "      <td>2</td>\n",
              "      <td>3</td>\n",
              "      <td>1</td>\n",
              "      <td>2</td>\n",
              "      <td>3</td>\n",
              "      <td>4</td>\n",
              "      <td>Low</td>\n",
              "    </tr>\n",
              "    <tr>\n",
              "      <th>1</th>\n",
              "      <td>1</td>\n",
              "      <td>P10</td>\n",
              "      <td>17</td>\n",
              "      <td>1</td>\n",
              "      <td>3</td>\n",
              "      <td>1</td>\n",
              "      <td>5</td>\n",
              "      <td>3</td>\n",
              "      <td>4</td>\n",
              "      <td>2</td>\n",
              "      <td>...</td>\n",
              "      <td>1</td>\n",
              "      <td>3</td>\n",
              "      <td>7</td>\n",
              "      <td>8</td>\n",
              "      <td>6</td>\n",
              "      <td>2</td>\n",
              "      <td>1</td>\n",
              "      <td>7</td>\n",
              "      <td>2</td>\n",
              "      <td>Medium</td>\n",
              "    </tr>\n",
              "    <tr>\n",
              "      <th>2</th>\n",
              "      <td>2</td>\n",
              "      <td>P100</td>\n",
              "      <td>35</td>\n",
              "      <td>1</td>\n",
              "      <td>4</td>\n",
              "      <td>5</td>\n",
              "      <td>6</td>\n",
              "      <td>5</td>\n",
              "      <td>5</td>\n",
              "      <td>4</td>\n",
              "      <td>...</td>\n",
              "      <td>8</td>\n",
              "      <td>7</td>\n",
              "      <td>9</td>\n",
              "      <td>2</td>\n",
              "      <td>1</td>\n",
              "      <td>4</td>\n",
              "      <td>6</td>\n",
              "      <td>7</td>\n",
              "      <td>2</td>\n",
              "      <td>High</td>\n",
              "    </tr>\n",
              "    <tr>\n",
              "      <th>3</th>\n",
              "      <td>3</td>\n",
              "      <td>P1000</td>\n",
              "      <td>37</td>\n",
              "      <td>1</td>\n",
              "      <td>7</td>\n",
              "      <td>7</td>\n",
              "      <td>7</td>\n",
              "      <td>7</td>\n",
              "      <td>6</td>\n",
              "      <td>7</td>\n",
              "      <td>...</td>\n",
              "      <td>4</td>\n",
              "      <td>2</td>\n",
              "      <td>3</td>\n",
              "      <td>1</td>\n",
              "      <td>4</td>\n",
              "      <td>5</td>\n",
              "      <td>6</td>\n",
              "      <td>7</td>\n",
              "      <td>5</td>\n",
              "      <td>High</td>\n",
              "    </tr>\n",
              "    <tr>\n",
              "      <th>4</th>\n",
              "      <td>4</td>\n",
              "      <td>P101</td>\n",
              "      <td>46</td>\n",
              "      <td>1</td>\n",
              "      <td>6</td>\n",
              "      <td>8</td>\n",
              "      <td>7</td>\n",
              "      <td>7</td>\n",
              "      <td>7</td>\n",
              "      <td>6</td>\n",
              "      <td>...</td>\n",
              "      <td>3</td>\n",
              "      <td>2</td>\n",
              "      <td>4</td>\n",
              "      <td>1</td>\n",
              "      <td>4</td>\n",
              "      <td>2</td>\n",
              "      <td>4</td>\n",
              "      <td>2</td>\n",
              "      <td>3</td>\n",
              "      <td>High</td>\n",
              "    </tr>\n",
              "  </tbody>\n",
              "</table>\n",
              "<p>5 rows × 26 columns</p>\n",
              "</div>\n",
              "      <button class=\"colab-df-convert\" onclick=\"convertToInteractive('df-372c718b-d11e-43a5-8717-d506ae9c5170')\"\n",
              "              title=\"Convert this dataframe to an interactive table.\"\n",
              "              style=\"display:none;\">\n",
              "        \n",
              "  <svg xmlns=\"http://www.w3.org/2000/svg\" height=\"24px\"viewBox=\"0 0 24 24\"\n",
              "       width=\"24px\">\n",
              "    <path d=\"M0 0h24v24H0V0z\" fill=\"none\"/>\n",
              "    <path d=\"M18.56 5.44l.94 2.06.94-2.06 2.06-.94-2.06-.94-.94-2.06-.94 2.06-2.06.94zm-11 1L8.5 8.5l.94-2.06 2.06-.94-2.06-.94L8.5 2.5l-.94 2.06-2.06.94zm10 10l.94 2.06.94-2.06 2.06-.94-2.06-.94-.94-2.06-.94 2.06-2.06.94z\"/><path d=\"M17.41 7.96l-1.37-1.37c-.4-.4-.92-.59-1.43-.59-.52 0-1.04.2-1.43.59L10.3 9.45l-7.72 7.72c-.78.78-.78 2.05 0 2.83L4 21.41c.39.39.9.59 1.41.59.51 0 1.02-.2 1.41-.59l7.78-7.78 2.81-2.81c.8-.78.8-2.07 0-2.86zM5.41 20L4 18.59l7.72-7.72 1.47 1.35L5.41 20z\"/>\n",
              "  </svg>\n",
              "      </button>\n",
              "      \n",
              "  <style>\n",
              "    .colab-df-container {\n",
              "      display:flex;\n",
              "      flex-wrap:wrap;\n",
              "      gap: 12px;\n",
              "    }\n",
              "\n",
              "    .colab-df-convert {\n",
              "      background-color: #E8F0FE;\n",
              "      border: none;\n",
              "      border-radius: 50%;\n",
              "      cursor: pointer;\n",
              "      display: none;\n",
              "      fill: #1967D2;\n",
              "      height: 32px;\n",
              "      padding: 0 0 0 0;\n",
              "      width: 32px;\n",
              "    }\n",
              "\n",
              "    .colab-df-convert:hover {\n",
              "      background-color: #E2EBFA;\n",
              "      box-shadow: 0px 1px 2px rgba(60, 64, 67, 0.3), 0px 1px 3px 1px rgba(60, 64, 67, 0.15);\n",
              "      fill: #174EA6;\n",
              "    }\n",
              "\n",
              "    [theme=dark] .colab-df-convert {\n",
              "      background-color: #3B4455;\n",
              "      fill: #D2E3FC;\n",
              "    }\n",
              "\n",
              "    [theme=dark] .colab-df-convert:hover {\n",
              "      background-color: #434B5C;\n",
              "      box-shadow: 0px 1px 3px 1px rgba(0, 0, 0, 0.15);\n",
              "      filter: drop-shadow(0px 1px 2px rgba(0, 0, 0, 0.3));\n",
              "      fill: #FFFFFF;\n",
              "    }\n",
              "  </style>\n",
              "\n",
              "      <script>\n",
              "        const buttonEl =\n",
              "          document.querySelector('#df-372c718b-d11e-43a5-8717-d506ae9c5170 button.colab-df-convert');\n",
              "        buttonEl.style.display =\n",
              "          google.colab.kernel.accessAllowed ? 'block' : 'none';\n",
              "\n",
              "        async function convertToInteractive(key) {\n",
              "          const element = document.querySelector('#df-372c718b-d11e-43a5-8717-d506ae9c5170');\n",
              "          const dataTable =\n",
              "            await google.colab.kernel.invokeFunction('convertToInteractive',\n",
              "                                                     [key], {});\n",
              "          if (!dataTable) return;\n",
              "\n",
              "          const docLinkHtml = 'Like what you see? Visit the ' +\n",
              "            '<a target=\"_blank\" href=https://colab.research.google.com/notebooks/data_table.ipynb>data table notebook</a>'\n",
              "            + ' to learn more about interactive tables.';\n",
              "          element.innerHTML = '';\n",
              "          dataTable['output_type'] = 'display_data';\n",
              "          await google.colab.output.renderOutput(dataTable, element);\n",
              "          const docLink = document.createElement('div');\n",
              "          docLink.innerHTML = docLinkHtml;\n",
              "          element.appendChild(docLink);\n",
              "        }\n",
              "      </script>\n",
              "    </div>\n",
              "  </div>\n",
              "  "
            ]
          },
          "metadata": {},
          "execution_count": 5
        }
      ]
    },
    {
      "cell_type": "code",
      "source": [
        "dataset.shape"
      ],
      "metadata": {
        "colab": {
          "base_uri": "https://localhost:8080/"
        },
        "id": "MaFyWTWKylvj",
        "outputId": "26a34b73-f3c2-4bf0-dfc5-aada301b4680"
      },
      "execution_count": null,
      "outputs": [
        {
          "output_type": "execute_result",
          "data": {
            "text/plain": [
              "(1000, 26)"
            ]
          },
          "metadata": {},
          "execution_count": 6
        }
      ]
    },
    {
      "cell_type": "code",
      "source": [
        "dataset.count()"
      ],
      "metadata": {
        "colab": {
          "base_uri": "https://localhost:8080/"
        },
        "id": "2Spdy46YyyHo",
        "outputId": "986f9763-02f4-4a74-ff01-e16486feaf10"
      },
      "execution_count": null,
      "outputs": [
        {
          "output_type": "execute_result",
          "data": {
            "text/plain": [
              "index                       1000\n",
              "Patient Id                  1000\n",
              "Age                         1000\n",
              "Gender                      1000\n",
              "Air Pollution               1000\n",
              "Alcohol use                 1000\n",
              "Dust Allergy                1000\n",
              "OccuPational Hazards        1000\n",
              "Genetic Risk                1000\n",
              "chronic Lung Disease        1000\n",
              "Balanced Diet               1000\n",
              "Obesity                     1000\n",
              "Smoking                     1000\n",
              "Passive Smoker              1000\n",
              "Chest Pain                  1000\n",
              "Coughing of Blood           1000\n",
              "Fatigue                     1000\n",
              "Weight Loss                 1000\n",
              "Shortness of Breath         1000\n",
              "Wheezing                    1000\n",
              "Swallowing Difficulty       1000\n",
              "Clubbing of Finger Nails    1000\n",
              "Frequent Cold               1000\n",
              "Dry Cough                   1000\n",
              "Snoring                     1000\n",
              "Level                       1000\n",
              "dtype: int64"
            ]
          },
          "metadata": {},
          "execution_count": 7
        }
      ]
    },
    {
      "cell_type": "markdown",
      "source": [
        "Cheching unique values"
      ],
      "metadata": {
        "id": "6NQuBlpGV_RH"
      }
    },
    {
      "cell_type": "code",
      "source": [
        "dataset.nunique()"
      ],
      "metadata": {
        "colab": {
          "base_uri": "https://localhost:8080/"
        },
        "id": "7PKchlwhyyRm",
        "outputId": "32fd5449-dba6-4df5-c988-0fae8834fd1d"
      },
      "execution_count": null,
      "outputs": [
        {
          "output_type": "execute_result",
          "data": {
            "text/plain": [
              "index                       1000\n",
              "Patient Id                  1000\n",
              "Age                           40\n",
              "Gender                         2\n",
              "Air Pollution                  8\n",
              "Alcohol use                    8\n",
              "Dust Allergy                   8\n",
              "OccuPational Hazards           8\n",
              "Genetic Risk                   7\n",
              "chronic Lung Disease           7\n",
              "Balanced Diet                  7\n",
              "Obesity                        7\n",
              "Smoking                        8\n",
              "Passive Smoker                 8\n",
              "Chest Pain                     9\n",
              "Coughing of Blood              9\n",
              "Fatigue                        8\n",
              "Weight Loss                    8\n",
              "Shortness of Breath            8\n",
              "Wheezing                       8\n",
              "Swallowing Difficulty          8\n",
              "Clubbing of Finger Nails       9\n",
              "Frequent Cold                  7\n",
              "Dry Cough                      7\n",
              "Snoring                        7\n",
              "Level                          3\n",
              "dtype: int64"
            ]
          },
          "metadata": {},
          "execution_count": 8
        }
      ]
    },
    {
      "cell_type": "markdown",
      "source": [
        "Checking Null values"
      ],
      "metadata": {
        "id": "N0hXYOi5WIqV"
      }
    },
    {
      "cell_type": "code",
      "source": [
        "dataset.isnull().sum()"
      ],
      "metadata": {
        "colab": {
          "base_uri": "https://localhost:8080/"
        },
        "id": "wcziI3sMyyUG",
        "outputId": "e0e8c574-e34c-4092-f9f4-44814323d7bc"
      },
      "execution_count": null,
      "outputs": [
        {
          "output_type": "execute_result",
          "data": {
            "text/plain": [
              "index                       0\n",
              "Patient Id                  0\n",
              "Age                         0\n",
              "Gender                      0\n",
              "Air Pollution               0\n",
              "Alcohol use                 0\n",
              "Dust Allergy                0\n",
              "OccuPational Hazards        0\n",
              "Genetic Risk                0\n",
              "chronic Lung Disease        0\n",
              "Balanced Diet               0\n",
              "Obesity                     0\n",
              "Smoking                     0\n",
              "Passive Smoker              0\n",
              "Chest Pain                  0\n",
              "Coughing of Blood           0\n",
              "Fatigue                     0\n",
              "Weight Loss                 0\n",
              "Shortness of Breath         0\n",
              "Wheezing                    0\n",
              "Swallowing Difficulty       0\n",
              "Clubbing of Finger Nails    0\n",
              "Frequent Cold               0\n",
              "Dry Cough                   0\n",
              "Snoring                     0\n",
              "Level                       0\n",
              "dtype: int64"
            ]
          },
          "metadata": {},
          "execution_count": 9
        }
      ]
    },
    {
      "cell_type": "markdown",
      "source": [
        "Fortunately, there is no null value"
      ],
      "metadata": {
        "id": "EyvttKmnzJNl"
      }
    },
    {
      "cell_type": "code",
      "source": [
        "dataset.info()"
      ],
      "metadata": {
        "colab": {
          "base_uri": "https://localhost:8080/"
        },
        "id": "UaqcbPzAyyWc",
        "outputId": "3f813731-b44f-4484-ff5a-515d2c8f4eaf"
      },
      "execution_count": null,
      "outputs": [
        {
          "output_type": "stream",
          "name": "stdout",
          "text": [
            "<class 'pandas.core.frame.DataFrame'>\n",
            "RangeIndex: 1000 entries, 0 to 999\n",
            "Data columns (total 26 columns):\n",
            " #   Column                    Non-Null Count  Dtype \n",
            "---  ------                    --------------  ----- \n",
            " 0   index                     1000 non-null   int64 \n",
            " 1   Patient Id                1000 non-null   object\n",
            " 2   Age                       1000 non-null   int64 \n",
            " 3   Gender                    1000 non-null   int64 \n",
            " 4   Air Pollution             1000 non-null   int64 \n",
            " 5   Alcohol use               1000 non-null   int64 \n",
            " 6   Dust Allergy              1000 non-null   int64 \n",
            " 7   OccuPational Hazards      1000 non-null   int64 \n",
            " 8   Genetic Risk              1000 non-null   int64 \n",
            " 9   chronic Lung Disease      1000 non-null   int64 \n",
            " 10  Balanced Diet             1000 non-null   int64 \n",
            " 11  Obesity                   1000 non-null   int64 \n",
            " 12  Smoking                   1000 non-null   int64 \n",
            " 13  Passive Smoker            1000 non-null   int64 \n",
            " 14  Chest Pain                1000 non-null   int64 \n",
            " 15  Coughing of Blood         1000 non-null   int64 \n",
            " 16  Fatigue                   1000 non-null   int64 \n",
            " 17  Weight Loss               1000 non-null   int64 \n",
            " 18  Shortness of Breath       1000 non-null   int64 \n",
            " 19  Wheezing                  1000 non-null   int64 \n",
            " 20  Swallowing Difficulty     1000 non-null   int64 \n",
            " 21  Clubbing of Finger Nails  1000 non-null   int64 \n",
            " 22  Frequent Cold             1000 non-null   int64 \n",
            " 23  Dry Cough                 1000 non-null   int64 \n",
            " 24  Snoring                   1000 non-null   int64 \n",
            " 25  Level                     1000 non-null   object\n",
            "dtypes: int64(24), object(2)\n",
            "memory usage: 203.2+ KB\n"
          ]
        }
      ]
    },
    {
      "cell_type": "code",
      "source": [
        "dataset.describe().T"
      ],
      "metadata": {
        "colab": {
          "base_uri": "https://localhost:8080/",
          "height": 802
        },
        "id": "a0jNNP3vyyZD",
        "outputId": "111fcdfc-5449-4b28-9328-268da5454752"
      },
      "execution_count": null,
      "outputs": [
        {
          "output_type": "execute_result",
          "data": {
            "text/plain": [
              "                           count     mean         std   min     25%    50%  \\\n",
              "index                     1000.0  499.500  288.819436   0.0  249.75  499.5   \n",
              "Age                       1000.0   37.174   12.005493  14.0   27.75   36.0   \n",
              "Gender                    1000.0    1.402    0.490547   1.0    1.00    1.0   \n",
              "Air Pollution             1000.0    3.840    2.030400   1.0    2.00    3.0   \n",
              "Alcohol use               1000.0    4.563    2.620477   1.0    2.00    5.0   \n",
              "Dust Allergy              1000.0    5.165    1.980833   1.0    4.00    6.0   \n",
              "OccuPational Hazards      1000.0    4.840    2.107805   1.0    3.00    5.0   \n",
              "Genetic Risk              1000.0    4.580    2.126999   1.0    2.00    5.0   \n",
              "chronic Lung Disease      1000.0    4.380    1.848518   1.0    3.00    4.0   \n",
              "Balanced Diet             1000.0    4.491    2.135528   1.0    2.00    4.0   \n",
              "Obesity                   1000.0    4.465    2.124921   1.0    3.00    4.0   \n",
              "Smoking                   1000.0    3.948    2.495902   1.0    2.00    3.0   \n",
              "Passive Smoker            1000.0    4.195    2.311778   1.0    2.00    4.0   \n",
              "Chest Pain                1000.0    4.438    2.280209   1.0    2.00    4.0   \n",
              "Coughing of Blood         1000.0    4.859    2.427965   1.0    3.00    4.0   \n",
              "Fatigue                   1000.0    3.856    2.244616   1.0    2.00    3.0   \n",
              "Weight Loss               1000.0    3.855    2.206546   1.0    2.00    3.0   \n",
              "Shortness of Breath       1000.0    4.240    2.285087   1.0    2.00    4.0   \n",
              "Wheezing                  1000.0    3.777    2.041921   1.0    2.00    4.0   \n",
              "Swallowing Difficulty     1000.0    3.746    2.270383   1.0    2.00    4.0   \n",
              "Clubbing of Finger Nails  1000.0    3.923    2.388048   1.0    2.00    4.0   \n",
              "Frequent Cold             1000.0    3.536    1.832502   1.0    2.00    3.0   \n",
              "Dry Cough                 1000.0    3.853    2.039007   1.0    2.00    4.0   \n",
              "Snoring                   1000.0    2.926    1.474686   1.0    2.00    3.0   \n",
              "\n",
              "                             75%    max  \n",
              "index                     749.25  999.0  \n",
              "Age                        45.00   73.0  \n",
              "Gender                      2.00    2.0  \n",
              "Air Pollution               6.00    8.0  \n",
              "Alcohol use                 7.00    8.0  \n",
              "Dust Allergy                7.00    8.0  \n",
              "OccuPational Hazards        7.00    8.0  \n",
              "Genetic Risk                7.00    7.0  \n",
              "chronic Lung Disease        6.00    7.0  \n",
              "Balanced Diet               7.00    7.0  \n",
              "Obesity                     7.00    7.0  \n",
              "Smoking                     7.00    8.0  \n",
              "Passive Smoker              7.00    8.0  \n",
              "Chest Pain                  7.00    9.0  \n",
              "Coughing of Blood           7.00    9.0  \n",
              "Fatigue                     5.00    9.0  \n",
              "Weight Loss                 6.00    8.0  \n",
              "Shortness of Breath         6.00    9.0  \n",
              "Wheezing                    5.00    8.0  \n",
              "Swallowing Difficulty       5.00    8.0  \n",
              "Clubbing of Finger Nails    5.00    9.0  \n",
              "Frequent Cold               5.00    7.0  \n",
              "Dry Cough                   6.00    7.0  \n",
              "Snoring                     4.00    7.0  "
            ],
            "text/html": [
              "\n",
              "  <div id=\"df-79c0ba6b-b652-4471-9c7c-1871f38e114d\">\n",
              "    <div class=\"colab-df-container\">\n",
              "      <div>\n",
              "<style scoped>\n",
              "    .dataframe tbody tr th:only-of-type {\n",
              "        vertical-align: middle;\n",
              "    }\n",
              "\n",
              "    .dataframe tbody tr th {\n",
              "        vertical-align: top;\n",
              "    }\n",
              "\n",
              "    .dataframe thead th {\n",
              "        text-align: right;\n",
              "    }\n",
              "</style>\n",
              "<table border=\"1\" class=\"dataframe\">\n",
              "  <thead>\n",
              "    <tr style=\"text-align: right;\">\n",
              "      <th></th>\n",
              "      <th>count</th>\n",
              "      <th>mean</th>\n",
              "      <th>std</th>\n",
              "      <th>min</th>\n",
              "      <th>25%</th>\n",
              "      <th>50%</th>\n",
              "      <th>75%</th>\n",
              "      <th>max</th>\n",
              "    </tr>\n",
              "  </thead>\n",
              "  <tbody>\n",
              "    <tr>\n",
              "      <th>index</th>\n",
              "      <td>1000.0</td>\n",
              "      <td>499.500</td>\n",
              "      <td>288.819436</td>\n",
              "      <td>0.0</td>\n",
              "      <td>249.75</td>\n",
              "      <td>499.5</td>\n",
              "      <td>749.25</td>\n",
              "      <td>999.0</td>\n",
              "    </tr>\n",
              "    <tr>\n",
              "      <th>Age</th>\n",
              "      <td>1000.0</td>\n",
              "      <td>37.174</td>\n",
              "      <td>12.005493</td>\n",
              "      <td>14.0</td>\n",
              "      <td>27.75</td>\n",
              "      <td>36.0</td>\n",
              "      <td>45.00</td>\n",
              "      <td>73.0</td>\n",
              "    </tr>\n",
              "    <tr>\n",
              "      <th>Gender</th>\n",
              "      <td>1000.0</td>\n",
              "      <td>1.402</td>\n",
              "      <td>0.490547</td>\n",
              "      <td>1.0</td>\n",
              "      <td>1.00</td>\n",
              "      <td>1.0</td>\n",
              "      <td>2.00</td>\n",
              "      <td>2.0</td>\n",
              "    </tr>\n",
              "    <tr>\n",
              "      <th>Air Pollution</th>\n",
              "      <td>1000.0</td>\n",
              "      <td>3.840</td>\n",
              "      <td>2.030400</td>\n",
              "      <td>1.0</td>\n",
              "      <td>2.00</td>\n",
              "      <td>3.0</td>\n",
              "      <td>6.00</td>\n",
              "      <td>8.0</td>\n",
              "    </tr>\n",
              "    <tr>\n",
              "      <th>Alcohol use</th>\n",
              "      <td>1000.0</td>\n",
              "      <td>4.563</td>\n",
              "      <td>2.620477</td>\n",
              "      <td>1.0</td>\n",
              "      <td>2.00</td>\n",
              "      <td>5.0</td>\n",
              "      <td>7.00</td>\n",
              "      <td>8.0</td>\n",
              "    </tr>\n",
              "    <tr>\n",
              "      <th>Dust Allergy</th>\n",
              "      <td>1000.0</td>\n",
              "      <td>5.165</td>\n",
              "      <td>1.980833</td>\n",
              "      <td>1.0</td>\n",
              "      <td>4.00</td>\n",
              "      <td>6.0</td>\n",
              "      <td>7.00</td>\n",
              "      <td>8.0</td>\n",
              "    </tr>\n",
              "    <tr>\n",
              "      <th>OccuPational Hazards</th>\n",
              "      <td>1000.0</td>\n",
              "      <td>4.840</td>\n",
              "      <td>2.107805</td>\n",
              "      <td>1.0</td>\n",
              "      <td>3.00</td>\n",
              "      <td>5.0</td>\n",
              "      <td>7.00</td>\n",
              "      <td>8.0</td>\n",
              "    </tr>\n",
              "    <tr>\n",
              "      <th>Genetic Risk</th>\n",
              "      <td>1000.0</td>\n",
              "      <td>4.580</td>\n",
              "      <td>2.126999</td>\n",
              "      <td>1.0</td>\n",
              "      <td>2.00</td>\n",
              "      <td>5.0</td>\n",
              "      <td>7.00</td>\n",
              "      <td>7.0</td>\n",
              "    </tr>\n",
              "    <tr>\n",
              "      <th>chronic Lung Disease</th>\n",
              "      <td>1000.0</td>\n",
              "      <td>4.380</td>\n",
              "      <td>1.848518</td>\n",
              "      <td>1.0</td>\n",
              "      <td>3.00</td>\n",
              "      <td>4.0</td>\n",
              "      <td>6.00</td>\n",
              "      <td>7.0</td>\n",
              "    </tr>\n",
              "    <tr>\n",
              "      <th>Balanced Diet</th>\n",
              "      <td>1000.0</td>\n",
              "      <td>4.491</td>\n",
              "      <td>2.135528</td>\n",
              "      <td>1.0</td>\n",
              "      <td>2.00</td>\n",
              "      <td>4.0</td>\n",
              "      <td>7.00</td>\n",
              "      <td>7.0</td>\n",
              "    </tr>\n",
              "    <tr>\n",
              "      <th>Obesity</th>\n",
              "      <td>1000.0</td>\n",
              "      <td>4.465</td>\n",
              "      <td>2.124921</td>\n",
              "      <td>1.0</td>\n",
              "      <td>3.00</td>\n",
              "      <td>4.0</td>\n",
              "      <td>7.00</td>\n",
              "      <td>7.0</td>\n",
              "    </tr>\n",
              "    <tr>\n",
              "      <th>Smoking</th>\n",
              "      <td>1000.0</td>\n",
              "      <td>3.948</td>\n",
              "      <td>2.495902</td>\n",
              "      <td>1.0</td>\n",
              "      <td>2.00</td>\n",
              "      <td>3.0</td>\n",
              "      <td>7.00</td>\n",
              "      <td>8.0</td>\n",
              "    </tr>\n",
              "    <tr>\n",
              "      <th>Passive Smoker</th>\n",
              "      <td>1000.0</td>\n",
              "      <td>4.195</td>\n",
              "      <td>2.311778</td>\n",
              "      <td>1.0</td>\n",
              "      <td>2.00</td>\n",
              "      <td>4.0</td>\n",
              "      <td>7.00</td>\n",
              "      <td>8.0</td>\n",
              "    </tr>\n",
              "    <tr>\n",
              "      <th>Chest Pain</th>\n",
              "      <td>1000.0</td>\n",
              "      <td>4.438</td>\n",
              "      <td>2.280209</td>\n",
              "      <td>1.0</td>\n",
              "      <td>2.00</td>\n",
              "      <td>4.0</td>\n",
              "      <td>7.00</td>\n",
              "      <td>9.0</td>\n",
              "    </tr>\n",
              "    <tr>\n",
              "      <th>Coughing of Blood</th>\n",
              "      <td>1000.0</td>\n",
              "      <td>4.859</td>\n",
              "      <td>2.427965</td>\n",
              "      <td>1.0</td>\n",
              "      <td>3.00</td>\n",
              "      <td>4.0</td>\n",
              "      <td>7.00</td>\n",
              "      <td>9.0</td>\n",
              "    </tr>\n",
              "    <tr>\n",
              "      <th>Fatigue</th>\n",
              "      <td>1000.0</td>\n",
              "      <td>3.856</td>\n",
              "      <td>2.244616</td>\n",
              "      <td>1.0</td>\n",
              "      <td>2.00</td>\n",
              "      <td>3.0</td>\n",
              "      <td>5.00</td>\n",
              "      <td>9.0</td>\n",
              "    </tr>\n",
              "    <tr>\n",
              "      <th>Weight Loss</th>\n",
              "      <td>1000.0</td>\n",
              "      <td>3.855</td>\n",
              "      <td>2.206546</td>\n",
              "      <td>1.0</td>\n",
              "      <td>2.00</td>\n",
              "      <td>3.0</td>\n",
              "      <td>6.00</td>\n",
              "      <td>8.0</td>\n",
              "    </tr>\n",
              "    <tr>\n",
              "      <th>Shortness of Breath</th>\n",
              "      <td>1000.0</td>\n",
              "      <td>4.240</td>\n",
              "      <td>2.285087</td>\n",
              "      <td>1.0</td>\n",
              "      <td>2.00</td>\n",
              "      <td>4.0</td>\n",
              "      <td>6.00</td>\n",
              "      <td>9.0</td>\n",
              "    </tr>\n",
              "    <tr>\n",
              "      <th>Wheezing</th>\n",
              "      <td>1000.0</td>\n",
              "      <td>3.777</td>\n",
              "      <td>2.041921</td>\n",
              "      <td>1.0</td>\n",
              "      <td>2.00</td>\n",
              "      <td>4.0</td>\n",
              "      <td>5.00</td>\n",
              "      <td>8.0</td>\n",
              "    </tr>\n",
              "    <tr>\n",
              "      <th>Swallowing Difficulty</th>\n",
              "      <td>1000.0</td>\n",
              "      <td>3.746</td>\n",
              "      <td>2.270383</td>\n",
              "      <td>1.0</td>\n",
              "      <td>2.00</td>\n",
              "      <td>4.0</td>\n",
              "      <td>5.00</td>\n",
              "      <td>8.0</td>\n",
              "    </tr>\n",
              "    <tr>\n",
              "      <th>Clubbing of Finger Nails</th>\n",
              "      <td>1000.0</td>\n",
              "      <td>3.923</td>\n",
              "      <td>2.388048</td>\n",
              "      <td>1.0</td>\n",
              "      <td>2.00</td>\n",
              "      <td>4.0</td>\n",
              "      <td>5.00</td>\n",
              "      <td>9.0</td>\n",
              "    </tr>\n",
              "    <tr>\n",
              "      <th>Frequent Cold</th>\n",
              "      <td>1000.0</td>\n",
              "      <td>3.536</td>\n",
              "      <td>1.832502</td>\n",
              "      <td>1.0</td>\n",
              "      <td>2.00</td>\n",
              "      <td>3.0</td>\n",
              "      <td>5.00</td>\n",
              "      <td>7.0</td>\n",
              "    </tr>\n",
              "    <tr>\n",
              "      <th>Dry Cough</th>\n",
              "      <td>1000.0</td>\n",
              "      <td>3.853</td>\n",
              "      <td>2.039007</td>\n",
              "      <td>1.0</td>\n",
              "      <td>2.00</td>\n",
              "      <td>4.0</td>\n",
              "      <td>6.00</td>\n",
              "      <td>7.0</td>\n",
              "    </tr>\n",
              "    <tr>\n",
              "      <th>Snoring</th>\n",
              "      <td>1000.0</td>\n",
              "      <td>2.926</td>\n",
              "      <td>1.474686</td>\n",
              "      <td>1.0</td>\n",
              "      <td>2.00</td>\n",
              "      <td>3.0</td>\n",
              "      <td>4.00</td>\n",
              "      <td>7.0</td>\n",
              "    </tr>\n",
              "  </tbody>\n",
              "</table>\n",
              "</div>\n",
              "      <button class=\"colab-df-convert\" onclick=\"convertToInteractive('df-79c0ba6b-b652-4471-9c7c-1871f38e114d')\"\n",
              "              title=\"Convert this dataframe to an interactive table.\"\n",
              "              style=\"display:none;\">\n",
              "        \n",
              "  <svg xmlns=\"http://www.w3.org/2000/svg\" height=\"24px\"viewBox=\"0 0 24 24\"\n",
              "       width=\"24px\">\n",
              "    <path d=\"M0 0h24v24H0V0z\" fill=\"none\"/>\n",
              "    <path d=\"M18.56 5.44l.94 2.06.94-2.06 2.06-.94-2.06-.94-.94-2.06-.94 2.06-2.06.94zm-11 1L8.5 8.5l.94-2.06 2.06-.94-2.06-.94L8.5 2.5l-.94 2.06-2.06.94zm10 10l.94 2.06.94-2.06 2.06-.94-2.06-.94-.94-2.06-.94 2.06-2.06.94z\"/><path d=\"M17.41 7.96l-1.37-1.37c-.4-.4-.92-.59-1.43-.59-.52 0-1.04.2-1.43.59L10.3 9.45l-7.72 7.72c-.78.78-.78 2.05 0 2.83L4 21.41c.39.39.9.59 1.41.59.51 0 1.02-.2 1.41-.59l7.78-7.78 2.81-2.81c.8-.78.8-2.07 0-2.86zM5.41 20L4 18.59l7.72-7.72 1.47 1.35L5.41 20z\"/>\n",
              "  </svg>\n",
              "      </button>\n",
              "      \n",
              "  <style>\n",
              "    .colab-df-container {\n",
              "      display:flex;\n",
              "      flex-wrap:wrap;\n",
              "      gap: 12px;\n",
              "    }\n",
              "\n",
              "    .colab-df-convert {\n",
              "      background-color: #E8F0FE;\n",
              "      border: none;\n",
              "      border-radius: 50%;\n",
              "      cursor: pointer;\n",
              "      display: none;\n",
              "      fill: #1967D2;\n",
              "      height: 32px;\n",
              "      padding: 0 0 0 0;\n",
              "      width: 32px;\n",
              "    }\n",
              "\n",
              "    .colab-df-convert:hover {\n",
              "      background-color: #E2EBFA;\n",
              "      box-shadow: 0px 1px 2px rgba(60, 64, 67, 0.3), 0px 1px 3px 1px rgba(60, 64, 67, 0.15);\n",
              "      fill: #174EA6;\n",
              "    }\n",
              "\n",
              "    [theme=dark] .colab-df-convert {\n",
              "      background-color: #3B4455;\n",
              "      fill: #D2E3FC;\n",
              "    }\n",
              "\n",
              "    [theme=dark] .colab-df-convert:hover {\n",
              "      background-color: #434B5C;\n",
              "      box-shadow: 0px 1px 3px 1px rgba(0, 0, 0, 0.15);\n",
              "      filter: drop-shadow(0px 1px 2px rgba(0, 0, 0, 0.3));\n",
              "      fill: #FFFFFF;\n",
              "    }\n",
              "  </style>\n",
              "\n",
              "      <script>\n",
              "        const buttonEl =\n",
              "          document.querySelector('#df-79c0ba6b-b652-4471-9c7c-1871f38e114d button.colab-df-convert');\n",
              "        buttonEl.style.display =\n",
              "          google.colab.kernel.accessAllowed ? 'block' : 'none';\n",
              "\n",
              "        async function convertToInteractive(key) {\n",
              "          const element = document.querySelector('#df-79c0ba6b-b652-4471-9c7c-1871f38e114d');\n",
              "          const dataTable =\n",
              "            await google.colab.kernel.invokeFunction('convertToInteractive',\n",
              "                                                     [key], {});\n",
              "          if (!dataTable) return;\n",
              "\n",
              "          const docLinkHtml = 'Like what you see? Visit the ' +\n",
              "            '<a target=\"_blank\" href=https://colab.research.google.com/notebooks/data_table.ipynb>data table notebook</a>'\n",
              "            + ' to learn more about interactive tables.';\n",
              "          element.innerHTML = '';\n",
              "          dataTable['output_type'] = 'display_data';\n",
              "          await google.colab.output.renderOutput(dataTable, element);\n",
              "          const docLink = document.createElement('div');\n",
              "          docLink.innerHTML = docLinkHtml;\n",
              "          element.appendChild(docLink);\n",
              "        }\n",
              "      </script>\n",
              "    </div>\n",
              "  </div>\n",
              "  "
            ]
          },
          "metadata": {},
          "execution_count": 11
        }
      ]
    },
    {
      "cell_type": "code",
      "source": [
        "dataset.dtypes"
      ],
      "metadata": {
        "colab": {
          "base_uri": "https://localhost:8080/"
        },
        "id": "Ve6r8eCEuXUN",
        "outputId": "ecd1de62-f69b-4ebd-8dfe-1f81845e37b7"
      },
      "execution_count": null,
      "outputs": [
        {
          "output_type": "execute_result",
          "data": {
            "text/plain": [
              "index                        int64\n",
              "Patient Id                  object\n",
              "Age                          int64\n",
              "Gender                       int64\n",
              "Air Pollution                int64\n",
              "Alcohol use                  int64\n",
              "Dust Allergy                 int64\n",
              "OccuPational Hazards         int64\n",
              "Genetic Risk                 int64\n",
              "chronic Lung Disease         int64\n",
              "Balanced Diet                int64\n",
              "Obesity                      int64\n",
              "Smoking                      int64\n",
              "Passive Smoker               int64\n",
              "Chest Pain                   int64\n",
              "Coughing of Blood            int64\n",
              "Fatigue                      int64\n",
              "Weight Loss                  int64\n",
              "Shortness of Breath          int64\n",
              "Wheezing                     int64\n",
              "Swallowing Difficulty        int64\n",
              "Clubbing of Finger Nails     int64\n",
              "Frequent Cold                int64\n",
              "Dry Cough                    int64\n",
              "Snoring                      int64\n",
              "Level                       object\n",
              "dtype: object"
            ]
          },
          "metadata": {},
          "execution_count": 12
        }
      ]
    },
    {
      "cell_type": "markdown",
      "source": [
        "Droping unrealated columns"
      ],
      "metadata": {
        "id": "Zz3tJ3HmWOP9"
      }
    },
    {
      "cell_type": "code",
      "source": [
        "dataset = dataset.drop(columns=['index', 'Patient Id'])\n"
      ],
      "metadata": {
        "id": "Z-7l1m5-u6gM"
      },
      "execution_count": null,
      "outputs": []
    },
    {
      "cell_type": "markdown",
      "source": [
        "Chnaging the Level column's representation from catagorical to label"
      ],
      "metadata": {
        "id": "kDG8QuZg4kpX"
      }
    },
    {
      "cell_type": "code",
      "source": [
        "labels,counts = pd.factorize(dataset['Level'])\n",
        "dataset['Level'] = labels"
      ],
      "metadata": {
        "id": "tOjQr87Huh8B"
      },
      "execution_count": null,
      "outputs": []
    },
    {
      "cell_type": "code",
      "source": [
        "labels"
      ],
      "metadata": {
        "colab": {
          "base_uri": "https://localhost:8080/"
        },
        "id": "Yustv_94upPg",
        "outputId": "09699eb9-0399-4e5c-dc24-8a5ed379a828"
      },
      "execution_count": null,
      "outputs": [
        {
          "output_type": "execute_result",
          "data": {
            "text/plain": [
              "array([0, 1, 2, 2, 2, 2, 0, 0, 1, 1, 2, 2, 1, 2, 0, 1, 1, 2, 2, 1, 2, 2,\n",
              "       2, 2, 2, 1, 1, 1, 2, 1, 2, 2, 1, 0, 0, 1, 0, 0, 0, 0, 0, 0, 0, 0,\n",
              "       0, 0, 2, 0, 0, 0, 0, 0, 0, 0, 0, 0, 0, 2, 0, 0, 0, 0, 0, 1, 1, 1,\n",
              "       1, 1, 2, 1, 1, 1, 1, 1, 1, 1, 1, 1, 1, 2, 1, 1, 1, 1, 1, 1, 1, 2,\n",
              "       2, 2, 1, 2, 2, 2, 2, 2, 2, 2, 2, 2, 2, 1, 2, 2, 2, 2, 2, 2, 2, 2,\n",
              "       2, 2, 0, 1, 2, 2, 2, 0, 0, 1, 1, 2, 2, 1, 2, 0, 1, 1, 2, 2, 1, 2,\n",
              "       2, 2, 2, 1, 1, 1, 1, 2, 1, 2, 2, 1, 0, 0, 2, 0, 0, 0, 0, 0, 0, 0,\n",
              "       0, 0, 0, 2, 0, 0, 0, 0, 0, 0, 0, 0, 0, 0, 1, 0, 0, 0, 0, 0, 1, 1,\n",
              "       1, 1, 1, 0, 1, 1, 1, 1, 1, 1, 1, 1, 1, 1, 0, 1, 1, 1, 1, 1, 1, 1,\n",
              "       2, 2, 2, 0, 2, 2, 2, 2, 2, 2, 2, 2, 2, 2, 0, 2, 2, 2, 2, 2, 2, 2,\n",
              "       2, 2, 2, 1, 0, 2, 2, 2, 0, 0, 1, 1, 2, 2, 1, 0, 0, 1, 1, 2, 2, 1,\n",
              "       2, 2, 2, 2, 0, 1, 1, 1, 2, 1, 2, 2, 1, 0, 0, 0, 0, 0, 0, 0, 0, 0,\n",
              "       0, 0, 0, 0, 0, 0, 0, 0, 0, 0, 0, 0, 0, 0, 0, 0, 0, 0, 0, 0, 0, 1,\n",
              "       1, 1, 1, 1, 0, 1, 1, 1, 1, 1, 1, 1, 1, 1, 1, 0, 1, 1, 1, 1, 1, 1,\n",
              "       1, 2, 2, 2, 0, 2, 2, 2, 2, 2, 2, 2, 2, 2, 2, 0, 2, 2, 2, 2, 2, 2,\n",
              "       2, 2, 2, 2, 1, 0, 2, 2, 2, 0, 0, 1, 1, 2, 2, 1, 0, 0, 1, 1, 2, 2,\n",
              "       1, 2, 2, 2, 2, 0, 1, 1, 1, 2, 1, 2, 2, 1, 0, 0, 0, 0, 0, 0, 0, 0,\n",
              "       0, 0, 0, 0, 0, 0, 0, 0, 0, 0, 0, 0, 0, 0, 0, 0, 0, 0, 0, 0, 0, 0,\n",
              "       1, 1, 1, 1, 1, 0, 1, 1, 1, 1, 1, 1, 1, 1, 1, 1, 0, 1, 1, 1, 1, 1,\n",
              "       1, 1, 2, 2, 2, 0, 2, 2, 2, 2, 2, 2, 2, 2, 2, 2, 0, 2, 2, 2, 2, 2,\n",
              "       2, 2, 2, 2, 2, 2, 0, 2, 2, 2, 0, 0, 1, 1, 2, 2, 1, 0, 0, 1, 1, 2,\n",
              "       2, 1, 2, 2, 2, 2, 0, 1, 1, 1, 2, 1, 2, 2, 1, 0, 0, 1, 0, 0, 0, 0,\n",
              "       0, 0, 0, 0, 0, 0, 1, 0, 0, 0, 0, 0, 0, 0, 0, 0, 0, 1, 0, 0, 0, 0,\n",
              "       0, 1, 1, 1, 1, 1, 1, 1, 1, 1, 1, 1, 1, 1, 1, 1, 1, 1, 1, 1, 1, 1,\n",
              "       1, 1, 1, 2, 2, 2, 1, 2, 2, 2, 2, 2, 2, 2, 2, 2, 2, 1, 2, 2, 2, 2,\n",
              "       2, 2, 2, 2, 2, 2, 2, 1, 2, 2, 2, 0, 0, 1, 1, 2, 2, 1, 1, 0, 1, 1,\n",
              "       2, 2, 1, 2, 2, 2, 2, 1, 1, 1, 1, 2, 1, 2, 2, 1, 0, 0, 1, 0, 0, 0,\n",
              "       0, 0, 0, 0, 0, 0, 0, 1, 0, 0, 0, 0, 0, 0, 0, 0, 0, 0, 1, 0, 0, 0,\n",
              "       0, 0, 1, 1, 1, 1, 1, 1, 1, 1, 1, 1, 1, 1, 1, 1, 1, 1, 1, 1, 1, 1,\n",
              "       1, 1, 1, 1, 2, 2, 2, 1, 2, 2, 2, 2, 2, 2, 2, 2, 2, 2, 1, 2, 2, 2,\n",
              "       2, 2, 2, 2, 2, 2, 2, 1, 1, 2, 2, 2, 0, 0, 1, 1, 2, 2, 1, 1, 0, 1,\n",
              "       1, 2, 2, 1, 2, 2, 2, 2, 1, 1, 1, 1, 2, 1, 2, 2, 1, 0, 0, 1, 0, 0,\n",
              "       0, 0, 0, 0, 0, 0, 0, 0, 1, 0, 0, 0, 0, 0, 0, 0, 0, 0, 0, 2, 0, 0,\n",
              "       0, 0, 0, 1, 1, 1, 1, 1, 2, 1, 1, 1, 1, 1, 1, 1, 1, 1, 1, 2, 1, 1,\n",
              "       1, 1, 1, 1, 1, 2, 2, 2, 2, 2, 2, 2, 2, 2, 2, 2, 2, 2, 2, 2, 2, 2,\n",
              "       2, 2, 2, 2, 2, 2, 2, 2, 0, 2, 2, 2, 2, 0, 0, 1, 1, 2, 2, 1, 2, 0,\n",
              "       1, 1, 2, 2, 1, 2, 2, 2, 2, 2, 1, 1, 1, 2, 1, 2, 2, 1, 0, 0, 2, 0,\n",
              "       0, 0, 0, 0, 0, 0, 0, 0, 0, 2, 0, 0, 0, 0, 0, 0, 0, 0, 0, 0, 2, 0,\n",
              "       0, 0, 0, 0, 1, 1, 1, 1, 1, 2, 1, 1, 1, 1, 1, 1, 1, 1, 1, 1, 2, 1,\n",
              "       1, 1, 1, 1, 1, 1, 2, 2, 2, 2, 2, 2, 2, 2, 2, 2, 2, 2, 2, 2, 2, 2,\n",
              "       2, 2, 2, 2, 2, 2, 2, 2, 2, 1, 2, 2, 2, 2, 0, 0, 1, 1, 2, 2, 1, 2,\n",
              "       0, 1, 1, 2, 2, 1, 2, 2, 2, 2, 2, 1, 1, 1, 2, 1, 2, 2, 1, 0, 0, 2,\n",
              "       0, 0, 0, 0, 0, 0, 0, 0, 0, 0, 2, 0, 0, 0, 0, 0, 0, 0, 0, 0, 0, 2,\n",
              "       0, 0, 0, 0, 0, 1, 1, 1, 1, 1, 2, 1, 1, 1, 1, 1, 1, 1, 1, 1, 1, 2,\n",
              "       1, 1, 1, 1, 1, 1, 1, 2, 0, 0, 2, 0, 2, 2, 2, 1, 1, 2, 2, 2, 2, 2,\n",
              "       2, 2, 2, 2, 2, 2, 2, 2, 2, 2])"
            ]
          },
          "metadata": {},
          "execution_count": 15
        }
      ]
    },
    {
      "cell_type": "code",
      "source": [
        "counts"
      ],
      "metadata": {
        "colab": {
          "base_uri": "https://localhost:8080/"
        },
        "id": "YJbl-2h8ur81",
        "outputId": "17c628e9-06a6-4bd6-8de5-560dc143b213"
      },
      "execution_count": null,
      "outputs": [
        {
          "output_type": "execute_result",
          "data": {
            "text/plain": [
              "Index(['Low', 'Medium', 'High'], dtype='object')"
            ]
          },
          "metadata": {},
          "execution_count": 16
        }
      ]
    },
    {
      "cell_type": "code",
      "source": [
        "dataset.corr()"
      ],
      "metadata": {
        "colab": {
          "base_uri": "https://localhost:8080/",
          "height": 1000
        },
        "id": "s5uL81_r4KYL",
        "outputId": "1cb20161-f037-4861-a2da-8a7798969f2a"
      },
      "execution_count": null,
      "outputs": [
        {
          "output_type": "execute_result",
          "data": {
            "text/plain": [
              "                               Age    Gender  Air Pollution  Alcohol use  \\\n",
              "Age                       1.000000 -0.202086       0.099494     0.151742   \n",
              "Gender                   -0.202086  1.000000      -0.246912    -0.227636   \n",
              "Air Pollution             0.099494 -0.246912       1.000000     0.747293   \n",
              "Alcohol use               0.151742 -0.227636       0.747293     1.000000   \n",
              "Dust Allergy              0.035202 -0.204312       0.637503     0.818644   \n",
              "OccuPational Hazards      0.062177 -0.192343       0.608924     0.878786   \n",
              "Genetic Risk              0.073151 -0.222727       0.705276     0.877210   \n",
              "chronic Lung Disease      0.128952 -0.205061       0.626701     0.763576   \n",
              "Balanced Diet             0.004863 -0.099741       0.524873     0.653352   \n",
              "Obesity                   0.034337 -0.123813       0.601468     0.669312   \n",
              "Smoking                   0.075333 -0.206924       0.481902     0.547035   \n",
              "Passive Smoker            0.004908 -0.184826       0.606764     0.592576   \n",
              "Chest Pain                0.012864 -0.218426       0.585734     0.717242   \n",
              "Coughing of Blood         0.053006 -0.146505       0.607829     0.667612   \n",
              "Fatigue                   0.095059 -0.116467       0.211724     0.237245   \n",
              "Weight Loss               0.106946 -0.057993       0.258016     0.207851   \n",
              "Shortness of Breath       0.035329 -0.045972       0.269558     0.435785   \n",
              "Wheezing                 -0.095354 -0.076304       0.055368     0.180817   \n",
              "Swallowing Difficulty    -0.105833 -0.058324      -0.080918    -0.114073   \n",
              "Clubbing of Finger Nails  0.039258 -0.034219       0.241065     0.414992   \n",
              "Frequent Cold            -0.012706 -0.000526       0.174539     0.180778   \n",
              "Dry Cough                 0.012128 -0.123001       0.261489     0.211277   \n",
              "Snoring                  -0.004700 -0.181618      -0.021343     0.122694   \n",
              "Level                     0.060048 -0.164985       0.636038     0.718710   \n",
              "\n",
              "                          Dust Allergy  OccuPational Hazards  Genetic Risk  \\\n",
              "Age                           0.035202              0.062177      0.073151   \n",
              "Gender                       -0.204312             -0.192343     -0.222727   \n",
              "Air Pollution                 0.637503              0.608924      0.705276   \n",
              "Alcohol use                   0.818644              0.878786      0.877210   \n",
              "Dust Allergy                  1.000000              0.835860      0.787904   \n",
              "OccuPational Hazards          0.835860              1.000000      0.893049   \n",
              "Genetic Risk                  0.787904              0.893049      1.000000   \n",
              "chronic Lung Disease          0.619556              0.858284      0.836231   \n",
              "Balanced Diet                 0.647197              0.691509      0.679905   \n",
              "Obesity                       0.700676              0.722191      0.729826   \n",
              "Smoking                       0.358691              0.497693      0.543259   \n",
              "Passive Smoker                0.560002              0.555311      0.609071   \n",
              "Chest Pain                    0.639983              0.775619      0.831751   \n",
              "Coughing of Blood             0.625291              0.645947      0.632236   \n",
              "Fatigue                       0.332472              0.267844      0.230530   \n",
              "Weight Loss                   0.321756              0.176226      0.271743   \n",
              "Shortness of Breath           0.518682              0.366482      0.458200   \n",
              "Wheezing                      0.304850              0.178925      0.204973   \n",
              "Swallowing Difficulty         0.031141             -0.002853     -0.062948   \n",
              "Clubbing of Finger Nails      0.345714              0.366447      0.357815   \n",
              "Frequent Cold                 0.219389              0.077166      0.087092   \n",
              "Dry Cough                     0.300195              0.159887      0.194399   \n",
              "Snoring                       0.052844              0.022916     -0.056831   \n",
              "Level                         0.713839              0.673255      0.701303   \n",
              "\n",
              "                          chronic Lung Disease  Balanced Diet   Obesity  ...  \\\n",
              "Age                                   0.128952       0.004863  0.034337  ...   \n",
              "Gender                               -0.205061      -0.099741 -0.123813  ...   \n",
              "Air Pollution                         0.626701       0.524873  0.601468  ...   \n",
              "Alcohol use                           0.763576       0.653352  0.669312  ...   \n",
              "Dust Allergy                          0.619556       0.647197  0.700676  ...   \n",
              "OccuPational Hazards                  0.858284       0.691509  0.722191  ...   \n",
              "Genetic Risk                          0.836231       0.679905  0.729826  ...   \n",
              "chronic Lung Disease                  1.000000       0.622632  0.601754  ...   \n",
              "Balanced Diet                         0.622632       1.000000  0.706922  ...   \n",
              "Obesity                               0.601754       0.706922  1.000000  ...   \n",
              "Smoking                               0.578585       0.645390  0.486795  ...   \n",
              "Passive Smoker                        0.572698       0.725123  0.681889  ...   \n",
              "Chest Pain                            0.782646       0.798207  0.673150  ...   \n",
              "Coughing of Blood                     0.602987       0.745054  0.814805  ...   \n",
              "Fatigue                               0.247697       0.400678  0.552788  ...   \n",
              "Weight Loss                           0.104080      -0.006544  0.313495  ...   \n",
              "Shortness of Breath                   0.182426       0.343623  0.406203  ...   \n",
              "Wheezing                              0.057214       0.063930  0.094287  ...   \n",
              "Swallowing Difficulty                 0.007279       0.046807  0.127213  ...   \n",
              "Clubbing of Finger Nails              0.298023       0.041967  0.149093  ...   \n",
              "Frequent Cold                         0.028759       0.263931  0.288368  ...   \n",
              "Dry Cough                             0.114161       0.331995  0.200618  ...   \n",
              "Snoring                               0.043375       0.152677  0.039422  ...   \n",
              "Level                                 0.609971       0.706273  0.827435  ...   \n",
              "\n",
              "                           Fatigue  Weight Loss  Shortness of Breath  \\\n",
              "Age                       0.095059     0.106946             0.035329   \n",
              "Gender                   -0.116467    -0.057993            -0.045972   \n",
              "Air Pollution             0.211724     0.258016             0.269558   \n",
              "Alcohol use               0.237245     0.207851             0.435785   \n",
              "Dust Allergy              0.332472     0.321756             0.518682   \n",
              "OccuPational Hazards      0.267844     0.176226             0.366482   \n",
              "Genetic Risk              0.230530     0.271743             0.458200   \n",
              "chronic Lung Disease      0.247697     0.104080             0.182426   \n",
              "Balanced Diet             0.400678    -0.006544             0.343623   \n",
              "Obesity                   0.552788     0.313495             0.406203   \n",
              "Smoking                   0.200029    -0.212937            -0.023259   \n",
              "Passive Smoker            0.377919     0.058336             0.062948   \n",
              "Chest Pain                0.251135    -0.001092             0.237045   \n",
              "Coughing of Blood         0.481540     0.105857             0.318777   \n",
              "Fatigue                   1.000000     0.469517             0.398625   \n",
              "Weight Loss               0.469517     1.000000             0.574497   \n",
              "Shortness of Breath       0.398625     0.574497             1.000000   \n",
              "Wheezing                  0.174477     0.331179             0.207564   \n",
              "Swallowing Difficulty     0.149562     0.053384            -0.200477   \n",
              "Clubbing of Finger Nails  0.040694     0.376484             0.474275   \n",
              "Frequent Cold             0.407915     0.160348             0.351489   \n",
              "Dry Cough                 0.271167     0.188598             0.493331   \n",
              "Snoring                   0.231748    -0.189106            -0.159291   \n",
              "Level                     0.625114     0.352738             0.497024   \n",
              "\n",
              "                          Wheezing  Swallowing Difficulty  \\\n",
              "Age                      -0.095354              -0.105833   \n",
              "Gender                   -0.076304              -0.058324   \n",
              "Air Pollution             0.055368              -0.080918   \n",
              "Alcohol use               0.180817              -0.114073   \n",
              "Dust Allergy              0.304850               0.031141   \n",
              "OccuPational Hazards      0.178925              -0.002853   \n",
              "Genetic Risk              0.204973              -0.062948   \n",
              "chronic Lung Disease      0.057214               0.007279   \n",
              "Balanced Diet             0.063930               0.046807   \n",
              "Obesity                   0.094287               0.127213   \n",
              "Smoking                  -0.047060               0.236141   \n",
              "Passive Smoker            0.200283               0.348922   \n",
              "Chest Pain                0.107211               0.071784   \n",
              "Coughing of Blood        -0.085698               0.086289   \n",
              "Fatigue                   0.174477               0.149562   \n",
              "Weight Loss               0.331179               0.053384   \n",
              "Shortness of Breath       0.207564              -0.200477   \n",
              "Wheezing                  1.000000               0.393487   \n",
              "Swallowing Difficulty     0.393487               1.000000   \n",
              "Clubbing of Finger Nails  0.338271              -0.119741   \n",
              "Frequent Cold             0.098855               0.132363   \n",
              "Dry Cough                 0.054388              -0.055428   \n",
              "Snoring                   0.116183               0.210540   \n",
              "Level                     0.242794               0.249142   \n",
              "\n",
              "                          Clubbing of Finger Nails  Frequent Cold  Dry Cough  \\\n",
              "Age                                       0.039258      -0.012706   0.012128   \n",
              "Gender                                   -0.034219      -0.000526  -0.123001   \n",
              "Air Pollution                             0.241065       0.174539   0.261489   \n",
              "Alcohol use                               0.414992       0.180778   0.211277   \n",
              "Dust Allergy                              0.345714       0.219389   0.300195   \n",
              "OccuPational Hazards                      0.366447       0.077166   0.159887   \n",
              "Genetic Risk                              0.357815       0.087092   0.194399   \n",
              "chronic Lung Disease                      0.298023       0.028759   0.114161   \n",
              "Balanced Diet                             0.041967       0.263931   0.331995   \n",
              "Obesity                                   0.149093       0.288368   0.200618   \n",
              "Smoking                                  -0.041147       0.039585   0.010101   \n",
              "Passive Smoker                           -0.035536       0.104553   0.120761   \n",
              "Chest Pain                                0.081386       0.042937   0.142180   \n",
              "Coughing of Blood                        -0.066443       0.244235   0.147659   \n",
              "Fatigue                                   0.040694       0.407915   0.271167   \n",
              "Weight Loss                               0.376484       0.160348   0.188598   \n",
              "Shortness of Breath                       0.474275       0.351489   0.493331   \n",
              "Wheezing                                  0.338271       0.098855   0.054388   \n",
              "Swallowing Difficulty                    -0.119741       0.132363  -0.055428   \n",
              "Clubbing of Finger Nails                  1.000000       0.242529   0.307271   \n",
              "Frequent Cold                             0.242529       1.000000   0.515918   \n",
              "Dry Cough                                 0.307271       0.515918   1.000000   \n",
              "Snoring                                  -0.017537       0.335844   0.176146   \n",
              "Level                                     0.280063       0.444017   0.373968   \n",
              "\n",
              "                           Snoring     Level  \n",
              "Age                      -0.004700  0.060048  \n",
              "Gender                   -0.181618 -0.164985  \n",
              "Air Pollution            -0.021343  0.636038  \n",
              "Alcohol use               0.122694  0.718710  \n",
              "Dust Allergy              0.052844  0.713839  \n",
              "OccuPational Hazards      0.022916  0.673255  \n",
              "Genetic Risk             -0.056831  0.701303  \n",
              "chronic Lung Disease      0.043375  0.609971  \n",
              "Balanced Diet             0.152677  0.706273  \n",
              "Obesity                   0.039422  0.827435  \n",
              "Smoking                   0.189055  0.519530  \n",
              "Passive Smoker            0.247943  0.703594  \n",
              "Chest Pain                0.140036  0.645461  \n",
              "Coughing of Blood         0.087944  0.782092  \n",
              "Fatigue                   0.231748  0.625114  \n",
              "Weight Loss              -0.189106  0.352738  \n",
              "Shortness of Breath      -0.159291  0.497024  \n",
              "Wheezing                  0.116183  0.242794  \n",
              "Swallowing Difficulty     0.210540  0.249142  \n",
              "Clubbing of Finger Nails -0.017537  0.280063  \n",
              "Frequent Cold             0.335844  0.444017  \n",
              "Dry Cough                 0.176146  0.373968  \n",
              "Snoring                   1.000000  0.289366  \n",
              "Level                     0.289366  1.000000  \n",
              "\n",
              "[24 rows x 24 columns]"
            ],
            "text/html": [
              "\n",
              "  <div id=\"df-96030894-a891-4893-9c1a-ed905257af35\">\n",
              "    <div class=\"colab-df-container\">\n",
              "      <div>\n",
              "<style scoped>\n",
              "    .dataframe tbody tr th:only-of-type {\n",
              "        vertical-align: middle;\n",
              "    }\n",
              "\n",
              "    .dataframe tbody tr th {\n",
              "        vertical-align: top;\n",
              "    }\n",
              "\n",
              "    .dataframe thead th {\n",
              "        text-align: right;\n",
              "    }\n",
              "</style>\n",
              "<table border=\"1\" class=\"dataframe\">\n",
              "  <thead>\n",
              "    <tr style=\"text-align: right;\">\n",
              "      <th></th>\n",
              "      <th>Age</th>\n",
              "      <th>Gender</th>\n",
              "      <th>Air Pollution</th>\n",
              "      <th>Alcohol use</th>\n",
              "      <th>Dust Allergy</th>\n",
              "      <th>OccuPational Hazards</th>\n",
              "      <th>Genetic Risk</th>\n",
              "      <th>chronic Lung Disease</th>\n",
              "      <th>Balanced Diet</th>\n",
              "      <th>Obesity</th>\n",
              "      <th>...</th>\n",
              "      <th>Fatigue</th>\n",
              "      <th>Weight Loss</th>\n",
              "      <th>Shortness of Breath</th>\n",
              "      <th>Wheezing</th>\n",
              "      <th>Swallowing Difficulty</th>\n",
              "      <th>Clubbing of Finger Nails</th>\n",
              "      <th>Frequent Cold</th>\n",
              "      <th>Dry Cough</th>\n",
              "      <th>Snoring</th>\n",
              "      <th>Level</th>\n",
              "    </tr>\n",
              "  </thead>\n",
              "  <tbody>\n",
              "    <tr>\n",
              "      <th>Age</th>\n",
              "      <td>1.000000</td>\n",
              "      <td>-0.202086</td>\n",
              "      <td>0.099494</td>\n",
              "      <td>0.151742</td>\n",
              "      <td>0.035202</td>\n",
              "      <td>0.062177</td>\n",
              "      <td>0.073151</td>\n",
              "      <td>0.128952</td>\n",
              "      <td>0.004863</td>\n",
              "      <td>0.034337</td>\n",
              "      <td>...</td>\n",
              "      <td>0.095059</td>\n",
              "      <td>0.106946</td>\n",
              "      <td>0.035329</td>\n",
              "      <td>-0.095354</td>\n",
              "      <td>-0.105833</td>\n",
              "      <td>0.039258</td>\n",
              "      <td>-0.012706</td>\n",
              "      <td>0.012128</td>\n",
              "      <td>-0.004700</td>\n",
              "      <td>0.060048</td>\n",
              "    </tr>\n",
              "    <tr>\n",
              "      <th>Gender</th>\n",
              "      <td>-0.202086</td>\n",
              "      <td>1.000000</td>\n",
              "      <td>-0.246912</td>\n",
              "      <td>-0.227636</td>\n",
              "      <td>-0.204312</td>\n",
              "      <td>-0.192343</td>\n",
              "      <td>-0.222727</td>\n",
              "      <td>-0.205061</td>\n",
              "      <td>-0.099741</td>\n",
              "      <td>-0.123813</td>\n",
              "      <td>...</td>\n",
              "      <td>-0.116467</td>\n",
              "      <td>-0.057993</td>\n",
              "      <td>-0.045972</td>\n",
              "      <td>-0.076304</td>\n",
              "      <td>-0.058324</td>\n",
              "      <td>-0.034219</td>\n",
              "      <td>-0.000526</td>\n",
              "      <td>-0.123001</td>\n",
              "      <td>-0.181618</td>\n",
              "      <td>-0.164985</td>\n",
              "    </tr>\n",
              "    <tr>\n",
              "      <th>Air Pollution</th>\n",
              "      <td>0.099494</td>\n",
              "      <td>-0.246912</td>\n",
              "      <td>1.000000</td>\n",
              "      <td>0.747293</td>\n",
              "      <td>0.637503</td>\n",
              "      <td>0.608924</td>\n",
              "      <td>0.705276</td>\n",
              "      <td>0.626701</td>\n",
              "      <td>0.524873</td>\n",
              "      <td>0.601468</td>\n",
              "      <td>...</td>\n",
              "      <td>0.211724</td>\n",
              "      <td>0.258016</td>\n",
              "      <td>0.269558</td>\n",
              "      <td>0.055368</td>\n",
              "      <td>-0.080918</td>\n",
              "      <td>0.241065</td>\n",
              "      <td>0.174539</td>\n",
              "      <td>0.261489</td>\n",
              "      <td>-0.021343</td>\n",
              "      <td>0.636038</td>\n",
              "    </tr>\n",
              "    <tr>\n",
              "      <th>Alcohol use</th>\n",
              "      <td>0.151742</td>\n",
              "      <td>-0.227636</td>\n",
              "      <td>0.747293</td>\n",
              "      <td>1.000000</td>\n",
              "      <td>0.818644</td>\n",
              "      <td>0.878786</td>\n",
              "      <td>0.877210</td>\n",
              "      <td>0.763576</td>\n",
              "      <td>0.653352</td>\n",
              "      <td>0.669312</td>\n",
              "      <td>...</td>\n",
              "      <td>0.237245</td>\n",
              "      <td>0.207851</td>\n",
              "      <td>0.435785</td>\n",
              "      <td>0.180817</td>\n",
              "      <td>-0.114073</td>\n",
              "      <td>0.414992</td>\n",
              "      <td>0.180778</td>\n",
              "      <td>0.211277</td>\n",
              "      <td>0.122694</td>\n",
              "      <td>0.718710</td>\n",
              "    </tr>\n",
              "    <tr>\n",
              "      <th>Dust Allergy</th>\n",
              "      <td>0.035202</td>\n",
              "      <td>-0.204312</td>\n",
              "      <td>0.637503</td>\n",
              "      <td>0.818644</td>\n",
              "      <td>1.000000</td>\n",
              "      <td>0.835860</td>\n",
              "      <td>0.787904</td>\n",
              "      <td>0.619556</td>\n",
              "      <td>0.647197</td>\n",
              "      <td>0.700676</td>\n",
              "      <td>...</td>\n",
              "      <td>0.332472</td>\n",
              "      <td>0.321756</td>\n",
              "      <td>0.518682</td>\n",
              "      <td>0.304850</td>\n",
              "      <td>0.031141</td>\n",
              "      <td>0.345714</td>\n",
              "      <td>0.219389</td>\n",
              "      <td>0.300195</td>\n",
              "      <td>0.052844</td>\n",
              "      <td>0.713839</td>\n",
              "    </tr>\n",
              "    <tr>\n",
              "      <th>OccuPational Hazards</th>\n",
              "      <td>0.062177</td>\n",
              "      <td>-0.192343</td>\n",
              "      <td>0.608924</td>\n",
              "      <td>0.878786</td>\n",
              "      <td>0.835860</td>\n",
              "      <td>1.000000</td>\n",
              "      <td>0.893049</td>\n",
              "      <td>0.858284</td>\n",
              "      <td>0.691509</td>\n",
              "      <td>0.722191</td>\n",
              "      <td>...</td>\n",
              "      <td>0.267844</td>\n",
              "      <td>0.176226</td>\n",
              "      <td>0.366482</td>\n",
              "      <td>0.178925</td>\n",
              "      <td>-0.002853</td>\n",
              "      <td>0.366447</td>\n",
              "      <td>0.077166</td>\n",
              "      <td>0.159887</td>\n",
              "      <td>0.022916</td>\n",
              "      <td>0.673255</td>\n",
              "    </tr>\n",
              "    <tr>\n",
              "      <th>Genetic Risk</th>\n",
              "      <td>0.073151</td>\n",
              "      <td>-0.222727</td>\n",
              "      <td>0.705276</td>\n",
              "      <td>0.877210</td>\n",
              "      <td>0.787904</td>\n",
              "      <td>0.893049</td>\n",
              "      <td>1.000000</td>\n",
              "      <td>0.836231</td>\n",
              "      <td>0.679905</td>\n",
              "      <td>0.729826</td>\n",
              "      <td>...</td>\n",
              "      <td>0.230530</td>\n",
              "      <td>0.271743</td>\n",
              "      <td>0.458200</td>\n",
              "      <td>0.204973</td>\n",
              "      <td>-0.062948</td>\n",
              "      <td>0.357815</td>\n",
              "      <td>0.087092</td>\n",
              "      <td>0.194399</td>\n",
              "      <td>-0.056831</td>\n",
              "      <td>0.701303</td>\n",
              "    </tr>\n",
              "    <tr>\n",
              "      <th>chronic Lung Disease</th>\n",
              "      <td>0.128952</td>\n",
              "      <td>-0.205061</td>\n",
              "      <td>0.626701</td>\n",
              "      <td>0.763576</td>\n",
              "      <td>0.619556</td>\n",
              "      <td>0.858284</td>\n",
              "      <td>0.836231</td>\n",
              "      <td>1.000000</td>\n",
              "      <td>0.622632</td>\n",
              "      <td>0.601754</td>\n",
              "      <td>...</td>\n",
              "      <td>0.247697</td>\n",
              "      <td>0.104080</td>\n",
              "      <td>0.182426</td>\n",
              "      <td>0.057214</td>\n",
              "      <td>0.007279</td>\n",
              "      <td>0.298023</td>\n",
              "      <td>0.028759</td>\n",
              "      <td>0.114161</td>\n",
              "      <td>0.043375</td>\n",
              "      <td>0.609971</td>\n",
              "    </tr>\n",
              "    <tr>\n",
              "      <th>Balanced Diet</th>\n",
              "      <td>0.004863</td>\n",
              "      <td>-0.099741</td>\n",
              "      <td>0.524873</td>\n",
              "      <td>0.653352</td>\n",
              "      <td>0.647197</td>\n",
              "      <td>0.691509</td>\n",
              "      <td>0.679905</td>\n",
              "      <td>0.622632</td>\n",
              "      <td>1.000000</td>\n",
              "      <td>0.706922</td>\n",
              "      <td>...</td>\n",
              "      <td>0.400678</td>\n",
              "      <td>-0.006544</td>\n",
              "      <td>0.343623</td>\n",
              "      <td>0.063930</td>\n",
              "      <td>0.046807</td>\n",
              "      <td>0.041967</td>\n",
              "      <td>0.263931</td>\n",
              "      <td>0.331995</td>\n",
              "      <td>0.152677</td>\n",
              "      <td>0.706273</td>\n",
              "    </tr>\n",
              "    <tr>\n",
              "      <th>Obesity</th>\n",
              "      <td>0.034337</td>\n",
              "      <td>-0.123813</td>\n",
              "      <td>0.601468</td>\n",
              "      <td>0.669312</td>\n",
              "      <td>0.700676</td>\n",
              "      <td>0.722191</td>\n",
              "      <td>0.729826</td>\n",
              "      <td>0.601754</td>\n",
              "      <td>0.706922</td>\n",
              "      <td>1.000000</td>\n",
              "      <td>...</td>\n",
              "      <td>0.552788</td>\n",
              "      <td>0.313495</td>\n",
              "      <td>0.406203</td>\n",
              "      <td>0.094287</td>\n",
              "      <td>0.127213</td>\n",
              "      <td>0.149093</td>\n",
              "      <td>0.288368</td>\n",
              "      <td>0.200618</td>\n",
              "      <td>0.039422</td>\n",
              "      <td>0.827435</td>\n",
              "    </tr>\n",
              "    <tr>\n",
              "      <th>Smoking</th>\n",
              "      <td>0.075333</td>\n",
              "      <td>-0.206924</td>\n",
              "      <td>0.481902</td>\n",
              "      <td>0.547035</td>\n",
              "      <td>0.358691</td>\n",
              "      <td>0.497693</td>\n",
              "      <td>0.543259</td>\n",
              "      <td>0.578585</td>\n",
              "      <td>0.645390</td>\n",
              "      <td>0.486795</td>\n",
              "      <td>...</td>\n",
              "      <td>0.200029</td>\n",
              "      <td>-0.212937</td>\n",
              "      <td>-0.023259</td>\n",
              "      <td>-0.047060</td>\n",
              "      <td>0.236141</td>\n",
              "      <td>-0.041147</td>\n",
              "      <td>0.039585</td>\n",
              "      <td>0.010101</td>\n",
              "      <td>0.189055</td>\n",
              "      <td>0.519530</td>\n",
              "    </tr>\n",
              "    <tr>\n",
              "      <th>Passive Smoker</th>\n",
              "      <td>0.004908</td>\n",
              "      <td>-0.184826</td>\n",
              "      <td>0.606764</td>\n",
              "      <td>0.592576</td>\n",
              "      <td>0.560002</td>\n",
              "      <td>0.555311</td>\n",
              "      <td>0.609071</td>\n",
              "      <td>0.572698</td>\n",
              "      <td>0.725123</td>\n",
              "      <td>0.681889</td>\n",
              "      <td>...</td>\n",
              "      <td>0.377919</td>\n",
              "      <td>0.058336</td>\n",
              "      <td>0.062948</td>\n",
              "      <td>0.200283</td>\n",
              "      <td>0.348922</td>\n",
              "      <td>-0.035536</td>\n",
              "      <td>0.104553</td>\n",
              "      <td>0.120761</td>\n",
              "      <td>0.247943</td>\n",
              "      <td>0.703594</td>\n",
              "    </tr>\n",
              "    <tr>\n",
              "      <th>Chest Pain</th>\n",
              "      <td>0.012864</td>\n",
              "      <td>-0.218426</td>\n",
              "      <td>0.585734</td>\n",
              "      <td>0.717242</td>\n",
              "      <td>0.639983</td>\n",
              "      <td>0.775619</td>\n",
              "      <td>0.831751</td>\n",
              "      <td>0.782646</td>\n",
              "      <td>0.798207</td>\n",
              "      <td>0.673150</td>\n",
              "      <td>...</td>\n",
              "      <td>0.251135</td>\n",
              "      <td>-0.001092</td>\n",
              "      <td>0.237045</td>\n",
              "      <td>0.107211</td>\n",
              "      <td>0.071784</td>\n",
              "      <td>0.081386</td>\n",
              "      <td>0.042937</td>\n",
              "      <td>0.142180</td>\n",
              "      <td>0.140036</td>\n",
              "      <td>0.645461</td>\n",
              "    </tr>\n",
              "    <tr>\n",
              "      <th>Coughing of Blood</th>\n",
              "      <td>0.053006</td>\n",
              "      <td>-0.146505</td>\n",
              "      <td>0.607829</td>\n",
              "      <td>0.667612</td>\n",
              "      <td>0.625291</td>\n",
              "      <td>0.645947</td>\n",
              "      <td>0.632236</td>\n",
              "      <td>0.602987</td>\n",
              "      <td>0.745054</td>\n",
              "      <td>0.814805</td>\n",
              "      <td>...</td>\n",
              "      <td>0.481540</td>\n",
              "      <td>0.105857</td>\n",
              "      <td>0.318777</td>\n",
              "      <td>-0.085698</td>\n",
              "      <td>0.086289</td>\n",
              "      <td>-0.066443</td>\n",
              "      <td>0.244235</td>\n",
              "      <td>0.147659</td>\n",
              "      <td>0.087944</td>\n",
              "      <td>0.782092</td>\n",
              "    </tr>\n",
              "    <tr>\n",
              "      <th>Fatigue</th>\n",
              "      <td>0.095059</td>\n",
              "      <td>-0.116467</td>\n",
              "      <td>0.211724</td>\n",
              "      <td>0.237245</td>\n",
              "      <td>0.332472</td>\n",
              "      <td>0.267844</td>\n",
              "      <td>0.230530</td>\n",
              "      <td>0.247697</td>\n",
              "      <td>0.400678</td>\n",
              "      <td>0.552788</td>\n",
              "      <td>...</td>\n",
              "      <td>1.000000</td>\n",
              "      <td>0.469517</td>\n",
              "      <td>0.398625</td>\n",
              "      <td>0.174477</td>\n",
              "      <td>0.149562</td>\n",
              "      <td>0.040694</td>\n",
              "      <td>0.407915</td>\n",
              "      <td>0.271167</td>\n",
              "      <td>0.231748</td>\n",
              "      <td>0.625114</td>\n",
              "    </tr>\n",
              "    <tr>\n",
              "      <th>Weight Loss</th>\n",
              "      <td>0.106946</td>\n",
              "      <td>-0.057993</td>\n",
              "      <td>0.258016</td>\n",
              "      <td>0.207851</td>\n",
              "      <td>0.321756</td>\n",
              "      <td>0.176226</td>\n",
              "      <td>0.271743</td>\n",
              "      <td>0.104080</td>\n",
              "      <td>-0.006544</td>\n",
              "      <td>0.313495</td>\n",
              "      <td>...</td>\n",
              "      <td>0.469517</td>\n",
              "      <td>1.000000</td>\n",
              "      <td>0.574497</td>\n",
              "      <td>0.331179</td>\n",
              "      <td>0.053384</td>\n",
              "      <td>0.376484</td>\n",
              "      <td>0.160348</td>\n",
              "      <td>0.188598</td>\n",
              "      <td>-0.189106</td>\n",
              "      <td>0.352738</td>\n",
              "    </tr>\n",
              "    <tr>\n",
              "      <th>Shortness of Breath</th>\n",
              "      <td>0.035329</td>\n",
              "      <td>-0.045972</td>\n",
              "      <td>0.269558</td>\n",
              "      <td>0.435785</td>\n",
              "      <td>0.518682</td>\n",
              "      <td>0.366482</td>\n",
              "      <td>0.458200</td>\n",
              "      <td>0.182426</td>\n",
              "      <td>0.343623</td>\n",
              "      <td>0.406203</td>\n",
              "      <td>...</td>\n",
              "      <td>0.398625</td>\n",
              "      <td>0.574497</td>\n",
              "      <td>1.000000</td>\n",
              "      <td>0.207564</td>\n",
              "      <td>-0.200477</td>\n",
              "      <td>0.474275</td>\n",
              "      <td>0.351489</td>\n",
              "      <td>0.493331</td>\n",
              "      <td>-0.159291</td>\n",
              "      <td>0.497024</td>\n",
              "    </tr>\n",
              "    <tr>\n",
              "      <th>Wheezing</th>\n",
              "      <td>-0.095354</td>\n",
              "      <td>-0.076304</td>\n",
              "      <td>0.055368</td>\n",
              "      <td>0.180817</td>\n",
              "      <td>0.304850</td>\n",
              "      <td>0.178925</td>\n",
              "      <td>0.204973</td>\n",
              "      <td>0.057214</td>\n",
              "      <td>0.063930</td>\n",
              "      <td>0.094287</td>\n",
              "      <td>...</td>\n",
              "      <td>0.174477</td>\n",
              "      <td>0.331179</td>\n",
              "      <td>0.207564</td>\n",
              "      <td>1.000000</td>\n",
              "      <td>0.393487</td>\n",
              "      <td>0.338271</td>\n",
              "      <td>0.098855</td>\n",
              "      <td>0.054388</td>\n",
              "      <td>0.116183</td>\n",
              "      <td>0.242794</td>\n",
              "    </tr>\n",
              "    <tr>\n",
              "      <th>Swallowing Difficulty</th>\n",
              "      <td>-0.105833</td>\n",
              "      <td>-0.058324</td>\n",
              "      <td>-0.080918</td>\n",
              "      <td>-0.114073</td>\n",
              "      <td>0.031141</td>\n",
              "      <td>-0.002853</td>\n",
              "      <td>-0.062948</td>\n",
              "      <td>0.007279</td>\n",
              "      <td>0.046807</td>\n",
              "      <td>0.127213</td>\n",
              "      <td>...</td>\n",
              "      <td>0.149562</td>\n",
              "      <td>0.053384</td>\n",
              "      <td>-0.200477</td>\n",
              "      <td>0.393487</td>\n",
              "      <td>1.000000</td>\n",
              "      <td>-0.119741</td>\n",
              "      <td>0.132363</td>\n",
              "      <td>-0.055428</td>\n",
              "      <td>0.210540</td>\n",
              "      <td>0.249142</td>\n",
              "    </tr>\n",
              "    <tr>\n",
              "      <th>Clubbing of Finger Nails</th>\n",
              "      <td>0.039258</td>\n",
              "      <td>-0.034219</td>\n",
              "      <td>0.241065</td>\n",
              "      <td>0.414992</td>\n",
              "      <td>0.345714</td>\n",
              "      <td>0.366447</td>\n",
              "      <td>0.357815</td>\n",
              "      <td>0.298023</td>\n",
              "      <td>0.041967</td>\n",
              "      <td>0.149093</td>\n",
              "      <td>...</td>\n",
              "      <td>0.040694</td>\n",
              "      <td>0.376484</td>\n",
              "      <td>0.474275</td>\n",
              "      <td>0.338271</td>\n",
              "      <td>-0.119741</td>\n",
              "      <td>1.000000</td>\n",
              "      <td>0.242529</td>\n",
              "      <td>0.307271</td>\n",
              "      <td>-0.017537</td>\n",
              "      <td>0.280063</td>\n",
              "    </tr>\n",
              "    <tr>\n",
              "      <th>Frequent Cold</th>\n",
              "      <td>-0.012706</td>\n",
              "      <td>-0.000526</td>\n",
              "      <td>0.174539</td>\n",
              "      <td>0.180778</td>\n",
              "      <td>0.219389</td>\n",
              "      <td>0.077166</td>\n",
              "      <td>0.087092</td>\n",
              "      <td>0.028759</td>\n",
              "      <td>0.263931</td>\n",
              "      <td>0.288368</td>\n",
              "      <td>...</td>\n",
              "      <td>0.407915</td>\n",
              "      <td>0.160348</td>\n",
              "      <td>0.351489</td>\n",
              "      <td>0.098855</td>\n",
              "      <td>0.132363</td>\n",
              "      <td>0.242529</td>\n",
              "      <td>1.000000</td>\n",
              "      <td>0.515918</td>\n",
              "      <td>0.335844</td>\n",
              "      <td>0.444017</td>\n",
              "    </tr>\n",
              "    <tr>\n",
              "      <th>Dry Cough</th>\n",
              "      <td>0.012128</td>\n",
              "      <td>-0.123001</td>\n",
              "      <td>0.261489</td>\n",
              "      <td>0.211277</td>\n",
              "      <td>0.300195</td>\n",
              "      <td>0.159887</td>\n",
              "      <td>0.194399</td>\n",
              "      <td>0.114161</td>\n",
              "      <td>0.331995</td>\n",
              "      <td>0.200618</td>\n",
              "      <td>...</td>\n",
              "      <td>0.271167</td>\n",
              "      <td>0.188598</td>\n",
              "      <td>0.493331</td>\n",
              "      <td>0.054388</td>\n",
              "      <td>-0.055428</td>\n",
              "      <td>0.307271</td>\n",
              "      <td>0.515918</td>\n",
              "      <td>1.000000</td>\n",
              "      <td>0.176146</td>\n",
              "      <td>0.373968</td>\n",
              "    </tr>\n",
              "    <tr>\n",
              "      <th>Snoring</th>\n",
              "      <td>-0.004700</td>\n",
              "      <td>-0.181618</td>\n",
              "      <td>-0.021343</td>\n",
              "      <td>0.122694</td>\n",
              "      <td>0.052844</td>\n",
              "      <td>0.022916</td>\n",
              "      <td>-0.056831</td>\n",
              "      <td>0.043375</td>\n",
              "      <td>0.152677</td>\n",
              "      <td>0.039422</td>\n",
              "      <td>...</td>\n",
              "      <td>0.231748</td>\n",
              "      <td>-0.189106</td>\n",
              "      <td>-0.159291</td>\n",
              "      <td>0.116183</td>\n",
              "      <td>0.210540</td>\n",
              "      <td>-0.017537</td>\n",
              "      <td>0.335844</td>\n",
              "      <td>0.176146</td>\n",
              "      <td>1.000000</td>\n",
              "      <td>0.289366</td>\n",
              "    </tr>\n",
              "    <tr>\n",
              "      <th>Level</th>\n",
              "      <td>0.060048</td>\n",
              "      <td>-0.164985</td>\n",
              "      <td>0.636038</td>\n",
              "      <td>0.718710</td>\n",
              "      <td>0.713839</td>\n",
              "      <td>0.673255</td>\n",
              "      <td>0.701303</td>\n",
              "      <td>0.609971</td>\n",
              "      <td>0.706273</td>\n",
              "      <td>0.827435</td>\n",
              "      <td>...</td>\n",
              "      <td>0.625114</td>\n",
              "      <td>0.352738</td>\n",
              "      <td>0.497024</td>\n",
              "      <td>0.242794</td>\n",
              "      <td>0.249142</td>\n",
              "      <td>0.280063</td>\n",
              "      <td>0.444017</td>\n",
              "      <td>0.373968</td>\n",
              "      <td>0.289366</td>\n",
              "      <td>1.000000</td>\n",
              "    </tr>\n",
              "  </tbody>\n",
              "</table>\n",
              "<p>24 rows × 24 columns</p>\n",
              "</div>\n",
              "      <button class=\"colab-df-convert\" onclick=\"convertToInteractive('df-96030894-a891-4893-9c1a-ed905257af35')\"\n",
              "              title=\"Convert this dataframe to an interactive table.\"\n",
              "              style=\"display:none;\">\n",
              "        \n",
              "  <svg xmlns=\"http://www.w3.org/2000/svg\" height=\"24px\"viewBox=\"0 0 24 24\"\n",
              "       width=\"24px\">\n",
              "    <path d=\"M0 0h24v24H0V0z\" fill=\"none\"/>\n",
              "    <path d=\"M18.56 5.44l.94 2.06.94-2.06 2.06-.94-2.06-.94-.94-2.06-.94 2.06-2.06.94zm-11 1L8.5 8.5l.94-2.06 2.06-.94-2.06-.94L8.5 2.5l-.94 2.06-2.06.94zm10 10l.94 2.06.94-2.06 2.06-.94-2.06-.94-.94-2.06-.94 2.06-2.06.94z\"/><path d=\"M17.41 7.96l-1.37-1.37c-.4-.4-.92-.59-1.43-.59-.52 0-1.04.2-1.43.59L10.3 9.45l-7.72 7.72c-.78.78-.78 2.05 0 2.83L4 21.41c.39.39.9.59 1.41.59.51 0 1.02-.2 1.41-.59l7.78-7.78 2.81-2.81c.8-.78.8-2.07 0-2.86zM5.41 20L4 18.59l7.72-7.72 1.47 1.35L5.41 20z\"/>\n",
              "  </svg>\n",
              "      </button>\n",
              "      \n",
              "  <style>\n",
              "    .colab-df-container {\n",
              "      display:flex;\n",
              "      flex-wrap:wrap;\n",
              "      gap: 12px;\n",
              "    }\n",
              "\n",
              "    .colab-df-convert {\n",
              "      background-color: #E8F0FE;\n",
              "      border: none;\n",
              "      border-radius: 50%;\n",
              "      cursor: pointer;\n",
              "      display: none;\n",
              "      fill: #1967D2;\n",
              "      height: 32px;\n",
              "      padding: 0 0 0 0;\n",
              "      width: 32px;\n",
              "    }\n",
              "\n",
              "    .colab-df-convert:hover {\n",
              "      background-color: #E2EBFA;\n",
              "      box-shadow: 0px 1px 2px rgba(60, 64, 67, 0.3), 0px 1px 3px 1px rgba(60, 64, 67, 0.15);\n",
              "      fill: #174EA6;\n",
              "    }\n",
              "\n",
              "    [theme=dark] .colab-df-convert {\n",
              "      background-color: #3B4455;\n",
              "      fill: #D2E3FC;\n",
              "    }\n",
              "\n",
              "    [theme=dark] .colab-df-convert:hover {\n",
              "      background-color: #434B5C;\n",
              "      box-shadow: 0px 1px 3px 1px rgba(0, 0, 0, 0.15);\n",
              "      filter: drop-shadow(0px 1px 2px rgba(0, 0, 0, 0.3));\n",
              "      fill: #FFFFFF;\n",
              "    }\n",
              "  </style>\n",
              "\n",
              "      <script>\n",
              "        const buttonEl =\n",
              "          document.querySelector('#df-96030894-a891-4893-9c1a-ed905257af35 button.colab-df-convert');\n",
              "        buttonEl.style.display =\n",
              "          google.colab.kernel.accessAllowed ? 'block' : 'none';\n",
              "\n",
              "        async function convertToInteractive(key) {\n",
              "          const element = document.querySelector('#df-96030894-a891-4893-9c1a-ed905257af35');\n",
              "          const dataTable =\n",
              "            await google.colab.kernel.invokeFunction('convertToInteractive',\n",
              "                                                     [key], {});\n",
              "          if (!dataTable) return;\n",
              "\n",
              "          const docLinkHtml = 'Like what you see? Visit the ' +\n",
              "            '<a target=\"_blank\" href=https://colab.research.google.com/notebooks/data_table.ipynb>data table notebook</a>'\n",
              "            + ' to learn more about interactive tables.';\n",
              "          element.innerHTML = '';\n",
              "          dataTable['output_type'] = 'display_data';\n",
              "          await google.colab.output.renderOutput(dataTable, element);\n",
              "          const docLink = document.createElement('div');\n",
              "          docLink.innerHTML = docLinkHtml;\n",
              "          element.appendChild(docLink);\n",
              "        }\n",
              "      </script>\n",
              "    </div>\n",
              "  </div>\n",
              "  "
            ]
          },
          "metadata": {},
          "execution_count": 17
        }
      ]
    },
    {
      "cell_type": "code",
      "source": [
        "\n",
        "dataplot = sns.heatmap(dataset.corr())"
      ],
      "metadata": {
        "colab": {
          "base_uri": "https://localhost:8080/",
          "height": 447
        },
        "id": "TF05SI1x4F0W",
        "outputId": "67f91f8e-ef24-4152-a74e-0c86b40e054e"
      },
      "execution_count": null,
      "outputs": [
        {
          "output_type": "display_data",
          "data": {
            "text/plain": [
              "<Figure size 576x396 with 2 Axes>"
            ],
            "image/png": "[encoded data removed]"
          },
          "metadata": {}
        }
      ]
    },
    {
      "cell_type": "markdown",
      "source": [
        "Scaling the data using Data Normalization"
      ],
      "metadata": {
        "id": "N9CPOCrwWp1R"
      }
    },
    {
      "cell_type": "code",
      "source": [
        "from sklearn.preprocessing import MinMaxScaler\n",
        "scaler = MinMaxScaler()\n",
        "scaled = scaler.fit_transform(dataset)"
      ],
      "metadata": {
        "id": "f2xwcQ7KvtEn"
      },
      "execution_count": null,
      "outputs": []
    },
    {
      "cell_type": "markdown",
      "source": [
        "Splitting the data for prediction"
      ],
      "metadata": {
        "id": "T1y9si0gXXZx"
      }
    },
    {
      "cell_type": "code",
      "source": [
        "X = dataset.iloc[:, :-1].values\n",
        "y = dataset.iloc[:, -1].values\n",
        "X"
      ],
      "metadata": {
        "colab": {
          "base_uri": "https://localhost:8080/"
        },
        "id": "KN6JJqiCvkBm",
        "outputId": "64fc4ec7-39df-4e8c-a75c-1af941678d95"
      },
      "execution_count": null,
      "outputs": [
        {
          "output_type": "execute_result",
          "data": {
            "text/plain": [
              "array([[33,  1,  2, ...,  2,  3,  4],\n",
              "       [17,  1,  3, ...,  1,  7,  2],\n",
              "       [35,  1,  4, ...,  6,  7,  2],\n",
              "       ...,\n",
              "       [25,  2,  4, ...,  6,  7,  2],\n",
              "       [18,  2,  6, ...,  4,  2,  3],\n",
              "       [47,  1,  6, ...,  6,  7,  2]])"
            ]
          },
          "metadata": {},
          "execution_count": 21
        }
      ]
    },
    {
      "cell_type": "code",
      "source": [
        "X[0]"
      ],
      "metadata": {
        "colab": {
          "base_uri": "https://localhost:8080/"
        },
        "id": "VP-okFgP1QI9",
        "outputId": "df429bb5-99af-48eb-f25a-007d70ffba6b"
      },
      "execution_count": null,
      "outputs": [
        {
          "output_type": "execute_result",
          "data": {
            "text/plain": [
              "array([33,  1,  2,  4,  5,  4,  3,  2,  2,  4,  3,  2,  2,  4,  3,  4,  2,\n",
              "        2,  3,  1,  2,  3,  4])"
            ]
          },
          "metadata": {},
          "execution_count": 22
        }
      ]
    },
    {
      "cell_type": "code",
      "source": [
        "dataset.head()"
      ],
      "metadata": {
        "colab": {
          "base_uri": "https://localhost:8080/",
          "height": 351
        },
        "id": "7BghEJ2u1P9Q",
        "outputId": "19f0bd7d-2aa2-48fc-b0a9-857512fc7807"
      },
      "execution_count": null,
      "outputs": [
        {
          "output_type": "execute_result",
          "data": {
            "text/plain": [
              "   Age  Gender  Air Pollution  Alcohol use  Dust Allergy  \\\n",
              "0   33       1              2            4             5   \n",
              "1   17       1              3            1             5   \n",
              "2   35       1              4            5             6   \n",
              "3   37       1              7            7             7   \n",
              "4   46       1              6            8             7   \n",
              "\n",
              "   OccuPational Hazards  Genetic Risk  chronic Lung Disease  Balanced Diet  \\\n",
              "0                     4             3                     2              2   \n",
              "1                     3             4                     2              2   \n",
              "2                     5             5                     4              6   \n",
              "3                     7             6                     7              7   \n",
              "4                     7             7                     6              7   \n",
              "\n",
              "   Obesity  ...  Fatigue  Weight Loss  Shortness of Breath  Wheezing  \\\n",
              "0        4  ...        3            4                    2         2   \n",
              "1        2  ...        1            3                    7         8   \n",
              "2        7  ...        8            7                    9         2   \n",
              "3        7  ...        4            2                    3         1   \n",
              "4        7  ...        3            2                    4         1   \n",
              "\n",
              "   Swallowing Difficulty  Clubbing of Finger Nails  Frequent Cold  Dry Cough  \\\n",
              "0                      3                         1              2          3   \n",
              "1                      6                         2              1          7   \n",
              "2                      1                         4              6          7   \n",
              "3                      4                         5              6          7   \n",
              "4                      4                         2              4          2   \n",
              "\n",
              "   Snoring  Level  \n",
              "0        4      0  \n",
              "1        2      1  \n",
              "2        2      2  \n",
              "3        5      2  \n",
              "4        3      2  \n",
              "\n",
              "[5 rows x 24 columns]"
            ],
            "text/html": [
              "\n",
              "  <div id=\"df-e577d20c-7c72-4475-a4c1-fbbe1ada56b5\">\n",
              "    <div class=\"colab-df-container\">\n",
              "      <div>\n",
              "<style scoped>\n",
              "    .dataframe tbody tr th:only-of-type {\n",
              "        vertical-align: middle;\n",
              "    }\n",
              "\n",
              "    .dataframe tbody tr th {\n",
              "        vertical-align: top;\n",
              "    }\n",
              "\n",
              "    .dataframe thead th {\n",
              "        text-align: right;\n",
              "    }\n",
              "</style>\n",
              "<table border=\"1\" class=\"dataframe\">\n",
              "  <thead>\n",
              "    <tr style=\"text-align: right;\">\n",
              "      <th></th>\n",
              "      <th>Age</th>\n",
              "      <th>Gender</th>\n",
              "      <th>Air Pollution</th>\n",
              "      <th>Alcohol use</th>\n",
              "      <th>Dust Allergy</th>\n",
              "      <th>OccuPational Hazards</th>\n",
              "      <th>Genetic Risk</th>\n",
              "      <th>chronic Lung Disease</th>\n",
              "      <th>Balanced Diet</th>\n",
              "      <th>Obesity</th>\n",
              "      <th>...</th>\n",
              "      <th>Fatigue</th>\n",
              "      <th>Weight Loss</th>\n",
              "      <th>Shortness of Breath</th>\n",
              "      <th>Wheezing</th>\n",
              "      <th>Swallowing Difficulty</th>\n",
              "      <th>Clubbing of Finger Nails</th>\n",
              "      <th>Frequent Cold</th>\n",
              "      <th>Dry Cough</th>\n",
              "      <th>Snoring</th>\n",
              "      <th>Level</th>\n",
              "    </tr>\n",
              "  </thead>\n",
              "  <tbody>\n",
              "    <tr>\n",
              "      <th>0</th>\n",
              "      <td>33</td>\n",
              "      <td>1</td>\n",
              "      <td>2</td>\n",
              "      <td>4</td>\n",
              "      <td>5</td>\n",
              "      <td>4</td>\n",
              "      <td>3</td>\n",
              "      <td>2</td>\n",
              "      <td>2</td>\n",
              "      <td>4</td>\n",
              "      <td>...</td>\n",
              "      <td>3</td>\n",
              "      <td>4</td>\n",
              "      <td>2</td>\n",
              "      <td>2</td>\n",
              "      <td>3</td>\n",
              "      <td>1</td>\n",
              "      <td>2</td>\n",
              "      <td>3</td>\n",
              "      <td>4</td>\n",
              "      <td>0</td>\n",
              "    </tr>\n",
              "    <tr>\n",
              "      <th>1</th>\n",
              "      <td>17</td>\n",
              "      <td>1</td>\n",
              "      <td>3</td>\n",
              "      <td>1</td>\n",
              "      <td>5</td>\n",
              "      <td>3</td>\n",
              "      <td>4</td>\n",
              "      <td>2</td>\n",
              "      <td>2</td>\n",
              "      <td>2</td>\n",
              "      <td>...</td>\n",
              "      <td>1</td>\n",
              "      <td>3</td>\n",
              "      <td>7</td>\n",
              "      <td>8</td>\n",
              "      <td>6</td>\n",
              "      <td>2</td>\n",
              "      <td>1</td>\n",
              "      <td>7</td>\n",
              "      <td>2</td>\n",
              "      <td>1</td>\n",
              "    </tr>\n",
              "    <tr>\n",
              "      <th>2</th>\n",
              "      <td>35</td>\n",
              "      <td>1</td>\n",
              "      <td>4</td>\n",
              "      <td>5</td>\n",
              "      <td>6</td>\n",
              "      <td>5</td>\n",
              "      <td>5</td>\n",
              "      <td>4</td>\n",
              "      <td>6</td>\n",
              "      <td>7</td>\n",
              "      <td>...</td>\n",
              "      <td>8</td>\n",
              "      <td>7</td>\n",
              "      <td>9</td>\n",
              "      <td>2</td>\n",
              "      <td>1</td>\n",
              "      <td>4</td>\n",
              "      <td>6</td>\n",
              "      <td>7</td>\n",
              "      <td>2</td>\n",
              "      <td>2</td>\n",
              "    </tr>\n",
              "    <tr>\n",
              "      <th>3</th>\n",
              "      <td>37</td>\n",
              "      <td>1</td>\n",
              "      <td>7</td>\n",
              "      <td>7</td>\n",
              "      <td>7</td>\n",
              "      <td>7</td>\n",
              "      <td>6</td>\n",
              "      <td>7</td>\n",
              "      <td>7</td>\n",
              "      <td>7</td>\n",
              "      <td>...</td>\n",
              "      <td>4</td>\n",
              "      <td>2</td>\n",
              "      <td>3</td>\n",
              "      <td>1</td>\n",
              "      <td>4</td>\n",
              "      <td>5</td>\n",
              "      <td>6</td>\n",
              "      <td>7</td>\n",
              "      <td>5</td>\n",
              "      <td>2</td>\n",
              "    </tr>\n",
              "    <tr>\n",
              "      <th>4</th>\n",
              "      <td>46</td>\n",
              "      <td>1</td>\n",
              "      <td>6</td>\n",
              "      <td>8</td>\n",
              "      <td>7</td>\n",
              "      <td>7</td>\n",
              "      <td>7</td>\n",
              "      <td>6</td>\n",
              "      <td>7</td>\n",
              "      <td>7</td>\n",
              "      <td>...</td>\n",
              "      <td>3</td>\n",
              "      <td>2</td>\n",
              "      <td>4</td>\n",
              "      <td>1</td>\n",
              "      <td>4</td>\n",
              "      <td>2</td>\n",
              "      <td>4</td>\n",
              "      <td>2</td>\n",
              "      <td>3</td>\n",
              "      <td>2</td>\n",
              "    </tr>\n",
              "  </tbody>\n",
              "</table>\n",
              "<p>5 rows × 24 columns</p>\n",
              "</div>\n",
              "      <button class=\"colab-df-convert\" onclick=\"convertToInteractive('df-e577d20c-7c72-4475-a4c1-fbbe1ada56b5')\"\n",
              "              title=\"Convert this dataframe to an interactive table.\"\n",
              "              style=\"display:none;\">\n",
              "        \n",
              "  <svg xmlns=\"http://www.w3.org/2000/svg\" height=\"24px\"viewBox=\"0 0 24 24\"\n",
              "       width=\"24px\">\n",
              "    <path d=\"M0 0h24v24H0V0z\" fill=\"none\"/>\n",
              "    <path d=\"M18.56 5.44l.94 2.06.94-2.06 2.06-.94-2.06-.94-.94-2.06-.94 2.06-2.06.94zm-11 1L8.5 8.5l.94-2.06 2.06-.94-2.06-.94L8.5 2.5l-.94 2.06-2.06.94zm10 10l.94 2.06.94-2.06 2.06-.94-2.06-.94-.94-2.06-.94 2.06-2.06.94z\"/><path d=\"M17.41 7.96l-1.37-1.37c-.4-.4-.92-.59-1.43-.59-.52 0-1.04.2-1.43.59L10.3 9.45l-7.72 7.72c-.78.78-.78 2.05 0 2.83L4 21.41c.39.39.9.59 1.41.59.51 0 1.02-.2 1.41-.59l7.78-7.78 2.81-2.81c.8-.78.8-2.07 0-2.86zM5.41 20L4 18.59l7.72-7.72 1.47 1.35L5.41 20z\"/>\n",
              "  </svg>\n",
              "      </button>\n",
              "      \n",
              "  <style>\n",
              "    .colab-df-container {\n",
              "      display:flex;\n",
              "      flex-wrap:wrap;\n",
              "      gap: 12px;\n",
              "    }\n",
              "\n",
              "    .colab-df-convert {\n",
              "      background-color: #E8F0FE;\n",
              "      border: none;\n",
              "      border-radius: 50%;\n",
              "      cursor: pointer;\n",
              "      display: none;\n",
              "      fill: #1967D2;\n",
              "      height: 32px;\n",
              "      padding: 0 0 0 0;\n",
              "      width: 32px;\n",
              "    }\n",
              "\n",
              "    .colab-df-convert:hover {\n",
              "      background-color: #E2EBFA;\n",
              "      box-shadow: 0px 1px 2px rgba(60, 64, 67, 0.3), 0px 1px 3px 1px rgba(60, 64, 67, 0.15);\n",
              "      fill: #174EA6;\n",
              "    }\n",
              "\n",
              "    [theme=dark] .colab-df-convert {\n",
              "      background-color: #3B4455;\n",
              "      fill: #D2E3FC;\n",
              "    }\n",
              "\n",
              "    [theme=dark] .colab-df-convert:hover {\n",
              "      background-color: #434B5C;\n",
              "      box-shadow: 0px 1px 3px 1px rgba(0, 0, 0, 0.15);\n",
              "      filter: drop-shadow(0px 1px 2px rgba(0, 0, 0, 0.3));\n",
              "      fill: #FFFFFF;\n",
              "    }\n",
              "  </style>\n",
              "\n",
              "      <script>\n",
              "        const buttonEl =\n",
              "          document.querySelector('#df-e577d20c-7c72-4475-a4c1-fbbe1ada56b5 button.colab-df-convert');\n",
              "        buttonEl.style.display =\n",
              "          google.colab.kernel.accessAllowed ? 'block' : 'none';\n",
              "\n",
              "        async function convertToInteractive(key) {\n",
              "          const element = document.querySelector('#df-e577d20c-7c72-4475-a4c1-fbbe1ada56b5');\n",
              "          const dataTable =\n",
              "            await google.colab.kernel.invokeFunction('convertToInteractive',\n",
              "                                                     [key], {});\n",
              "          if (!dataTable) return;\n",
              "\n",
              "          const docLinkHtml = 'Like what you see? Visit the ' +\n",
              "            '<a target=\"_blank\" href=https://colab.research.google.com/notebooks/data_table.ipynb>data table notebook</a>'\n",
              "            + ' to learn more about interactive tables.';\n",
              "          element.innerHTML = '';\n",
              "          dataTable['output_type'] = 'display_data';\n",
              "          await google.colab.output.renderOutput(dataTable, element);\n",
              "          const docLink = document.createElement('div');\n",
              "          docLink.innerHTML = docLinkHtml;\n",
              "          element.appendChild(docLink);\n",
              "        }\n",
              "      </script>\n",
              "    </div>\n",
              "  </div>\n",
              "  "
            ]
          },
          "metadata": {},
          "execution_count": 23
        }
      ]
    },
    {
      "cell_type": "markdown",
      "source": [
        "Splitting the data into 25% for test and 75% for training"
      ],
      "metadata": {
        "id": "_piCJIY5XkHt"
      }
    },
    {
      "cell_type": "code",
      "source": [
        "x_train, x_test, y_train, y_test = train_test_split(X, y, test_size = 0.25, random_state=42)"
      ],
      "metadata": {
        "id": "v2oBdXQXvZW6"
      },
      "execution_count": null,
      "outputs": []
    },
    {
      "cell_type": "markdown",
      "source": [
        "Apllying the Support vector Classification algorithm , max iteration set to 1000"
      ],
      "metadata": {
        "id": "d2lNs5HMXrmV"
      }
    },
    {
      "cell_type": "code",
      "source": [
        "svc = SVC(max_iter=1000,random_state=0,kernel='poly')\n",
        "svc.fit(x_train,y_train)\n",
        "pred_svc = svc.predict(x_test)\n",
        "SVC = accuracy_score(pred_svc,y_test)*100\n",
        "sv = {'SVC':SVC}\n",
        "AccDict.update(sv)\n",
        "print(SVC)"
      ],
      "metadata": {
        "colab": {
          "base_uri": "https://localhost:8080/"
        },
        "id": "vPL5zf5NvF16",
        "outputId": "6bc9546c-d00d-4d75-a98b-c77a1bdaa14c"
      },
      "execution_count": null,
      "outputs": [
        {
          "output_type": "stream",
          "name": "stdout",
          "text": [
            "94.8\n"
          ]
        }
      ]
    },
    {
      "cell_type": "markdown",
      "source": [
        "cross validation using kfold"
      ],
      "metadata": {
        "id": "sCMCsqlfeY90"
      }
    },
    {
      "cell_type": "code",
      "source": [
        "kfold = KFold(n_splits=10, shuffle=True , random_state=10) \n",
        "score = cross_val_score(svc, X, y, cv=kfold, scoring='accuracy').mean()\n",
        "print(score)"
      ],
      "metadata": {
        "colab": {
          "base_uri": "https://localhost:8080/"
        },
        "id": "PDh9Z2qfAwNa",
        "outputId": "a9d04390-8b65-495d-bc31-3e4ce1b373a7"
      },
      "execution_count": null,
      "outputs": [
        {
          "output_type": "stream",
          "name": "stdout",
          "text": [
            "0.942\n"
          ]
        },
        {
          "output_type": "stream",
          "name": "stderr",
          "text": [
            "/usr/local/lib/python3.8/dist-packages/sklearn/svm/_base.py:284: ConvergenceWarning: Solver terminated early (max_iter=1000).  Consider pre-processing your data with StandardScaler or MinMaxScaler.\n",
            "  warnings.warn(\n",
            "/usr/local/lib/python3.8/dist-packages/sklearn/svm/_base.py:284: ConvergenceWarning: Solver terminated early (max_iter=1000).  Consider pre-processing your data with StandardScaler or MinMaxScaler.\n",
            "  warnings.warn(\n",
            "/usr/local/lib/python3.8/dist-packages/sklearn/svm/_base.py:284: ConvergenceWarning: Solver terminated early (max_iter=1000).  Consider pre-processing your data with StandardScaler or MinMaxScaler.\n",
            "  warnings.warn(\n",
            "/usr/local/lib/python3.8/dist-packages/sklearn/svm/_base.py:284: ConvergenceWarning: Solver terminated early (max_iter=1000).  Consider pre-processing your data with StandardScaler or MinMaxScaler.\n",
            "  warnings.warn(\n"
          ]
        }
      ]
    },
    {
      "cell_type": "markdown",
      "source": [
        "classification report to see how the algorithm working"
      ],
      "metadata": {
        "id": "OUYVE8FjedG3"
      }
    },
    {
      "cell_type": "code",
      "source": [
        "from sklearn.metrics import classification_report\n",
        "report = classification_report(y_test, pred_svc) \n",
        "\n",
        "print(classification_report(y_test, pred_svc))"
      ],
      "metadata": {
        "colab": {
          "base_uri": "https://localhost:8080/"
        },
        "id": "iOP5fCmHTWn5",
        "outputId": "a212b436-918f-49bc-c81e-ed72104be068"
      },
      "execution_count": null,
      "outputs": [
        {
          "output_type": "stream",
          "name": "stdout",
          "text": [
            "              precision    recall  f1-score   support\n",
            "\n",
            "           0       0.92      0.88      0.90        66\n",
            "           1       0.90      0.94      0.92        80\n",
            "           2       1.00      1.00      1.00       104\n",
            "\n",
            "    accuracy                           0.95       250\n",
            "   macro avg       0.94      0.94      0.94       250\n",
            "weighted avg       0.95      0.95      0.95       250\n",
            "\n"
          ]
        }
      ]
    },
    {
      "cell_type": "markdown",
      "source": [
        "Visualising the confusion matrix"
      ],
      "metadata": {
        "id": "ELfYOU8Nez9T"
      }
    },
    {
      "cell_type": "code",
      "source": [
        "conf_matrix = confusion_matrix(y_true=y_test, y_pred=pred_svc)\n",
        "\n",
        "fig, ax = plt.subplots(figsize=(7.5, 7.5))\n",
        "ax.matshow(conf_matrix, cmap=plt.cm.Blues, alpha=0.3)\n",
        "for i in range(conf_matrix.shape[0]):\n",
        "    for j in range(conf_matrix.shape[1]):\n",
        "        ax.text(x=j, y=i,s=conf_matrix[i, j], va='center', ha='center', size='xx-large')\n",
        "        \n",
        "plt.xlabel('Predictions', fontsize=18)\n",
        "plt.ylabel('Actuals', fontsize=18)\n",
        "plt.title('Confusion Matrix of Support Vector Classification', fontsize=18)\n",
        "plt.show()"
      ],
      "metadata": {
        "colab": {
          "base_uri": "https://localhost:8080/",
          "height": 499
        },
        "id": "C8Mb49MgvURj",
        "outputId": "735b127b-8b8e-4bd6-cc05-ec5457df4634"
      },
      "execution_count": null,
      "outputs": [
        {
          "output_type": "display_data",
          "data": {
            "text/plain": [
              "<Figure size 540x540 with 1 Axes>"
            ],
            "image/png": "[encoded data removed]"
          },
          "metadata": {}
        }
      ]
    },
    {
      "cell_type": "markdown",
      "source": [
        "Visuakizing the ROC curve"
      ],
      "metadata": {
        "id": "ku47ZtzNe70u"
      }
    },
    {
      "cell_type": "code",
      "source": [
        "visualizer = ROCAUC(svc, classes=[\"Low\", \"Medium\", \"High\"])\n",
        "visualizer.fit(x_train, y_train) \n",
        "visualizer.score(x_test, y_test)        \n",
        "visualizer.show()   "
      ],
      "metadata": {
        "colab": {
          "base_uri": "https://localhost:8080/",
          "height": 394
        },
        "id": "cshtq6cvUdLN",
        "outputId": "8d2fe7d3-2456-41f6-c66b-63f2a6d8599c"
      },
      "execution_count": null,
      "outputs": [
        {
          "output_type": "display_data",
          "data": {
            "text/plain": [
              "<Figure size 576x396 with 1 Axes>"
            ],
            "image/png": "[encoded data removed]"
          },
          "metadata": {}
        },
        {
          "output_type": "execute_result",
          "data": {
            "text/plain": [
              "<matplotlib.axes._subplots.AxesSubplot at 0x7f2dd78ab3a0>"
            ]
          },
          "metadata": {},
          "execution_count": 33
        }
      ]
    },
    {
      "cell_type": "code",
      "source": [
        "dt = DecisionTreeClassifier(random_state=0, max_depth=2)\n",
        "dt = dt.fit(x_train,y_train)\n",
        "pred_dt = dt.predict(x_test)\n",
        "dta = accuracy_score(pred_dt,y_test)*100\n",
        "dt1 = {'DecisionTree':dta}\n",
        "AccDict.update(dt1)\n",
        "print(dta)\n"
      ],
      "metadata": {
        "colab": {
          "base_uri": "https://localhost:8080/"
        },
        "id": "1_9YOTZFv6_l",
        "outputId": "7fa9561f-dbf9-48b1-d036-6c5216a5ee8a"
      },
      "execution_count": null,
      "outputs": [
        {
          "output_type": "stream",
          "name": "stdout",
          "text": [
            "83.2\n"
          ]
        }
      ]
    },
    {
      "cell_type": "code",
      "source": [
        "kfold = KFold(n_splits=10, shuffle=True , random_state=10) \n",
        "score = cross_val_score(dt, X, y, cv=kfold, scoring='accuracy').mean()\n",
        "print(score)"
      ],
      "metadata": {
        "colab": {
          "base_uri": "https://localhost:8080/"
        },
        "id": "p0yozzhKA0mB",
        "outputId": "801253ad-fe2e-4122-8348-36d2cc6bd18d"
      },
      "execution_count": null,
      "outputs": [
        {
          "output_type": "stream",
          "name": "stdout",
          "text": [
            "0.867\n"
          ]
        }
      ]
    },
    {
      "cell_type": "code",
      "source": [
        "conf_matrix = confusion_matrix(y_true=y_test, y_pred=pred_dt)\n",
        "\n",
        "fig, ax = plt.subplots(figsize=(7.5, 7.5))\n",
        "ax.matshow(conf_matrix, cmap=plt.cm.Blues, alpha=0.3)\n",
        "for i in range(conf_matrix.shape[0]):\n",
        "    for j in range(conf_matrix.shape[1]):\n",
        "        ax.text(x=j, y=i,s=conf_matrix[i, j], va='center', ha='center', size='xx-large')\n",
        "        \n",
        "plt.xlabel('Predictions', fontsize=18)\n",
        "plt.ylabel('Actuals', fontsize=18)\n",
        "plt.title('Confusion Matrix of Support Vector Classification', fontsize=18)\n",
        "plt.show()"
      ],
      "metadata": {
        "colab": {
          "base_uri": "https://localhost:8080/",
          "height": 499
        },
        "id": "vEfD4n1kwis0",
        "outputId": "b181787f-8ce0-4338-e003-577729a8329b"
      },
      "execution_count": null,
      "outputs": [
        {
          "output_type": "display_data",
          "data": {
            "text/plain": [
              "<Figure size 540x540 with 1 Axes>"
            ],
            "image/png": "[encoded data removed]"
          },
          "metadata": {}
        }
      ]
    },
    {
      "cell_type": "code",
      "source": [
        "from sklearn.metrics import classification_report\n",
        "print(classification_report(y_test, pred_dt))"
      ],
      "metadata": {
        "colab": {
          "base_uri": "https://localhost:8080/"
        },
        "id": "eY3VnNhWwrtn",
        "outputId": "740d99ef-acdd-40e8-ef6b-d747621fbd6f"
      },
      "execution_count": null,
      "outputs": [
        {
          "output_type": "stream",
          "name": "stdout",
          "text": [
            "              precision    recall  f1-score   support\n",
            "\n",
            "           0       0.61      1.00      0.76        66\n",
            "           1       1.00      0.71      0.83        80\n",
            "           2       1.00      0.82      0.90       104\n",
            "\n",
            "    accuracy                           0.83       250\n",
            "   macro avg       0.87      0.84      0.83       250\n",
            "weighted avg       0.90      0.83      0.84       250\n",
            "\n"
          ]
        }
      ]
    },
    {
      "cell_type": "code",
      "source": [
        "visualizer = ROCAUC(dt, classes=[\"Low\", \"Medium\", \"High\"])\n",
        "visualizer.fit(x_train, y_train) \n",
        "visualizer.score(x_test, y_test)        \n",
        "visualizer.show()   "
      ],
      "metadata": {
        "colab": {
          "base_uri": "https://localhost:8080/",
          "height": 394
        },
        "id": "SAFu1jNYwre7",
        "outputId": "c04bb530-a6ca-4b3c-f893-d46c48051d5e"
      },
      "execution_count": null,
      "outputs": [
        {
          "output_type": "display_data",
          "data": {
            "text/plain": [
              "<Figure size 576x396 with 1 Axes>"
            ],
            "image/png": "[encoded data removed]"
          },
          "metadata": {}
        },
        {
          "output_type": "execute_result",
          "data": {
            "text/plain": [
              "<matplotlib.axes._subplots.AxesSubplot at 0x7f2dd76f13d0>"
            ]
          },
          "metadata": {},
          "execution_count": 40
        }
      ]
    },
    {
      "cell_type": "code",
      "source": [
        "#model = DecisionTreeClassifier(criterion='entropy',max_depth=2,random_state=0)\n",
        "adaboost = AdaBoostClassifier(n_estimators=5, base_estimator=model,random_state=0)\n",
        "adaboost.fit(x_train,y_train)\n",
        "pred = adaboost.predict(x_test)\n",
        "ada = accuracy_score(y_test,pred)*100\n",
        "print(ada)\n",
        "ad = {'adaboost':ada}\n",
        "AccDict.update(ad)"
      ],
      "metadata": {
        "colab": {
          "base_uri": "https://localhost:8080/"
        },
        "id": "dX76GhL7wnw2",
        "outputId": "c0def502-8d85-4794-873e-3e58d4e46703"
      },
      "execution_count": null,
      "outputs": [
        {
          "output_type": "stream",
          "name": "stdout",
          "text": [
            "96.39999999999999\n"
          ]
        }
      ]
    },
    {
      "cell_type": "code",
      "source": [
        "kfold = KFold(n_splits=10, shuffle=True , random_state=10) \n",
        "score = cross_val_score(adaboost, X, y, cv=kfold, scoring='accuracy').mean()\n",
        "print(score)"
      ],
      "metadata": {
        "colab": {
          "base_uri": "https://localhost:8080/"
        },
        "id": "hxXlEfq_A5nw",
        "outputId": "a68ea06b-22e7-4c6e-c8ac-03a2a5390995"
      },
      "execution_count": null,
      "outputs": [
        {
          "output_type": "stream",
          "name": "stdout",
          "text": [
            "0.975\n"
          ]
        }
      ]
    },
    {
      "cell_type": "code",
      "source": [
        "conf_matrix = confusion_matrix(y_true=y_test, y_pred=pred)\n",
        "\n",
        "fig, ax = plt.subplots(figsize=(7.5, 7.5))\n",
        "ax.matshow(conf_matrix, cmap=plt.cm.Blues, alpha=0.3)\n",
        "for i in range(conf_matrix.shape[0]):\n",
        "    for j in range(conf_matrix.shape[1]):\n",
        "        ax.text(x=j, y=i,s=conf_matrix[i, j], va='center', ha='center', size='xx-large')\n",
        "        \n",
        "plt.xlabel('Predictions', fontsize=18)\n",
        "plt.ylabel('Actuals', fontsize=18)\n",
        "plt.title('Confusion Matrix of AdaBoost', fontsize=18)\n",
        "plt.show()"
      ],
      "metadata": {
        "colab": {
          "base_uri": "https://localhost:8080/",
          "height": 499
        },
        "id": "JCyT-PlEwvFh",
        "outputId": "8d751581-f30c-4403-e336-d088b5dd702c"
      },
      "execution_count": null,
      "outputs": [
        {
          "output_type": "display_data",
          "data": {
            "text/plain": [
              "<Figure size 540x540 with 1 Axes>"
            ],
            "image/png": "[encoded data removed]"
          },
          "metadata": {}
        }
      ]
    },
    {
      "cell_type": "code",
      "source": [
        "from sklearn.metrics import classification_report\n",
        "print(classification_report(y_test, pred))"
      ],
      "metadata": {
        "colab": {
          "base_uri": "https://localhost:8080/"
        },
        "id": "OISgkw4CxBKX",
        "outputId": "355c0485-e485-4a67-9efc-7d84151922f5"
      },
      "execution_count": null,
      "outputs": [
        {
          "output_type": "stream",
          "name": "stdout",
          "text": [
            "              precision    recall  f1-score   support\n",
            "\n",
            "           0       0.88      1.00      0.94        66\n",
            "           1       1.00      0.89      0.94        80\n",
            "           2       1.00      1.00      1.00       104\n",
            "\n",
            "    accuracy                           0.96       250\n",
            "   macro avg       0.96      0.96      0.96       250\n",
            "weighted avg       0.97      0.96      0.96       250\n",
            "\n"
          ]
        }
      ]
    },
    {
      "cell_type": "code",
      "source": [
        "visualizer = ROCAUC(adaboost, classes=[\"Low\", \"Medium\", \"High\"])\n",
        "visualizer.fit(x_train, y_train) \n",
        "visualizer.score(x_test, y_test)        \n",
        "visualizer.show()   "
      ],
      "metadata": {
        "colab": {
          "base_uri": "https://localhost:8080/",
          "height": 394
        },
        "id": "6zDANHcMxA7s",
        "outputId": "a12fb9d9-6182-475b-e083-15e5f48bab1d"
      },
      "execution_count": null,
      "outputs": [
        {
          "output_type": "display_data",
          "data": {
            "text/plain": [
              "<Figure size 576x396 with 1 Axes>"
            ],
            "image/png": "[encoded data removed]"
          },
          "metadata": {}
        },
        {
          "output_type": "execute_result",
          "data": {
            "text/plain": [
              "<matplotlib.axes._subplots.AxesSubplot at 0x7f2dd6a6f3d0>"
            ]
          },
          "metadata": {},
          "execution_count": 48
        }
      ]
    },
    {
      "cell_type": "code",
      "source": [
        "knn = KNeighborsClassifier(n_neighbors=20)\n",
        "knn.fit(x_train,y_train)\n",
        "pred_knn = knn.predict(x_test)\n",
        "KNN = accuracy_score(pred_knn,y_test)*100\n",
        "ki = {'KNN before':KNN}\n",
        "AccDict.update(ki)\n",
        "print(KNN)\n"
      ],
      "metadata": {
        "colab": {
          "base_uri": "https://localhost:8080/"
        },
        "id": "_L89g0IexQ6I",
        "outputId": "ecca59ea-d0d9-46e9-d640-c7ca0f87f805"
      },
      "execution_count": null,
      "outputs": [
        {
          "output_type": "stream",
          "name": "stdout",
          "text": [
            "92.4\n"
          ]
        }
      ]
    },
    {
      "cell_type": "code",
      "source": [
        "kfold = KFold(n_splits=10, shuffle=True , random_state=10) \n",
        "score = cross_val_score(knn, X, y, cv=kfold, scoring='accuracy').mean()\n",
        "print(score)"
      ],
      "metadata": {
        "colab": {
          "base_uri": "https://localhost:8080/"
        },
        "id": "OMh_28VoEvuv",
        "outputId": "5392ea25-6220-47a1-9ea6-f50915219983"
      },
      "execution_count": null,
      "outputs": [
        {
          "output_type": "stream",
          "name": "stdout",
          "text": [
            "0.922\n"
          ]
        }
      ]
    },
    {
      "cell_type": "code",
      "source": [
        "conf_matrix = confusion_matrix(y_true=y_test, y_pred=pred_knn)\n",
        "conf_matrix\n",
        "fig, ax = plt.subplots(figsize=(7.5, 7.5))\n",
        "ax.matshow(conf_matrix, cmap=plt.cm.Blues, alpha=0.3)\n",
        "for i in range(conf_matrix.shape[0]):\n",
        "    for j in range(conf_matrix.shape[1]):\n",
        "        ax.text(x=j, y=i,s=conf_matrix[i, j], va='center', ha='center', size='xx-large')\n",
        "        \n",
        "plt.xlabel('Predictions', fontsize=18)\n",
        "plt.ylabel('Actuals', fontsize=18)\n",
        "plt.title('Confusion Matrix of KNN before', fontsize=18)\n",
        "plt.show()"
      ],
      "metadata": {
        "colab": {
          "base_uri": "https://localhost:8080/",
          "height": 499
        },
        "id": "sbnsbXmyxZIN",
        "outputId": "bf25aac6-eb5a-4db5-99a3-a4ec8a5fe952"
      },
      "execution_count": null,
      "outputs": [
        {
          "output_type": "display_data",
          "data": {
            "text/plain": [
              "<Figure size 540x540 with 1 Axes>"
            ],
            "image/png": "[encoded data removed]"
          },
          "metadata": {}
        }
      ]
    },
    {
      "cell_type": "code",
      "source": [
        "from sklearn.metrics import classification_report\n",
        "print(classification_report(y_test, pred_knn))"
      ],
      "metadata": {
        "colab": {
          "base_uri": "https://localhost:8080/"
        },
        "id": "TvG0p399xRkV",
        "outputId": "133f3dd6-77ba-4d6d-b02e-4565bd8f667f"
      },
      "execution_count": null,
      "outputs": [
        {
          "output_type": "stream",
          "name": "stdout",
          "text": [
            "              precision    recall  f1-score   support\n",
            "\n",
            "           0       0.96      0.83      0.89        66\n",
            "           1       0.87      0.90      0.88        80\n",
            "           2       0.95      1.00      0.97       104\n",
            "\n",
            "    accuracy                           0.92       250\n",
            "   macro avg       0.93      0.91      0.92       250\n",
            "weighted avg       0.93      0.92      0.92       250\n",
            "\n"
          ]
        }
      ]
    },
    {
      "cell_type": "code",
      "source": [
        "visualizer = ROCAUC(knn, classes=[\"Low\", \"Medium\", \"High\"])\n",
        "visualizer.fit(x_train, y_train) \n",
        "visualizer.score(x_test, y_test)        \n",
        "visualizer.show()   "
      ],
      "metadata": {
        "colab": {
          "base_uri": "https://localhost:8080/",
          "height": 394
        },
        "id": "Icua_96BxRct",
        "outputId": "e0d6cbd7-ce05-4ae4-b50a-54660330a898"
      },
      "execution_count": null,
      "outputs": [
        {
          "output_type": "display_data",
          "data": {
            "text/plain": [
              "<Figure size 576x396 with 1 Axes>"
            ],
            "image/png": "[encoded data removed]"
          },
          "metadata": {}
        },
        {
          "output_type": "execute_result",
          "data": {
            "text/plain": [
              "<matplotlib.axes._subplots.AxesSubplot at 0x7f2dd69883a0>"
            ]
          },
          "metadata": {},
          "execution_count": 53
        }
      ]
    },
    {
      "cell_type": "code",
      "source": [
        "error=[]\n",
        "v = 20\n",
        "for i in range(1,v):\n",
        "    knn = KNeighborsClassifier(n_neighbors=i)\n",
        "    knn.fit(x_train,y_train)\n",
        "    pred1=knn.predict(x_test)\n",
        "    error.append(np.mean(pred1!=y_test))\n",
        "plt.figure(figsize=(10,6))\n",
        "plt.plot(range(1,v),error,color='blue',linestyle='dashed',marker = 'o',markerfacecolor='red',markersize=10)\n",
        "plt.title('Error rate vs K value')\n",
        "plt.xlabel('k')\n",
        "plt.ylabel('error rate')"
      ],
      "metadata": {
        "colab": {
          "base_uri": "https://localhost:8080/",
          "height": 421
        },
        "id": "CshgJOksxf57",
        "outputId": "679d45bd-fd88-4205-f208-23624eb91ac5"
      },
      "execution_count": null,
      "outputs": [
        {
          "output_type": "execute_result",
          "data": {
            "text/plain": [
              "Text(0, 0.5, 'error rate')"
            ]
          },
          "metadata": {},
          "execution_count": 54
        },
        {
          "output_type": "display_data",
          "data": {
            "text/plain": [
              "<Figure size 720x432 with 1 Axes>"
            ],
            "image/png": "[encoded data removed]"
          },
          "metadata": {}
        }
      ]
    },
    {
      "cell_type": "code",
      "source": [
        "knn2 = KNeighborsClassifier(n_neighbors=4)\n",
        "knn2.fit(x_train,y_train)\n",
        "pred_knn2 = knn2.predict(x_test)\n",
        "KNN2 = accuracy_score(pred_knn2,y_test)*100\n",
        "ki2 = {'KNN after':KNN2}\n",
        "AccDict.update(ki2)\n",
        "print(KNN2)\n"
      ],
      "metadata": {
        "colab": {
          "base_uri": "https://localhost:8080/"
        },
        "id": "O-npPslXxowA",
        "outputId": "670afcf0-56ae-46a0-fc0d-4b2d1471a545"
      },
      "execution_count": null,
      "outputs": [
        {
          "output_type": "stream",
          "name": "stdout",
          "text": [
            "99.6\n"
          ]
        }
      ]
    },
    {
      "cell_type": "code",
      "source": [
        "from sklearn.metrics import classification_report\n",
        "print(classification_report(y_test, pred_knn2))"
      ],
      "metadata": {
        "colab": {
          "base_uri": "https://localhost:8080/"
        },
        "id": "aGj6yFYwxknQ",
        "outputId": "197d8056-a482-4406-9040-e9257c61867e"
      },
      "execution_count": null,
      "outputs": [
        {
          "output_type": "stream",
          "name": "stdout",
          "text": [
            "              precision    recall  f1-score   support\n",
            "\n",
            "           0       1.00      0.98      0.99        66\n",
            "           1       0.99      1.00      0.99        80\n",
            "           2       1.00      1.00      1.00       104\n",
            "\n",
            "    accuracy                           1.00       250\n",
            "   macro avg       1.00      0.99      1.00       250\n",
            "weighted avg       1.00      1.00      1.00       250\n",
            "\n"
          ]
        }
      ]
    },
    {
      "cell_type": "code",
      "source": [
        "visualizer = ROCAUC(knn2, classes=[\"Low\", \"Medium\", \"High\"])\n",
        "visualizer.fit(x_train, y_train) \n",
        "visualizer.score(x_test, y_test)        \n",
        "visualizer.show()   "
      ],
      "metadata": {
        "colab": {
          "base_uri": "https://localhost:8080/",
          "height": 394
        },
        "id": "l-UA5ACkxkaM",
        "outputId": "b4378b36-d559-4ce5-9c91-81b65f97f84f"
      },
      "execution_count": null,
      "outputs": [
        {
          "output_type": "display_data",
          "data": {
            "text/plain": [
              "<Figure size 576x396 with 1 Axes>"
            ],
            "image/png": "[encoded data removed]"
          },
          "metadata": {}
        },
        {
          "output_type": "execute_result",
          "data": {
            "text/plain": [
              "<matplotlib.axes._subplots.AxesSubplot at 0x7f2dd693f070>"
            ]
          },
          "metadata": {},
          "execution_count": 57
        }
      ]
    },
    {
      "cell_type": "code",
      "source": [
        "gnb=GaussianNB()\n",
        "gnb.fit(x_train,y_train)\n",
        "pred_gnb = gnb.predict(x_test)\n",
        "GNB = accuracy_score(pred_gnb,y_test)*100\n",
        "gb = {'Naive Bayes':GNB}\n",
        "AccDict.update(gb)\n",
        "print(GNB)"
      ],
      "metadata": {
        "colab": {
          "base_uri": "https://localhost:8080/"
        },
        "id": "jZYN-BJOzML5",
        "outputId": "fb2e4058-ebff-4dac-f183-d94a0c146bca"
      },
      "execution_count": null,
      "outputs": [
        {
          "output_type": "stream",
          "name": "stdout",
          "text": [
            "88.8\n"
          ]
        }
      ]
    },
    {
      "cell_type": "code",
      "source": [
        "kfold = KFold(n_splits=10, shuffle=True , random_state=10) \n",
        "score = cross_val_score(gnb, X, y, cv=kfold, scoring='accuracy').mean()\n",
        "print(score)"
      ],
      "metadata": {
        "colab": {
          "base_uri": "https://localhost:8080/"
        },
        "id": "t2YdjmBPE4g0",
        "outputId": "37e992e3-6e0e-4f0b-ddf6-f4166f80dc4b"
      },
      "execution_count": null,
      "outputs": [
        {
          "output_type": "stream",
          "name": "stdout",
          "text": [
            "0.891\n"
          ]
        }
      ]
    },
    {
      "cell_type": "code",
      "source": [
        "conf_matrix = confusion_matrix(y_true=y_test, y_pred=pred_gnb)\n",
        "\n",
        "fig, ax = plt.subplots(figsize=(7.5, 7.5))\n",
        "ax.matshow(conf_matrix, cmap=plt.cm.Blues, alpha=0.3)\n",
        "for i in range(conf_matrix.shape[0]):\n",
        "    for j in range(conf_matrix.shape[1]):\n",
        "        ax.text(x=j, y=i,s=conf_matrix[i, j], va='center', ha='center', size='xx-large')\n",
        "        \n",
        "plt.xlabel('Predictions', fontsize=18)\n",
        "plt.ylabel('Actuals', fontsize=18)\n",
        "plt.title('Confusion Matrix of Gaussian Naive Bayes', fontsize=18)\n",
        "plt.show()"
      ],
      "metadata": {
        "colab": {
          "base_uri": "https://localhost:8080/",
          "height": 499
        },
        "id": "vX77lpRIzR8C",
        "outputId": "06d1aac2-3769-4129-d4e3-ec3e48d2cb98"
      },
      "execution_count": null,
      "outputs": [
        {
          "output_type": "display_data",
          "data": {
            "text/plain": [
              "<Figure size 540x540 with 1 Axes>"
            ],
            "image/png": "[encoded data removed]"
          },
          "metadata": {}
        }
      ]
    },
    {
      "cell_type": "code",
      "source": [
        "from sklearn.metrics import classification_report\n",
        "print(classification_report(y_test, pred_gnb))"
      ],
      "metadata": {
        "colab": {
          "base_uri": "https://localhost:8080/"
        },
        "id": "uo6lALvCx5aw",
        "outputId": "e9e9856a-7bc9-4691-cd31-cb4f9035906b"
      },
      "execution_count": null,
      "outputs": [
        {
          "output_type": "stream",
          "name": "stdout",
          "text": [
            "              precision    recall  f1-score   support\n",
            "\n",
            "           0       1.00      0.85      0.92        66\n",
            "           1       0.85      0.85      0.85        80\n",
            "           2       0.86      0.94      0.90       104\n",
            "\n",
            "    accuracy                           0.89       250\n",
            "   macro avg       0.90      0.88      0.89       250\n",
            "weighted avg       0.89      0.89      0.89       250\n",
            "\n"
          ]
        }
      ]
    },
    {
      "cell_type": "code",
      "source": [
        "visualizer = ROCAUC(gnb, classes=[\"Low\", \"Medium\", \"High\"])\n",
        "visualizer.fit(x_train, y_train) \n",
        "visualizer.score(x_test, y_test)        \n",
        "visualizer.show()   "
      ],
      "metadata": {
        "colab": {
          "base_uri": "https://localhost:8080/",
          "height": 394
        },
        "id": "KQoVJDVYx5RP",
        "outputId": "43be5b7c-ff54-40f7-ea76-ad607c9e62b9"
      },
      "execution_count": null,
      "outputs": [
        {
          "output_type": "display_data",
          "data": {
            "text/plain": [
              "<Figure size 576x396 with 1 Axes>"
            ],
            "image/png": "[encoded data removed]"
          },
          "metadata": {}
        },
        {
          "output_type": "execute_result",
          "data": {
            "text/plain": [
              "<matplotlib.axes._subplots.AxesSubplot at 0x7f2dd69b9760>"
            ]
          },
          "metadata": {},
          "execution_count": 62
        }
      ]
    },
    {
      "cell_type": "code",
      "source": [
        "from sklearn.discriminant_analysis import LinearDiscriminantAnalysis\n",
        "lda=LinearDiscriminantAnalysis(solver='lsqr',shrinkage='auto')\n",
        "lda.fit(x_train,y_train)\n",
        "pred_lda = lda.predict(x_test)\n",
        "LDA = accuracy_score(pred_lda,y_test)*100\n",
        "ld = {'LDA':LDA}\n",
        "AccDict.update(ld)\n",
        "print(LDA)"
      ],
      "metadata": {
        "colab": {
          "base_uri": "https://localhost:8080/"
        },
        "id": "le0C8KRlzct3",
        "outputId": "4ce14be6-3343-4e67-c8c5-641ddd9ba291"
      },
      "execution_count": null,
      "outputs": [
        {
          "output_type": "stream",
          "name": "stdout",
          "text": [
            "96.8\n"
          ]
        }
      ]
    },
    {
      "cell_type": "code",
      "source": [
        "kfold = KFold(n_splits=10, shuffle=True , random_state=10) \n",
        "score = cross_val_score(lda, X, y, cv=kfold, scoring='accuracy').mean()\n",
        "print(score)"
      ],
      "metadata": {
        "colab": {
          "base_uri": "https://localhost:8080/"
        },
        "id": "63NvJFBVFW05",
        "outputId": "9aac28f7-b47d-4751-f2fe-fc797b66c161"
      },
      "execution_count": null,
      "outputs": [
        {
          "output_type": "stream",
          "name": "stdout",
          "text": [
            "0.966\n"
          ]
        }
      ]
    },
    {
      "cell_type": "code",
      "source": [
        "conf_matrix = confusion_matrix(y_true=y_test, y_pred=pred_lda)\n",
        "\n",
        "fig, ax = plt.subplots(figsize=(7.5, 7.5))\n",
        "ax.matshow(conf_matrix, cmap=plt.cm.Blues, alpha=0.3)\n",
        "for i in range(conf_matrix.shape[0]):\n",
        "    for j in range(conf_matrix.shape[1]):\n",
        "        ax.text(x=j, y=i,s=conf_matrix[i, j], va='center', ha='center', size='xx-large')\n",
        "        \n",
        "plt.xlabel('Predictions', fontsize=18)\n",
        "plt.ylabel('Actuals', fontsize=18)\n",
        "plt.title('Confusion Matrix of Gaussian Naive Bayes', fontsize=18)\n",
        "plt.show()"
      ],
      "metadata": {
        "colab": {
          "base_uri": "https://localhost:8080/",
          "height": 499
        },
        "id": "GViCmytUzc3o",
        "outputId": "7c8d40b7-aa48-4329-99dc-df61484cd60b"
      },
      "execution_count": null,
      "outputs": [
        {
          "output_type": "display_data",
          "data": {
            "text/plain": [
              "<Figure size 540x540 with 1 Axes>"
            ],
            "image/png": "[encoded data removed]"
          },
          "metadata": {}
        }
      ]
    },
    {
      "cell_type": "code",
      "source": [
        "from sklearn.metrics import classification_report\n",
        "print(classification_report(y_test, pred_lda))"
      ],
      "metadata": {
        "colab": {
          "base_uri": "https://localhost:8080/"
        },
        "id": "CY9PXgHAyDkK",
        "outputId": "d5d82aa4-40aa-4dd8-cd60-9f3f890c8f7f"
      },
      "execution_count": null,
      "outputs": [
        {
          "output_type": "stream",
          "name": "stdout",
          "text": [
            "              precision    recall  f1-score   support\n",
            "\n",
            "           0       1.00      0.88      0.94        66\n",
            "           1       0.91      1.00      0.95        80\n",
            "           2       1.00      1.00      1.00       104\n",
            "\n",
            "    accuracy                           0.97       250\n",
            "   macro avg       0.97      0.96      0.96       250\n",
            "weighted avg       0.97      0.97      0.97       250\n",
            "\n"
          ]
        }
      ]
    },
    {
      "cell_type": "code",
      "source": [
        "visualizer = ROCAUC(lda, classes=[\"Low\", \"Medium\", \"High\"])\n",
        "visualizer.fit(x_train, y_train) \n",
        "visualizer.score(x_test, y_test)        \n",
        "visualizer.show()   "
      ],
      "metadata": {
        "colab": {
          "base_uri": "https://localhost:8080/",
          "height": 394
        },
        "id": "7sMzfS-lyEmo",
        "outputId": "bab2e7a7-4152-46a0-fd94-aec422697e8b"
      },
      "execution_count": null,
      "outputs": [
        {
          "output_type": "display_data",
          "data": {
            "text/plain": [
              "<Figure size 576x396 with 1 Axes>"
            ],
            "image/png": "[encoded data removed]"
          },
          "metadata": {}
        },
        {
          "output_type": "execute_result",
          "data": {
            "text/plain": [
              "<matplotlib.axes._subplots.AxesSubplot at 0x7f2dd6bfb610>"
            ]
          },
          "metadata": {},
          "execution_count": 67
        }
      ]
    },
    {
      "cell_type": "code",
      "source": [
        "logistic_Regression = LogisticRegression(solver=\"sag\", max_iter=100, random_state=42, penalty='l2')\n",
        "logistic_Regression.fit(x_train,y_train)\n",
        "y_pred = logistic_Regression.predict(x_test)\n",
        "log = accuracy_score(y_pred,y_test)*100\n",
        "li = {'Logistic Regression':log}\n",
        "AccDict.update(li)\n",
        "print(log)"
      ],
      "metadata": {
        "colab": {
          "base_uri": "https://localhost:8080/"
        },
        "id": "JWcAH4PG1UfD",
        "outputId": "91ff3c2f-ab54-4a6b-90cd-426837436699"
      },
      "execution_count": null,
      "outputs": [
        {
          "output_type": "stream",
          "name": "stdout",
          "text": [
            "99.2\n"
          ]
        },
        {
          "output_type": "stream",
          "name": "stderr",
          "text": [
            "/usr/local/lib/python3.8/dist-packages/sklearn/linear_model/_sag.py:352: ConvergenceWarning: The max_iter was reached which means the coef_ did not converge\n",
            "  warnings.warn(\n"
          ]
        }
      ]
    },
    {
      "cell_type": "code",
      "source": [
        "conf_matrix = confusion_matrix(y_true=y_test, y_pred=y_pred)\n",
        "conf_matrix\n",
        "fig, ax = plt.subplots(figsize=(7.5, 7.5))\n",
        "ax.matshow(conf_matrix, cmap=plt.cm.Blues, alpha=0.3)\n",
        "for i in range(conf_matrix.shape[0]):\n",
        "    for j in range(conf_matrix.shape[1]):\n",
        "        ax.text(x=j, y=i,s=conf_matrix[i, j], va='center', ha='center', size='xx-large')\n",
        "        \n",
        "plt.xlabel('Predictions', fontsize=18)\n",
        "plt.ylabel('Actuals', fontsize=18)\n",
        "plt.title('Confusion Matrix of Logistic Regression', fontsize=18)\n",
        "plt.show()"
      ],
      "metadata": {
        "colab": {
          "base_uri": "https://localhost:8080/",
          "height": 499
        },
        "id": "-Qfp0QnP17wL",
        "outputId": "7e24b0b5-317b-4a83-9545-e8032eaaed9f"
      },
      "execution_count": null,
      "outputs": [
        {
          "output_type": "display_data",
          "data": {
            "text/plain": [
              "<Figure size 540x540 with 1 Axes>"
            ],
            "image/png": "[encoded data removed]"
          },
          "metadata": {}
        }
      ]
    },
    {
      "cell_type": "code",
      "source": [
        "print(classification_report(y_test, y_pred))"
      ],
      "metadata": {
        "colab": {
          "base_uri": "https://localhost:8080/"
        },
        "id": "KP81V7f5y3-E",
        "outputId": "65a23778-c3a6-4aad-f2f2-eec599304c75"
      },
      "execution_count": null,
      "outputs": [
        {
          "output_type": "stream",
          "name": "stdout",
          "text": [
            "              precision    recall  f1-score   support\n",
            "\n",
            "           0       0.97      1.00      0.99        66\n",
            "           1       1.00      0.97      0.99        80\n",
            "           2       1.00      1.00      1.00       104\n",
            "\n",
            "    accuracy                           0.99       250\n",
            "   macro avg       0.99      0.99      0.99       250\n",
            "weighted avg       0.99      0.99      0.99       250\n",
            "\n"
          ]
        }
      ]
    },
    {
      "cell_type": "code",
      "source": [
        "visualizer = ROCAUC(logistic_Regression, classes=[\"Low\", \"Medium\", \"High\"])\n",
        "visualizer.fit(x_train, y_train) \n",
        "visualizer.score(x_test, y_test)        \n",
        "visualizer.show()   "
      ],
      "metadata": {
        "colab": {
          "base_uri": "https://localhost:8080/",
          "height": 394
        },
        "id": "sENiBE3by3wm",
        "outputId": "a5002c1e-1bb3-4e65-e644-c7cb32cd18d4"
      },
      "execution_count": null,
      "outputs": [
        {
          "output_type": "display_data",
          "data": {
            "text/plain": [
              "<Figure size 576x396 with 1 Axes>"
            ],
            "image/png": "[encoded data removed]"
          },
          "metadata": {}
        },
        {
          "output_type": "execute_result",
          "data": {
            "text/plain": [
              "<matplotlib.axes._subplots.AxesSubplot at 0x7f2ddbe3b1f0>"
            ]
          },
          "metadata": {},
          "execution_count": 71
        }
      ]
    },
    {
      "cell_type": "code",
      "source": [
        "Classifier = list(AccDict.keys())\n",
        "Accuracy = list(AccDict.values())\n",
        "  \n",
        "fig = plt.figure(figsize = (15, 8))\n",
        " \n",
        "plt.bar(Classifier, Accuracy, color ='maroon',\n",
        "        width = 0.4)\n",
        " \n",
        "plt.xlabel(\"Classifier Used\")\n",
        "plt.ylabel(\"Accuracy\")\n",
        "plt.title(\"Comparison between Classifiers wtr to Accuracy\")\n",
        "plt.show()"
      ],
      "metadata": {
        "colab": {
          "base_uri": "https://localhost:8080/",
          "height": 512
        },
        "id": "wCwIZzjWx7Kj",
        "outputId": "b463b817-83f9-440a-9d82-362bdfbe0e98"
      },
      "execution_count": null,
      "outputs": [
        {
          "output_type": "display_data",
          "data": {
            "text/plain": [
              "<Figure size 1080x576 with 1 Axes>"
            ],
            "image/png": "[encoded data removed]"
          },
          "metadata": {}
        }
      ]
    },
    {
      "cell_type": "code",
      "source": [],
      "metadata": {
        "id": "ch7g_-2HVbcS"
      },
      "execution_count": null,
      "outputs": []
    }
  ]
}